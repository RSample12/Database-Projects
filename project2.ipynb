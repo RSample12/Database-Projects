{
 "cells": [
  {
   "cell_type": "code",
   "execution_count": 1,
   "id": "0e5762bf-fb0b-4bb2-8400-1d38c3ee2776",
   "metadata": {},
   "outputs": [
    {
     "name": "stdout",
     "output_type": "stream",
     "text": [
      "env: PGINSTANCE=pgsql\n"
     ]
    }
   ],
   "source": [
    "%env PGINSTANCE=pgsql"
   ]
  },
  {
   "cell_type": "code",
   "execution_count": 2,
   "id": "f7e24473-5c2c-4cc1-ac18-3e0eb2b5c143",
   "metadata": {},
   "outputs": [
    {
     "name": "stdout",
     "output_type": "stream",
     "text": [
      "env: BASE_DIR=/home/jupyter\n"
     ]
    }
   ],
   "source": [
    "%env BASE_DIR=/home/jupyter"
   ]
  },
  {
   "cell_type": "code",
   "execution_count": 3,
   "id": "9835716e-0956-4349-ae43-38feedb2980f",
   "metadata": {},
   "outputs": [
    {
     "name": "stdout",
     "output_type": "stream",
     "text": [
      "psql:/home/jupyter/pagila/pagila-schema.sql:8: NOTICE:  drop cascades to 47 other objects\n",
      "DETAIL:  drop cascades to type pagila.mpaa_rating\n",
      "drop cascades to type pagila.year\n",
      "drop cascades to function pagila._group_concat(text,text)\n",
      "drop cascades to function pagila.film_in_stock(integer,integer)\n",
      "drop cascades to function pagila.film_not_in_stock(integer,integer)\n",
      "drop cascades to function pagila.get_customer_balance(integer,timestamp with time zone)\n",
      "drop cascades to function pagila.inventory_held_by_customer(integer)\n",
      "drop cascades to function pagila.inventory_in_stock(integer)\n",
      "drop cascades to function pagila.last_day(timestamp with time zone)\n",
      "drop cascades to function pagila.last_updated()\n",
      "drop cascades to sequence pagila.customer_customer_id_seq\n",
      "drop cascades to table pagila.customer\n",
      "drop cascades to function pagila.rewards_report(integer,numeric)\n",
      "drop cascades to function pagila.group_concat(text)\n",
      "drop cascades to sequence pagila.actor_actor_id_seq\n",
      "drop cascades to table pagila.actor\n",
      "drop cascades to sequence pagila.category_category_id_seq\n",
      "drop cascades to table pagila.category\n",
      "drop cascades to sequence pagila.film_film_id_seq\n",
      "drop cascades to table pagila.film\n",
      "drop cascades to table pagila.film_actor\n",
      "drop cascades to table pagila.film_category\n",
      "drop cascades to view pagila.actor_info\n",
      "drop cascades to sequence pagila.address_address_id_seq\n",
      "drop cascades to table pagila.address\n",
      "drop cascades to sequence pagila.city_city_id_seq\n",
      "drop cascades to table pagila.city\n",
      "drop cascades to sequence pagila.country_country_id_seq\n",
      "drop cascades to table pagila.country\n",
      "drop cascades to view pagila.customer_list\n",
      "drop cascades to view pagila.film_list\n",
      "drop cascades to sequence pagila.inventory_inventory_id_seq\n",
      "drop cascades to table pagila.inventory\n",
      "drop cascades to sequence pagila.language_language_id_seq\n",
      "drop cascades to table pagila.language\n",
      "drop cascades to view pagila.nicer_but_slower_film_list\n",
      "drop cascades to sequence pagila.payment_payment_id_seq\n",
      "drop cascades to table pagila.payment\n",
      "drop cascades to sequence pagila.rental_rental_id_seq\n",
      "drop cascades to table pagila.rental\n",
      "drop cascades to view pagila.sales_by_film_category\n",
      "drop cascades to sequence pagila.staff_staff_id_seq\n",
      "drop cascades to table pagila.staff\n",
      "drop cascades to sequence pagila.store_store_id_seq\n",
      "drop cascades to table pagila.store\n",
      "drop cascades to view pagila.sales_by_store\n",
      "drop cascades to view pagila.staff_list\n"
     ]
    }
   ],
   "source": [
    "!psql -c \"\\i $BASE_DIR/pagila/pagila-schema.sql\" --quiet"
   ]
  },
  {
   "cell_type": "code",
   "execution_count": 4,
   "id": "2ae8d1c3-821b-4bde-afa0-f57fe32d5662",
   "metadata": {
    "tags": []
   },
   "outputs": [
    {
     "name": "stdout",
     "output_type": "stream",
     "text": [
      " setval \n",
      "--------\n",
      "    200\n",
      "(1 row)\n",
      "\n",
      " setval \n",
      "--------\n",
      "    605\n",
      "(1 row)\n",
      "\n",
      " setval \n",
      "--------\n",
      "     16\n",
      "(1 row)\n",
      "\n",
      " setval \n",
      "--------\n",
      "    600\n",
      "(1 row)\n",
      "\n",
      " setval \n",
      "--------\n",
      "    109\n",
      "(1 row)\n",
      "\n",
      " setval \n",
      "--------\n",
      "    599\n",
      "(1 row)\n",
      "\n",
      " setval \n",
      "--------\n",
      "   1000\n",
      "(1 row)\n",
      "\n",
      " setval \n",
      "--------\n",
      "   4581\n",
      "(1 row)\n",
      "\n",
      " setval \n",
      "--------\n",
      "      6\n",
      "(1 row)\n",
      "\n",
      " setval \n",
      "--------\n",
      "  32098\n",
      "(1 row)\n",
      "\n",
      " setval \n",
      "--------\n",
      "  16049\n",
      "(1 row)\n",
      "\n",
      " setval \n",
      "--------\n",
      "      2\n",
      "(1 row)\n",
      "\n",
      " setval \n",
      "--------\n",
      "      2\n",
      "(1 row)\n",
      "\n"
     ]
    }
   ],
   "source": [
    "!psql -c \"\\i $BASE_DIR/pagila/pagila-insert-data.sql\" --quiet"
   ]
  },
  {
   "cell_type": "code",
   "execution_count": 19,
   "id": "5ffcf020-c6c9-4c19-bd4c-35505ad18dc2",
   "metadata": {},
   "outputs": [
    {
     "name": "stdout",
     "output_type": "stream",
     "text": [
      "             List of relations\n",
      " Schema |     Name      | Type  |  Owner   \n",
      "--------+---------------+-------+----------\n",
      " pagila | actor         | table | postgres\n",
      " pagila | address       | table | postgres\n",
      " pagila | category      | table | postgres\n",
      " pagila | city          | table | postgres\n",
      " pagila | country       | table | postgres\n",
      " pagila | customer      | table | postgres\n",
      " pagila | film          | table | postgres\n",
      " pagila | film_actor    | table | postgres\n",
      " pagila | film_category | table | postgres\n",
      " pagila | inventory     | table | postgres\n",
      " pagila | language      | table | postgres\n",
      " pagila | payment       | table | postgres\n",
      " pagila | rental        | table | postgres\n",
      " pagila | staff         | table | postgres\n",
      " pagila | store         | table | postgres\n",
      "(15 rows)\n",
      "\n"
     ]
    }
   ],
   "source": [
    "!psql -c \"\\dt pagila.*\""
   ]
  },
  {
   "cell_type": "code",
   "execution_count": 9,
   "id": "504ee259-d730-4d28-b8ef-749da4fcc962",
   "metadata": {
    "tags": []
   },
   "outputs": [
    {
     "name": "stdout",
     "output_type": "stream",
     "text": [
      "                                              Table \"pagila.actor\"\n",
      "   Column    |           Type           | Collation | Nullable |                    Default                     \n",
      "-------------+--------------------------+-----------+----------+------------------------------------------------\n",
      " actor_id    | integer                  |           | not null | nextval('pagila.actor_actor_id_seq'::regclass)\n",
      " first_name  | text                     |           | not null | \n",
      " last_name   | text                     |           | not null | \n",
      " last_update | timestamp with time zone |           | not null | now()\n",
      "Indexes:\n",
      "    \"actor_pkey\" PRIMARY KEY, btree (actor_id)\n",
      "    \"idx_actor_last_name\" btree (last_name)\n",
      "Referenced by:\n",
      "    TABLE \"pagila.film_actor\" CONSTRAINT \"film_actor_actor_id_fkey\" FOREIGN KEY (actor_id) REFERENCES pagila.actor(actor_id) ON UPDATE CASCADE ON DELETE RESTRICT\n",
      "Triggers:\n",
      "    last_updated BEFORE UPDATE ON pagila.actor FOR EACH ROW EXECUTE FUNCTION pagila.last_updated()\n",
      "\n"
     ]
    }
   ],
   "source": [
    "!psql -c \"\\d pagila.actor\""
   ]
  },
  {
   "cell_type": "code",
   "execution_count": 20,
   "id": "fbb8b731-3b4b-4e7b-b79f-947bf9720af5",
   "metadata": {
    "tags": []
   },
   "outputs": [
    {
     "name": "stdout",
     "output_type": "stream",
     "text": [
      "                                               Table \"pagila.address\"\n",
      "   Column    |           Type           | Collation | Nullable |                      Default                       \n",
      "-------------+--------------------------+-----------+----------+----------------------------------------------------\n",
      " address_id  | integer                  |           | not null | nextval('pagila.address_address_id_seq'::regclass)\n",
      " address     | text                     |           | not null | \n",
      " address2    | text                     |           |          | \n",
      " district    | text                     |           | not null | \n",
      " city_id     | smallint                 |           | not null | \n",
      " postal_code | text                     |           |          | \n",
      " phone       | text                     |           | not null | \n",
      " last_update | timestamp with time zone |           | not null | now()\n",
      "Indexes:\n",
      "    \"address_pkey\" PRIMARY KEY, btree (address_id)\n",
      "    \"idx_fk_city_id\" btree (city_id)\n",
      "Foreign-key constraints:\n",
      "    \"address_city_id_fkey\" FOREIGN KEY (city_id) REFERENCES pagila.city(city_id) ON UPDATE CASCADE ON DELETE RESTRICT\n",
      "Referenced by:\n",
      "    TABLE \"pagila.customer\" CONSTRAINT \"customer_address_id_fkey\" FOREIGN KEY (address_id) REFERENCES pagila.address(address_id) ON UPDATE CASCADE ON DELETE RESTRICT\n",
      "    TABLE \"pagila.staff\" CONSTRAINT \"staff_address_id_fkey\" FOREIGN KEY (address_id) REFERENCES pagila.address(address_id) ON UPDATE CASCADE ON DELETE RESTRICT\n",
      "    TABLE \"pagila.store\" CONSTRAINT \"store_address_id_fkey\" FOREIGN KEY (address_id) REFERENCES pagila.address(address_id) ON UPDATE CASCADE ON DELETE RESTRICT\n",
      "Triggers:\n",
      "    last_updated BEFORE UPDATE ON pagila.address FOR EACH ROW EXECUTE FUNCTION pagila.last_updated()\n",
      "\n"
     ]
    }
   ],
   "source": [
    "!psql -c \"\\d pagila.address\""
   ]
  },
  {
   "cell_type": "code",
   "execution_count": 21,
   "id": "ffbdc093-5d97-4763-91c1-03dff65e08da",
   "metadata": {
    "tags": []
   },
   "outputs": [
    {
     "name": "stdout",
     "output_type": "stream",
     "text": [
      "                                               Table \"pagila.category\"\n",
      "   Column    |           Type           | Collation | Nullable |                       Default                        \n",
      "-------------+--------------------------+-----------+----------+------------------------------------------------------\n",
      " category_id | integer                  |           | not null | nextval('pagila.category_category_id_seq'::regclass)\n",
      " name        | text                     |           | not null | \n",
      " last_update | timestamp with time zone |           | not null | now()\n",
      "Indexes:\n",
      "    \"category_pkey\" PRIMARY KEY, btree (category_id)\n",
      "Referenced by:\n",
      "    TABLE \"pagila.film_category\" CONSTRAINT \"film_category_category_id_fkey\" FOREIGN KEY (category_id) REFERENCES pagila.category(category_id) ON UPDATE CASCADE ON DELETE RESTRICT\n",
      "Triggers:\n",
      "    last_updated BEFORE UPDATE ON pagila.category FOR EACH ROW EXECUTE FUNCTION pagila.last_updated()\n",
      "\n"
     ]
    }
   ],
   "source": [
    "!psql -c \"\\d pagila.category\""
   ]
  },
  {
   "cell_type": "code",
   "execution_count": 22,
   "id": "8cb3d58e-0a90-4b27-8f96-aed0aeef5cb5",
   "metadata": {},
   "outputs": [
    {
     "name": "stdout",
     "output_type": "stream",
     "text": [
      "                                             Table \"pagila.city\"\n",
      "   Column    |           Type           | Collation | Nullable |                   Default                    \n",
      "-------------+--------------------------+-----------+----------+----------------------------------------------\n",
      " city_id     | integer                  |           | not null | nextval('pagila.city_city_id_seq'::regclass)\n",
      " city        | text                     |           | not null | \n",
      " country_id  | smallint                 |           | not null | \n",
      " last_update | timestamp with time zone |           | not null | now()\n",
      "Indexes:\n",
      "    \"city_pkey\" PRIMARY KEY, btree (city_id)\n",
      "    \"idx_fk_country_id\" btree (country_id)\n",
      "Foreign-key constraints:\n",
      "    \"city_country_id_fkey\" FOREIGN KEY (country_id) REFERENCES pagila.country(country_id) ON UPDATE CASCADE ON DELETE RESTRICT\n",
      "Referenced by:\n",
      "    TABLE \"pagila.address\" CONSTRAINT \"address_city_id_fkey\" FOREIGN KEY (city_id) REFERENCES pagila.city(city_id) ON UPDATE CASCADE ON DELETE RESTRICT\n",
      "Triggers:\n",
      "    last_updated BEFORE UPDATE ON pagila.city FOR EACH ROW EXECUTE FUNCTION pagila.last_updated()\n",
      "\n"
     ]
    }
   ],
   "source": [
    "!psql -c \"\\d pagila.city\""
   ]
  },
  {
   "cell_type": "code",
   "execution_count": 23,
   "id": "d4b7706e-8a47-4993-a70d-5f2bd72680de",
   "metadata": {},
   "outputs": [
    {
     "name": "stdout",
     "output_type": "stream",
     "text": [
      "                                               Table \"pagila.country\"\n",
      "   Column    |           Type           | Collation | Nullable |                      Default                       \n",
      "-------------+--------------------------+-----------+----------+----------------------------------------------------\n",
      " country_id  | integer                  |           | not null | nextval('pagila.country_country_id_seq'::regclass)\n",
      " country     | text                     |           | not null | \n",
      " last_update | timestamp with time zone |           | not null | now()\n",
      "Indexes:\n",
      "    \"country_pkey\" PRIMARY KEY, btree (country_id)\n",
      "Referenced by:\n",
      "    TABLE \"pagila.city\" CONSTRAINT \"city_country_id_fkey\" FOREIGN KEY (country_id) REFERENCES pagila.country(country_id) ON UPDATE CASCADE ON DELETE RESTRICT\n",
      "Triggers:\n",
      "    last_updated BEFORE UPDATE ON pagila.country FOR EACH ROW EXECUTE FUNCTION pagila.last_updated()\n",
      "\n"
     ]
    }
   ],
   "source": [
    "!psql -c \"\\d pagila.country\""
   ]
  },
  {
   "cell_type": "code",
   "execution_count": 24,
   "id": "af7fb71c-8118-46fa-994b-6cace4e2a215",
   "metadata": {},
   "outputs": [
    {
     "name": "stdout",
     "output_type": "stream",
     "text": [
      "                                                Table \"pagila.customer\"\n",
      "   Column    |           Type           | Collation | Nullable |                        Default                        \n",
      "-------------+--------------------------+-----------+----------+-------------------------------------------------------\n",
      " customer_id | integer                  |           | not null | nextval('pagila.customer_customer_id_seq1'::regclass)\n",
      " store_id    | smallint                 |           | not null | \n",
      " first_name  | text                     |           | not null | \n",
      " last_name   | text                     |           | not null | \n",
      " email       | text                     |           |          | \n",
      " address_id  | smallint                 |           | not null | \n",
      " activebool  | boolean                  |           | not null | true\n",
      " create_date | date                     |           | not null | 'now'::text::date\n",
      " last_update | timestamp with time zone |           |          | now()\n",
      " active      | integer                  |           |          | \n",
      "Indexes:\n",
      "    \"customer_pkey\" PRIMARY KEY, btree (customer_id)\n",
      "    \"idx_fk_address_id\" btree (address_id)\n",
      "    \"idx_fk_store_id\" btree (store_id)\n",
      "    \"idx_last_name\" btree (last_name)\n",
      "Foreign-key constraints:\n",
      "    \"customer_address_id_fkey\" FOREIGN KEY (address_id) REFERENCES pagila.address(address_id) ON UPDATE CASCADE ON DELETE RESTRICT\n",
      "    \"customer_store_id_fkey\" FOREIGN KEY (store_id) REFERENCES pagila.store(store_id) ON UPDATE CASCADE ON DELETE RESTRICT\n",
      "Referenced by:\n",
      "    TABLE \"pagila.payment\" CONSTRAINT \"customer_id_fkey\" FOREIGN KEY (customer_id) REFERENCES pagila.customer(customer_id) ON UPDATE CASCADE ON DELETE RESTRICT\n",
      "    TABLE \"pagila.rental\" CONSTRAINT \"rental_customer_id_fkey\" FOREIGN KEY (customer_id) REFERENCES pagila.customer(customer_id) ON UPDATE CASCADE ON DELETE RESTRICT\n",
      "Triggers:\n",
      "    last_updated BEFORE UPDATE ON pagila.customer FOR EACH ROW EXECUTE FUNCTION pagila.last_updated()\n",
      "\n"
     ]
    }
   ],
   "source": [
    "!psql -c \"\\d pagila.customer\""
   ]
  },
  {
   "cell_type": "code",
   "execution_count": 25,
   "id": "e898b6be-61a8-4a20-b298-c4453c908b2b",
   "metadata": {},
   "outputs": [
    {
     "name": "stdout",
     "output_type": "stream",
     "text": [
      "                                                  Table \"pagila.film\"\n",
      "        Column        |           Type           | Collation | Nullable |                   Default                    \n",
      "----------------------+--------------------------+-----------+----------+----------------------------------------------\n",
      " film_id              | integer                  |           | not null | nextval('pagila.film_film_id_seq'::regclass)\n",
      " title                | text                     |           | not null | \n",
      " description          | text                     |           |          | \n",
      " release_year         | pagila.year              |           |          | \n",
      " language_id          | smallint                 |           | not null | \n",
      " original_language_id | smallint                 |           |          | \n",
      " rental_duration      | smallint                 |           | not null | 3\n",
      " rental_rate          | numeric(4,2)             |           | not null | 4.99\n",
      " length               | smallint                 |           |          | \n",
      " replacement_cost     | numeric(5,2)             |           | not null | 19.99\n",
      " rating               | pagila.mpaa_rating       |           |          | 'G'::pagila.mpaa_rating\n",
      " last_update          | timestamp with time zone |           | not null | now()\n",
      " special_features     | text[]                   |           |          | \n",
      " fulltext             | tsvector                 |           | not null | \n",
      "Indexes:\n",
      "    \"film_pkey\" PRIMARY KEY, btree (film_id)\n",
      "    \"film_fulltext_idx\" gist (fulltext)\n",
      "    \"idx_fk_language_id\" btree (language_id)\n",
      "    \"idx_fk_original_language_id\" btree (original_language_id)\n",
      "    \"idx_title\" btree (title)\n",
      "Foreign-key constraints:\n",
      "    \"film_language_id_fkey\" FOREIGN KEY (language_id) REFERENCES pagila.language(language_id) ON UPDATE CASCADE ON DELETE RESTRICT\n",
      "    \"film_original_language_id_fkey\" FOREIGN KEY (original_language_id) REFERENCES pagila.language(language_id) ON UPDATE CASCADE ON DELETE RESTRICT\n",
      "Referenced by:\n",
      "    TABLE \"pagila.film_actor\" CONSTRAINT \"film_actor_film_id_fkey\" FOREIGN KEY (film_id) REFERENCES pagila.film(film_id) ON UPDATE CASCADE ON DELETE RESTRICT\n",
      "    TABLE \"pagila.film_category\" CONSTRAINT \"film_category_film_id_fkey\" FOREIGN KEY (film_id) REFERENCES pagila.film(film_id) ON UPDATE CASCADE ON DELETE RESTRICT\n",
      "    TABLE \"pagila.inventory\" CONSTRAINT \"inventory_film_id_fkey\" FOREIGN KEY (film_id) REFERENCES pagila.film(film_id) ON UPDATE CASCADE ON DELETE RESTRICT\n",
      "Triggers:\n",
      "    film_fulltext_trigger BEFORE INSERT OR UPDATE ON pagila.film FOR EACH ROW EXECUTE FUNCTION tsvector_update_trigger('fulltext', 'pg_catalog.english', 'title', 'description')\n",
      "    last_updated BEFORE UPDATE ON pagila.film FOR EACH ROW EXECUTE FUNCTION pagila.last_updated()\n",
      "\n"
     ]
    }
   ],
   "source": [
    "!psql -c \"\\d pagila.film\""
   ]
  },
  {
   "cell_type": "code",
   "execution_count": 26,
   "id": "a01d89db-8659-4270-bc23-123a9f9324fe",
   "metadata": {},
   "outputs": [
    {
     "name": "stdout",
     "output_type": "stream",
     "text": [
      "                        Table \"pagila.film_actor\"\n",
      "   Column    |           Type           | Collation | Nullable | Default \n",
      "-------------+--------------------------+-----------+----------+---------\n",
      " actor_id    | smallint                 |           | not null | \n",
      " film_id     | smallint                 |           | not null | \n",
      " last_update | timestamp with time zone |           | not null | now()\n",
      "Indexes:\n",
      "    \"film_actor_pkey\" PRIMARY KEY, btree (actor_id, film_id)\n",
      "    \"idx_fk_film_id\" btree (film_id)\n",
      "Foreign-key constraints:\n",
      "    \"film_actor_actor_id_fkey\" FOREIGN KEY (actor_id) REFERENCES pagila.actor(actor_id) ON UPDATE CASCADE ON DELETE RESTRICT\n",
      "    \"film_actor_film_id_fkey\" FOREIGN KEY (film_id) REFERENCES pagila.film(film_id) ON UPDATE CASCADE ON DELETE RESTRICT\n",
      "Triggers:\n",
      "    last_updated BEFORE UPDATE ON pagila.film_actor FOR EACH ROW EXECUTE FUNCTION pagila.last_updated()\n",
      "\n"
     ]
    }
   ],
   "source": [
    "!psql -c \"\\d pagila.film_actor\""
   ]
  },
  {
   "cell_type": "code",
   "execution_count": 27,
   "id": "f76b580d-20d4-456b-9843-480db07356c6",
   "metadata": {},
   "outputs": [
    {
     "name": "stdout",
     "output_type": "stream",
     "text": [
      "                      Table \"pagila.film_category\"\n",
      "   Column    |           Type           | Collation | Nullable | Default \n",
      "-------------+--------------------------+-----------+----------+---------\n",
      " film_id     | smallint                 |           | not null | \n",
      " category_id | smallint                 |           | not null | \n",
      " last_update | timestamp with time zone |           | not null | now()\n",
      "Indexes:\n",
      "    \"film_category_pkey\" PRIMARY KEY, btree (film_id, category_id)\n",
      "Foreign-key constraints:\n",
      "    \"film_category_category_id_fkey\" FOREIGN KEY (category_id) REFERENCES pagila.category(category_id) ON UPDATE CASCADE ON DELETE RESTRICT\n",
      "    \"film_category_film_id_fkey\" FOREIGN KEY (film_id) REFERENCES pagila.film(film_id) ON UPDATE CASCADE ON DELETE RESTRICT\n",
      "Triggers:\n",
      "    last_updated BEFORE UPDATE ON pagila.film_category FOR EACH ROW EXECUTE FUNCTION pagila.last_updated()\n",
      "\n"
     ]
    }
   ],
   "source": [
    "!psql -c \"\\d pagila.film_category\""
   ]
  },
  {
   "cell_type": "code",
   "execution_count": 28,
   "id": "45946bd5-4232-45fe-b501-4a926594e06d",
   "metadata": {},
   "outputs": [
    {
     "name": "stdout",
     "output_type": "stream",
     "text": [
      "                                                Table \"pagila.inventory\"\n",
      "    Column    |           Type           | Collation | Nullable |                        Default                         \n",
      "--------------+--------------------------+-----------+----------+--------------------------------------------------------\n",
      " inventory_id | integer                  |           | not null | nextval('pagila.inventory_inventory_id_seq'::regclass)\n",
      " film_id      | smallint                 |           | not null | \n",
      " store_id     | smallint                 |           | not null | \n",
      " last_update  | timestamp with time zone |           | not null | now()\n",
      "Indexes:\n",
      "    \"inventory_pkey\" PRIMARY KEY, btree (inventory_id)\n",
      "    \"idx_store_id_film_id\" btree (store_id, film_id)\n",
      "Foreign-key constraints:\n",
      "    \"inventory_film_id_fkey\" FOREIGN KEY (film_id) REFERENCES pagila.film(film_id) ON UPDATE CASCADE ON DELETE RESTRICT\n",
      "    \"inventory_store_id_fkey\" FOREIGN KEY (store_id) REFERENCES pagila.store(store_id) ON UPDATE CASCADE ON DELETE RESTRICT\n",
      "Referenced by:\n",
      "    TABLE \"pagila.rental\" CONSTRAINT \"rental_inventory_id_fkey\" FOREIGN KEY (inventory_id) REFERENCES pagila.inventory(inventory_id) ON UPDATE CASCADE ON DELETE RESTRICT\n",
      "Triggers:\n",
      "    last_updated BEFORE UPDATE ON pagila.inventory FOR EACH ROW EXECUTE FUNCTION pagila.last_updated()\n",
      "\n"
     ]
    }
   ],
   "source": [
    "!psql -c \"\\d pagila.inventory\""
   ]
  },
  {
   "cell_type": "code",
   "execution_count": 29,
   "id": "d893d7f0-96f0-498a-859c-b8f026c5f6a8",
   "metadata": {},
   "outputs": [
    {
     "name": "stdout",
     "output_type": "stream",
     "text": [
      "                                               Table \"pagila.language\"\n",
      "   Column    |           Type           | Collation | Nullable |                       Default                        \n",
      "-------------+--------------------------+-----------+----------+------------------------------------------------------\n",
      " language_id | integer                  |           | not null | nextval('pagila.language_language_id_seq'::regclass)\n",
      " name        | character(20)            |           | not null | \n",
      " last_update | timestamp with time zone |           | not null | now()\n",
      "Indexes:\n",
      "    \"language_pkey\" PRIMARY KEY, btree (language_id)\n",
      "Referenced by:\n",
      "    TABLE \"pagila.film\" CONSTRAINT \"film_language_id_fkey\" FOREIGN KEY (language_id) REFERENCES pagila.language(language_id) ON UPDATE CASCADE ON DELETE RESTRICT\n",
      "    TABLE \"pagila.film\" CONSTRAINT \"film_original_language_id_fkey\" FOREIGN KEY (original_language_id) REFERENCES pagila.language(language_id) ON UPDATE CASCADE ON DELETE RESTRICT\n",
      "Triggers:\n",
      "    last_updated BEFORE UPDATE ON pagila.language FOR EACH ROW EXECUTE FUNCTION pagila.last_updated()\n",
      "\n"
     ]
    }
   ],
   "source": [
    "!psql -c \"\\d pagila.language\""
   ]
  },
  {
   "cell_type": "code",
   "execution_count": 30,
   "id": "3c6f6fcf-cd35-466b-8dc7-4e0b47bd73cd",
   "metadata": {},
   "outputs": [
    {
     "name": "stdout",
     "output_type": "stream",
     "text": [
      "                                               Table \"pagila.payment\"\n",
      "    Column    |           Type           | Collation | Nullable |                      Default                       \n",
      "--------------+--------------------------+-----------+----------+----------------------------------------------------\n",
      " payment_id   | integer                  |           | not null | nextval('pagila.payment_payment_id_seq'::regclass)\n",
      " customer_id  | smallint                 |           | not null | \n",
      " staff_id     | smallint                 |           | not null | \n",
      " rental_id    | integer                  |           | not null | \n",
      " amount       | numeric(5,2)             |           | not null | \n",
      " payment_date | timestamp with time zone |           | not null | \n",
      "Indexes:\n",
      "    \"payment_pkey\" PRIMARY KEY, btree (payment_id)\n",
      "    \"idx_fk_customer_id\" btree (customer_id)\n",
      "    \"idx_fk_staff_id\" btree (staff_id)\n",
      "Foreign-key constraints:\n",
      "    \"customer_id_fkey\" FOREIGN KEY (customer_id) REFERENCES pagila.customer(customer_id) ON UPDATE CASCADE ON DELETE RESTRICT\n",
      "    \"rental_id_fkey\" FOREIGN KEY (rental_id) REFERENCES pagila.rental(rental_id) ON UPDATE CASCADE ON DELETE RESTRICT\n",
      "    \"staff_id_fkey\" FOREIGN KEY (staff_id) REFERENCES pagila.staff(staff_id) ON UPDATE CASCADE ON DELETE RESTRICT\n",
      "\n"
     ]
    }
   ],
   "source": [
    "!psql -c \"\\d pagila.payment\""
   ]
  },
  {
   "cell_type": "code",
   "execution_count": 31,
   "id": "1753d5ef-a7c3-44c7-9c86-9d6e223472c5",
   "metadata": {},
   "outputs": [
    {
     "name": "stdout",
     "output_type": "stream",
     "text": [
      "                                               Table \"pagila.rental\"\n",
      "    Column    |           Type           | Collation | Nullable |                     Default                      \n",
      "--------------+--------------------------+-----------+----------+--------------------------------------------------\n",
      " rental_id    | integer                  |           | not null | nextval('pagila.rental_rental_id_seq'::regclass)\n",
      " rental_date  | timestamp with time zone |           | not null | \n",
      " inventory_id | integer                  |           | not null | \n",
      " customer_id  | smallint                 |           | not null | \n",
      " return_date  | timestamp with time zone |           |          | \n",
      " staff_id     | smallint                 |           | not null | \n",
      " last_update  | timestamp with time zone |           | not null | now()\n",
      "Indexes:\n",
      "    \"rental_pkey\" PRIMARY KEY, btree (rental_id)\n",
      "    \"idx_fk_inventory_id\" btree (inventory_id)\n",
      "    \"idx_unq_rental_rental_date_inventory_id_customer_id\" UNIQUE, btree (rental_date, inventory_id, customer_id)\n",
      "Foreign-key constraints:\n",
      "    \"rental_customer_id_fkey\" FOREIGN KEY (customer_id) REFERENCES pagila.customer(customer_id) ON UPDATE CASCADE ON DELETE RESTRICT\n",
      "    \"rental_inventory_id_fkey\" FOREIGN KEY (inventory_id) REFERENCES pagila.inventory(inventory_id) ON UPDATE CASCADE ON DELETE RESTRICT\n",
      "    \"rental_staff_id_fkey\" FOREIGN KEY (staff_id) REFERENCES pagila.staff(staff_id) ON UPDATE CASCADE ON DELETE RESTRICT\n",
      "Referenced by:\n",
      "    TABLE \"pagila.payment\" CONSTRAINT \"rental_id_fkey\" FOREIGN KEY (rental_id) REFERENCES pagila.rental(rental_id) ON UPDATE CASCADE ON DELETE RESTRICT\n",
      "Triggers:\n",
      "    last_updated BEFORE UPDATE ON pagila.rental FOR EACH ROW EXECUTE FUNCTION pagila.last_updated()\n",
      "\n"
     ]
    }
   ],
   "source": [
    "!psql -c \"\\d pagila.rental\""
   ]
  },
  {
   "cell_type": "code",
   "execution_count": 32,
   "id": "590ff1e5-cf71-4076-ae77-b122708779be",
   "metadata": {},
   "outputs": [
    {
     "name": "stdout",
     "output_type": "stream",
     "text": [
      "                                              Table \"pagila.staff\"\n",
      "   Column    |           Type           | Collation | Nullable |                    Default                     \n",
      "-------------+--------------------------+-----------+----------+------------------------------------------------\n",
      " staff_id    | integer                  |           | not null | nextval('pagila.staff_staff_id_seq'::regclass)\n",
      " first_name  | text                     |           | not null | \n",
      " last_name   | text                     |           | not null | \n",
      " address_id  | smallint                 |           | not null | \n",
      " email       | text                     |           |          | \n",
      " store_id    | smallint                 |           | not null | \n",
      " active      | boolean                  |           | not null | true\n",
      " username    | text                     |           | not null | \n",
      " password    | text                     |           |          | \n",
      " last_update | timestamp with time zone |           | not null | now()\n",
      " picture     | bytea                    |           |          | \n",
      "Indexes:\n",
      "    \"staff_pkey\" PRIMARY KEY, btree (staff_id)\n",
      "Foreign-key constraints:\n",
      "    \"staff_address_id_fkey\" FOREIGN KEY (address_id) REFERENCES pagila.address(address_id) ON UPDATE CASCADE ON DELETE RESTRICT\n",
      "    \"staff_store_id_fkey\" FOREIGN KEY (store_id) REFERENCES pagila.store(store_id)\n",
      "Referenced by:\n",
      "    TABLE \"pagila.rental\" CONSTRAINT \"rental_staff_id_fkey\" FOREIGN KEY (staff_id) REFERENCES pagila.staff(staff_id) ON UPDATE CASCADE ON DELETE RESTRICT\n",
      "    TABLE \"pagila.payment\" CONSTRAINT \"staff_id_fkey\" FOREIGN KEY (staff_id) REFERENCES pagila.staff(staff_id) ON UPDATE CASCADE ON DELETE RESTRICT\n",
      "Triggers:\n",
      "    last_updated BEFORE UPDATE ON pagila.staff FOR EACH ROW EXECUTE FUNCTION pagila.last_updated()\n",
      "\n"
     ]
    }
   ],
   "source": [
    "!psql -c \"\\d pagila.staff\""
   ]
  },
  {
   "cell_type": "code",
   "execution_count": 33,
   "id": "7e2ad755-b8ea-4e66-b539-ae691bba3d03",
   "metadata": {},
   "outputs": [
    {
     "name": "stdout",
     "output_type": "stream",
     "text": [
      "                                                Table \"pagila.store\"\n",
      "      Column      |           Type           | Collation | Nullable |                    Default                     \n",
      "------------------+--------------------------+-----------+----------+------------------------------------------------\n",
      " store_id         | integer                  |           | not null | nextval('pagila.store_store_id_seq'::regclass)\n",
      " manager_staff_id | smallint                 |           | not null | \n",
      " address_id       | smallint                 |           | not null | \n",
      " last_update      | timestamp with time zone |           | not null | now()\n",
      "Indexes:\n",
      "    \"store_pkey\" PRIMARY KEY, btree (store_id)\n",
      "    \"idx_unq_manager_staff_id\" UNIQUE, btree (manager_staff_id)\n",
      "Foreign-key constraints:\n",
      "    \"store_address_id_fkey\" FOREIGN KEY (address_id) REFERENCES pagila.address(address_id) ON UPDATE CASCADE ON DELETE RESTRICT\n",
      "Referenced by:\n",
      "    TABLE \"pagila.customer\" CONSTRAINT \"customer_store_id_fkey\" FOREIGN KEY (store_id) REFERENCES pagila.store(store_id) ON UPDATE CASCADE ON DELETE RESTRICT\n",
      "    TABLE \"pagila.inventory\" CONSTRAINT \"inventory_store_id_fkey\" FOREIGN KEY (store_id) REFERENCES pagila.store(store_id) ON UPDATE CASCADE ON DELETE RESTRICT\n",
      "    TABLE \"pagila.staff\" CONSTRAINT \"staff_store_id_fkey\" FOREIGN KEY (store_id) REFERENCES pagila.store(store_id)\n",
      "Triggers:\n",
      "    last_updated BEFORE UPDATE ON pagila.store FOR EACH ROW EXECUTE FUNCTION pagila.last_updated()\n",
      "\n"
     ]
    }
   ],
   "source": [
    "!psql -c \"\\d pagila.store\""
   ]
  },
  {
   "cell_type": "code",
   "execution_count": 4,
   "id": "726b8d10-d00d-48de-ba5e-d5cada6dcfea",
   "metadata": {},
   "outputs": [
    {
     "name": "stdout",
     "output_type": "stream",
     "text": [
      " film_id |  name  \n",
      "---------+--------\n",
      "       5 | Family\n",
      "      31 | Family\n",
      "      43 | Family\n",
      "      50 | Family\n",
      "      53 | Family\n",
      "      63 | Family\n",
      "      71 | Family\n",
      "      80 | Family\n",
      "      82 | Family\n",
      "      83 | Family\n",
      "(10 rows)\n",
      "\n"
     ]
    }
   ],
   "source": [
    "# Inner joins category and film_category tables on category_id so we can filter for Family movies, ordered by film_id ascending\n",
    "!psql -c \"SELECT film_id, name FROM pagila.film_category as t1 INNER JOIN pagila.category as t2 ON t1.category_id = t2.category_id WHERE name = 'Family' ORDER BY film_id ASC LIMIT 10\""
   ]
  },
  {
   "cell_type": "code",
   "execution_count": 5,
   "id": "5d986fea-d386-4760-8ca7-ea2542d3a96a",
   "metadata": {},
   "outputs": [
    {
     "name": "stdout",
     "output_type": "stream",
     "text": [
      " rental_id | customer_id | staff_id | film_id | store_id \n",
      "-----------+-------------+----------+---------+----------\n",
      "         2 |         459 |        1 |     333 |        2\n",
      "         3 |         408 |        1 |     373 |        2\n",
      "         5 |         222 |        1 |     450 |        2\n",
      "         7 |         269 |        2 |     870 |        2\n",
      "        10 |         399 |        2 |     396 |        2\n",
      "        14 |         446 |        1 |     593 |        2\n",
      "        17 |         575 |        1 |     181 |        2\n",
      "        19 |         456 |        1 |     422 |        2\n",
      "        20 |         185 |        2 |     770 |        2\n",
      "        25 |          37 |        2 |     863 |        2\n",
      "(10 rows)\n",
      "\n"
     ]
    }
   ],
   "source": [
    "# Inner joins rental and inventory tables on inventory_id so we can filter for store 2, ordered by rental_id ascending\n",
    "!psql -c \"SELECT rental_id, customer_id, staff_id, film_id, store_id FROM pagila.rental as rent INNER JOIN pagila.inventory as inv ON rent.inventory_id = inv.inventory_id WHERE store_id = 2 ORDER BY rental_id ASC LIMIT 10\""
   ]
  },
  {
   "cell_type": "code",
   "execution_count": 6,
   "id": "0a543d60-f146-4920-899d-c9a543342474",
   "metadata": {},
   "outputs": [
    {
     "name": "stdout",
     "output_type": "stream",
     "text": [
      "    city    | country_id |             country              \n",
      "------------+------------+----------------------------------\n",
      " Kingstown  |         81 | Saint Vincent and the Grenadines\n",
      " Abha       |         82 | Saudi Arabia\n",
      " al-Hawiya  |         82 | Saudi Arabia\n",
      " al-Qatif   |         82 | Saudi Arabia\n",
      " Jedda      |         82 | Saudi Arabia\n",
      " Tabuk      |         82 | Saudi Arabia\n",
      " Ziguinchor |         83 | Senegal\n",
      " Bratislava |         84 | Slovakia\n",
      " Boksburg   |         85 | South Africa\n",
      " Botshabelo |         85 | South Africa\n",
      "(10 rows)\n",
      "\n"
     ]
    }
   ],
   "source": [
    "# Inner joins city and country tables on country_id, filters for countries that start with S, ordered by country_id ascending\n",
    "!psql -c \"SELECT city, t2.country_id, country FROM pagila.city as t1 INNER JOIN pagila.country as t2 ON t1.country_id = t2.country_id WHERE country LIKE 'S%' ORDER BY t2.country_id ASC LIMIT 10\""
   ]
  },
  {
   "cell_type": "code",
   "execution_count": 38,
   "id": "be41c3b0-1196-4107-97a3-260c38da0ac7",
   "metadata": {},
   "outputs": [
    {
     "name": "stdout",
     "output_type": "stream",
     "text": [
      " first_name | last_name | film_id \n",
      "------------+-----------+---------\n",
      " ROCK       | DUKAKIS   |       1\n",
      " CHRIS      | DEPP      |       2\n",
      " JULIANNE   | DENCH     |       3\n",
      " JODIE      | DEGENERES |       4\n",
      " SCARLETT   | DAMON     |       4\n",
      " SUSAN      | DAVIS     |       8\n",
      " LUCILLE    | DEE       |       8\n",
      " JUDY       | DEAN      |      10\n",
      " ROCK       | DUKAKIS   |      10\n",
      " SCARLETT   | DAMON     |      11\n",
      "(10 rows)\n",
      "\n"
     ]
    }
   ],
   "source": [
    "# Left outer join actor and film_actor tables where actor is the left table, filters for last name starts with 'D', ordered by film_id ascending\n",
    "!psql -c \"SELECT first_name, last_name, film_id FROM pagila.actor as t1 LEFT JOIN pagila.film_actor as t2 ON t1.actor_id = t2.actor_id WHERE last_name LIKE 'D%' ORDER BY film_id ASC LIMIT 10\""
   ]
  },
  {
   "cell_type": "code",
   "execution_count": 56,
   "id": "5d285674-0263-45a5-8075-e0e1e1e0d820",
   "metadata": {},
   "outputs": [
    {
     "name": "stdout",
     "output_type": "stream",
     "text": [
      " language_id | original_language_id |         name         |        title        |                                                   description                                                   \n",
      "-------------+----------------------+----------------------+---------------------+-----------------------------------------------------------------------------------------------------------------\n",
      "           1 |                      | English              | JACKET FRISCO       | A Insightful Reflection of a Womanizer And a Husband who must Conquer a Pastry Chef in A Baloon\n",
      "           1 |                      | English              | JADE BUNCH          | A Insightful Panorama of a Squirrel And a Mad Cow who must Confront a Student in The First Manned Space Station\n",
      "           1 |                      | English              | JAPANESE RUN        | A Awe-Inspiring Epistle of a Feminist And a Girl who must Sink a Girl in The Outback\n",
      "           1 |                      | English              | JASON TRAP          | A Thoughtful Tale of a Woman And a A Shark who must Conquer a Dog in A Monastery\n",
      "           1 |                      | English              | JAWBREAKER BROOKLYN | A Stunning Reflection of a Boat And a Pastry Chef who must Succumb a A Shark in A Jet Boat\n",
      "           1 |                      | English              | JAWS HARRY          | A Thrilling Display of a Database Administrator And a Monkey who must Overcome a Dog in An Abandoned Fun House\n",
      "           1 |                      | English              | JEDI BENEATH        | A Astounding Reflection of a Explorer And a Dentist who must Pursue a Student in Nigeria\n",
      "           1 |                      | English              | JEEPERS WEDDING     | A Astounding Display of a Composer And a Dog who must Kill a Pastry Chef in Soviet Georgia\n",
      "           1 |                      | English              | JEKYLL FROGMEN      | A Fanciful Epistle of a Student And a Astronaut who must Kill a Waitress in A Shark Tank\n",
      "           1 |                      | English              | JEOPARDY ENCINO     | A Boring Panorama of a Man And a Mad Cow who must Face a Explorer in Ancient India\n",
      "(10 rows)\n",
      "\n"
     ]
    }
   ],
   "source": [
    "# Right outer join film and language tables where film is the right table, filter for movies that start with 'J', ordered by title ascending\n",
    "!psql -c \"SELECT t2.language_id, original_language_id, name, title, description FROM pagila.language as t1 RIGHT JOIN pagila.film as t2 ON t1.language_id = t2.language_id WHERE title LIKE 'J%' ORDER BY title ASC LIMIT 10\""
   ]
  },
  {
   "cell_type": "code",
   "execution_count": 69,
   "id": "2110f78b-c18e-4e1e-bca1-0b701acd9126",
   "metadata": {},
   "outputs": [
    {
     "name": "stdout",
     "output_type": "stream",
     "text": [
      " customer_id | store_id | last_name |               email                | active | rental_id \n",
      "-------------+----------+-----------+------------------------------------+--------+-----------\n",
      "         446 |        2 | CULP      | THEODORE.CULP@sakilacustomer.org   |      0 |        14\n",
      "         368 |        1 | ARCE      | HARRY.ARCE@sakilacustomer.org      |      0 |        64\n",
      "         510 |        2 | EASTER    | BEN.EASTER@sakilacustomer.org      |      0 |        75\n",
      "         368 |        1 | ARCE      | HARRY.ARCE@sakilacustomer.org      |      0 |       125\n",
      "         446 |        2 | CULP      | THEODORE.CULP@sakilacustomer.org   |      0 |       236\n",
      "         482 |        1 | CRAWLEY   | MAURICE.CRAWLEY@sakilacustomer.org |      0 |       259\n",
      "         534 |        1 | JUNG      | CHRISTIAN.JUNG@sakilacustomer.org  |      0 |       304\n",
      "          16 |        2 | MARTIN    | SANDRA.MARTIN@sakilacustomer.org   |      0 |       335\n",
      "         446 |        2 | CULP      | THEODORE.CULP@sakilacustomer.org   |      0 |       355\n",
      "         510 |        2 | EASTER    | BEN.EASTER@sakilacustomer.org      |      0 |       372\n",
      "(10 rows)\n",
      "\n"
     ]
    }
   ],
   "source": [
    "# Full joins customer and rental tables, filter for active = 0, order by customer_id \n",
    "!psql -c \"SELECT t1.customer_id, store_id, last_name, email, active, rental_id FROM pagila.customer as t1 LEFT JOIN pagila.rental as t2 ON t1.customer_id = t2.customer_id WHERE active = '0' ORDER BY rental_id ASC LIMIT 10\""
   ]
  },
  {
   "cell_type": "code",
   "execution_count": 79,
   "id": "8d73d802-2b2a-4060-a0a5-abb6a667190d",
   "metadata": {},
   "outputs": [
    {
     "name": "stdout",
     "output_type": "stream",
     "text": [
      " country_id |        city        |          city          \n",
      "------------+--------------------+------------------------\n",
      "         87 | A Corua (La Corua) | Donostia-San Sebastin\n",
      "         87 | A Corua (La Corua) | Gijn\n",
      "         87 | A Corua (La Corua) | Ourense (Orense)\n",
      "         87 | A Corua (La Corua) | Santiago de Compostela\n",
      "         82 | Abha               | al-Hawiya\n",
      "         82 | Abha               | al-Qatif\n",
      "         82 | Abha               | Jedda\n",
      "         82 | Abha               | Tabuk\n",
      "        101 | Abu Dhabi          | al-Ayn\n",
      "        101 | Abu Dhabi          | Sharja\n",
      "(10 rows)\n",
      "\n"
     ]
    }
   ],
   "source": [
    "# Self join city with itself, shows which cities are in the same country\n",
    "!psql -c \"SELECT t1.country_id, t1.city, t2.city FROM pagila.city as t1, pagila.city as t2 WHERE t1.city <> t2.city AND t1.country_id = t2.country_id LIMIT 10\""
   ]
  },
  {
   "cell_type": "code",
   "execution_count": null,
   "id": "d75215d5-0ff1-411d-9ad2-6c8a5639ce2b",
   "metadata": {},
   "outputs": [],
   "source": []
  }
 ],
 "metadata": {
  "environment": {
   "kernel": "python3",
   "name": "common-cpu.m94",
   "type": "gcloud",
   "uri": "gcr.io/deeplearning-platform-release/base-cpu:m94"
  },
  "kernelspec": {
   "display_name": "Python 3",
   "language": "python",
   "name": "python3"
  },
  "language_info": {
   "codemirror_mode": {
    "name": "ipython",
    "version": 3
   },
   "file_extension": ".py",
   "mimetype": "text/x-python",
   "name": "python",
   "nbconvert_exporter": "python",
   "pygments_lexer": "ipython3",
   "version": "3.7.12"
  }
 },
 "nbformat": 4,
 "nbformat_minor": 5
}
