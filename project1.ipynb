{
  "cells": [
    {
      "cell_type": "code",
      "execution_count": null,
      "id": "13d57093-14d6-4797-839d-72195603ce99",
      "metadata": {
        "id": "13d57093-14d6-4797-839d-72195603ce99",
        "outputId": "9ba8fc81-ed29-4b38-d309-8237879d43a3"
      },
      "outputs": [
        {
          "name": "stdout",
          "output_type": "stream",
          "text": [
            "env: INSTANCE=my\n"
          ]
        }
      ],
      "source": [
        "%env INSTANCE=my"
      ]
    },
    {
      "cell_type": "markdown",
      "id": "65ee4638-aeb9-42e8-9195-2a0d5468b1b3",
      "metadata": {
        "id": "65ee4638-aeb9-42e8-9195-2a0d5468b1b3"
      },
      "source": [
        "## Create the sakila database and database objects"
      ]
    },
    {
      "cell_type": "markdown",
      "id": "6be7af96-5c88-43be-ae28-f8876c425309",
      "metadata": {
        "id": "6be7af96-5c88-43be-ae28-f8876c425309"
      },
      "source": [
        "!mysql < /home/jupyter/snippets/sakila-database.sql"
      ]
    },
    {
      "cell_type": "code",
      "execution_count": null,
      "id": "873dcc0a-cd99-41f4-b85d-2fca7b046b2a",
      "metadata": {
        "id": "873dcc0a-cd99-41f4-b85d-2fca7b046b2a",
        "outputId": "30467099-ea3a-46f6-ab86-64410cda355c"
      },
      "outputs": [
        {
          "name": "stdout",
          "output_type": "stream",
          "text": [
            "+----------------------------+\n",
            "| Tables_in_sakila           |\n",
            "+----------------------------+\n",
            "| actor                      |\n",
            "| actor_info                 |\n",
            "| address                    |\n",
            "| category                   |\n",
            "| city                       |\n",
            "| country                    |\n",
            "| customer                   |\n",
            "| customer_list              |\n",
            "| film                       |\n",
            "| film_actor                 |\n",
            "| film_category              |\n",
            "| film_list                  |\n",
            "| film_text                  |\n",
            "| inventory                  |\n",
            "| language                   |\n",
            "| nicer_but_slower_film_list |\n",
            "| payment                    |\n",
            "| rental                     |\n",
            "| sales_by_film_category     |\n",
            "| sales_by_store             |\n",
            "| staff                      |\n",
            "| staff_list                 |\n",
            "| store                      |\n",
            "+----------------------------+\n"
          ]
        }
      ],
      "source": [
        "!mysql sakila -e 'show tables'"
      ]
    },
    {
      "cell_type": "markdown",
      "id": "38435a87-7840-4da1-9665-807431851b6c",
      "metadata": {
        "id": "38435a87-7840-4da1-9665-807431851b6c"
      },
      "source": [
        "## Populate the tables"
      ]
    },
    {
      "cell_type": "code",
      "execution_count": null,
      "id": "b2369eb8-e394-4769-844c-756efadbd6a8",
      "metadata": {
        "id": "b2369eb8-e394-4769-844c-756efadbd6a8",
        "outputId": "e9f7581f-00d4-4b8d-d629-2747e7ae730c"
      },
      "outputs": [
        {
          "name": "stdout",
          "output_type": "stream",
          "text": [
            "ERROR 1062 (23000) at line 45: Duplicate entry '1' for key 'actor.PRIMARY'\n"
          ]
        }
      ],
      "source": [
        "!mysql < /home/jupyter/snippets/sakila-data.sql"
      ]
    },
    {
      "cell_type": "markdown",
      "id": "5c3ababb-1046-4bb4-8883-fc46c6c2166a",
      "metadata": {
        "id": "5c3ababb-1046-4bb4-8883-fc46c6c2166a"
      },
      "source": [
        "## Get a row count for each table in the database."
      ]
    },
    {
      "cell_type": "code",
      "execution_count": null,
      "id": "1f19d451-8280-4f29-b568-39434d08aea0",
      "metadata": {
        "id": "1f19d451-8280-4f29-b568-39434d08aea0",
        "outputId": "854811c4-2f7a-4a80-c63e-e395c8caa172"
      },
      "outputs": [
        {
          "name": "stdout",
          "output_type": "stream",
          "text": [
            "+----------+\n",
            "| count(*) |\n",
            "+----------+\n",
            "|      200 |\n",
            "+----------+\n"
          ]
        }
      ],
      "source": [
        "!mysql sakila -e 'select count(*) from actor'"
      ]
    },
    {
      "cell_type": "code",
      "execution_count": null,
      "id": "bff851bc-b13d-4730-81ed-82ec6365b4a7",
      "metadata": {
        "id": "bff851bc-b13d-4730-81ed-82ec6365b4a7",
        "outputId": "c822a20c-edf7-4927-9c5f-fb6814791dd3"
      },
      "outputs": [
        {
          "name": "stdout",
          "output_type": "stream",
          "text": [
            "+----------+\n",
            "| count(*) |\n",
            "+----------+\n",
            "|      200 |\n",
            "+----------+\n"
          ]
        }
      ],
      "source": [
        "!mysql sakila -e 'select count(*) from actor_info'"
      ]
    },
    {
      "cell_type": "code",
      "execution_count": null,
      "id": "e82b55b8-a7bd-4d79-957a-34f7c6a06db9",
      "metadata": {
        "id": "e82b55b8-a7bd-4d79-957a-34f7c6a06db9",
        "outputId": "ae8f6628-93e0-48af-d826-8423082fa68b"
      },
      "outputs": [
        {
          "name": "stdout",
          "output_type": "stream",
          "text": [
            "+----------+\n",
            "| count(*) |\n",
            "+----------+\n",
            "|      603 |\n",
            "+----------+\n"
          ]
        }
      ],
      "source": [
        "!mysql sakila -e 'select count(*) from address'"
      ]
    },
    {
      "cell_type": "code",
      "execution_count": null,
      "id": "3a1b5025-2cff-4fcb-a677-8a886b80cc4c",
      "metadata": {
        "id": "3a1b5025-2cff-4fcb-a677-8a886b80cc4c",
        "outputId": "1c94d135-5aa9-4859-c94e-868801b89ab3"
      },
      "outputs": [
        {
          "name": "stdout",
          "output_type": "stream",
          "text": [
            "+----------+\n",
            "| count(*) |\n",
            "+----------+\n",
            "|       16 |\n",
            "+----------+\n"
          ]
        }
      ],
      "source": [
        "!mysql sakila -e 'select count(*) from category'"
      ]
    },
    {
      "cell_type": "code",
      "execution_count": null,
      "id": "ac4cb01c-5ca6-4d99-b2b5-8e3c087fdab7",
      "metadata": {
        "id": "ac4cb01c-5ca6-4d99-b2b5-8e3c087fdab7",
        "outputId": "acf31c0a-6eae-4a2f-91f7-110661a40818"
      },
      "outputs": [
        {
          "name": "stdout",
          "output_type": "stream",
          "text": [
            "+----------+\n",
            "| count(*) |\n",
            "+----------+\n",
            "|      600 |\n",
            "+----------+\n"
          ]
        }
      ],
      "source": [
        "!mysql sakila -e 'select count(*) from city'"
      ]
    },
    {
      "cell_type": "code",
      "execution_count": null,
      "id": "487dd9aa-68f8-4d65-ad14-ee849b533855",
      "metadata": {
        "id": "487dd9aa-68f8-4d65-ad14-ee849b533855",
        "outputId": "aa4df0f8-0a5d-42aa-81eb-42eaa0a432da"
      },
      "outputs": [
        {
          "name": "stdout",
          "output_type": "stream",
          "text": [
            "+----------+\n",
            "| count(*) |\n",
            "+----------+\n",
            "|      109 |\n",
            "+----------+\n"
          ]
        }
      ],
      "source": [
        "!mysql sakila -e 'select count(*) from country'"
      ]
    },
    {
      "cell_type": "code",
      "execution_count": null,
      "id": "a5bb944a-fa3d-420e-9da8-5367b959e6cf",
      "metadata": {
        "id": "a5bb944a-fa3d-420e-9da8-5367b959e6cf",
        "outputId": "a623cc6d-0968-4595-f1d0-e6ac038ec47e"
      },
      "outputs": [
        {
          "name": "stdout",
          "output_type": "stream",
          "text": [
            "+----------+\n",
            "| count(*) |\n",
            "+----------+\n",
            "|      599 |\n",
            "+----------+\n"
          ]
        }
      ],
      "source": [
        "!mysql sakila -e 'select count(*) from customer'"
      ]
    },
    {
      "cell_type": "code",
      "execution_count": null,
      "id": "05ee4e54-4013-4b2f-9f05-e5f7b0b25b03",
      "metadata": {
        "id": "05ee4e54-4013-4b2f-9f05-e5f7b0b25b03",
        "outputId": "9ab1b4fb-af00-4c2c-a5d1-0da381842833"
      },
      "outputs": [
        {
          "name": "stdout",
          "output_type": "stream",
          "text": [
            "+----------+\n",
            "| count(*) |\n",
            "+----------+\n",
            "|      599 |\n",
            "+----------+\n"
          ]
        }
      ],
      "source": [
        "!mysql sakila -e 'select count(*) from customer_list'"
      ]
    },
    {
      "cell_type": "code",
      "execution_count": null,
      "id": "016c85e5-4414-428d-be7b-194a75eadfa7",
      "metadata": {
        "id": "016c85e5-4414-428d-be7b-194a75eadfa7",
        "outputId": "d1d95e10-0e46-4039-a462-b602d72c1f53"
      },
      "outputs": [
        {
          "name": "stdout",
          "output_type": "stream",
          "text": [
            "+----------+\n",
            "| count(*) |\n",
            "+----------+\n",
            "|     1000 |\n",
            "+----------+\n"
          ]
        }
      ],
      "source": [
        "!mysql sakila -e 'select count(*) from film'"
      ]
    },
    {
      "cell_type": "code",
      "execution_count": null,
      "id": "32a43896-d108-40f6-a5d0-7e78e47d2fff",
      "metadata": {
        "id": "32a43896-d108-40f6-a5d0-7e78e47d2fff",
        "outputId": "78b3d950-f7e7-4a6d-abfb-9074b47e4f62"
      },
      "outputs": [
        {
          "name": "stdout",
          "output_type": "stream",
          "text": [
            "+----------+\n",
            "| count(*) |\n",
            "+----------+\n",
            "|     5462 |\n",
            "+----------+\n"
          ]
        }
      ],
      "source": [
        "!mysql sakila -e 'select count(*) from film_actor'"
      ]
    },
    {
      "cell_type": "code",
      "execution_count": null,
      "id": "a5960ff5-9079-4f08-99f3-ef0bbc380ac3",
      "metadata": {
        "id": "a5960ff5-9079-4f08-99f3-ef0bbc380ac3",
        "outputId": "3b1fae33-5c07-4750-9b58-48c006dc4854"
      },
      "outputs": [
        {
          "name": "stdout",
          "output_type": "stream",
          "text": [
            "+----------+\n",
            "| count(*) |\n",
            "+----------+\n",
            "|     1000 |\n",
            "+----------+\n"
          ]
        }
      ],
      "source": [
        "!mysql sakila -e 'select count(*) from film_category'"
      ]
    },
    {
      "cell_type": "code",
      "execution_count": null,
      "id": "f81fda17-13c2-4981-b8cf-71c48c88ac87",
      "metadata": {
        "id": "f81fda17-13c2-4981-b8cf-71c48c88ac87",
        "outputId": "fce5e565-88d7-4a2e-b0e6-19eca86d5390"
      },
      "outputs": [
        {
          "name": "stdout",
          "output_type": "stream",
          "text": [
            "+----------+\n",
            "| count(*) |\n",
            "+----------+\n",
            "|      997 |\n",
            "+----------+\n"
          ]
        }
      ],
      "source": [
        "!mysql sakila -e 'select count(*) from film_list'"
      ]
    },
    {
      "cell_type": "code",
      "execution_count": null,
      "id": "25fd42fb-746c-4043-afc3-9be026664c27",
      "metadata": {
        "id": "25fd42fb-746c-4043-afc3-9be026664c27",
        "outputId": "4ad7aa1b-66f8-49b1-8d34-e120fd8fedcb"
      },
      "outputs": [
        {
          "name": "stdout",
          "output_type": "stream",
          "text": [
            "+----------+\n",
            "| count(*) |\n",
            "+----------+\n",
            "|     1000 |\n",
            "+----------+\n"
          ]
        }
      ],
      "source": [
        "!mysql sakila -e 'select count(*) from film_text'"
      ]
    },
    {
      "cell_type": "code",
      "execution_count": null,
      "id": "78454f54-c2bd-4827-a313-12fe6ab5ca2c",
      "metadata": {
        "id": "78454f54-c2bd-4827-a313-12fe6ab5ca2c",
        "outputId": "87415f13-6126-43c8-d02f-1d70f4c6e4c7"
      },
      "outputs": [
        {
          "name": "stdout",
          "output_type": "stream",
          "text": [
            "+----------+\n",
            "| count(*) |\n",
            "+----------+\n",
            "|     4581 |\n",
            "+----------+\n"
          ]
        }
      ],
      "source": [
        "!mysql sakila -e 'select count(*) from inventory'"
      ]
    },
    {
      "cell_type": "code",
      "execution_count": null,
      "id": "dfcefda0-8e3f-4fab-a728-6f0801f5bdb4",
      "metadata": {
        "id": "dfcefda0-8e3f-4fab-a728-6f0801f5bdb4",
        "outputId": "3001ef87-20e9-47d3-e43b-b63e2e13e971"
      },
      "outputs": [
        {
          "name": "stdout",
          "output_type": "stream",
          "text": [
            "+----------+\n",
            "| count(*) |\n",
            "+----------+\n",
            "|        6 |\n",
            "+----------+\n"
          ]
        }
      ],
      "source": [
        "!mysql sakila -e 'select count(*) from language'"
      ]
    },
    {
      "cell_type": "code",
      "execution_count": null,
      "id": "830ba30f-8a1b-4d45-b0e8-0d6e45faa3ea",
      "metadata": {
        "id": "830ba30f-8a1b-4d45-b0e8-0d6e45faa3ea",
        "outputId": "99749c7b-4713-4ba8-e6e5-b4ecda5df329"
      },
      "outputs": [
        {
          "name": "stdout",
          "output_type": "stream",
          "text": [
            "+----------+\n",
            "| count(*) |\n",
            "+----------+\n",
            "|      997 |\n",
            "+----------+\n"
          ]
        }
      ],
      "source": [
        "!mysql sakila -e 'select count(*) from nicer_but_slower_film_list'"
      ]
    },
    {
      "cell_type": "code",
      "execution_count": null,
      "id": "5540387e-4ebb-4fb3-ac86-88b6512bddeb",
      "metadata": {
        "id": "5540387e-4ebb-4fb3-ac86-88b6512bddeb",
        "outputId": "fbbe11bc-6804-4537-93fe-a1f883a3206a"
      },
      "outputs": [
        {
          "name": "stdout",
          "output_type": "stream",
          "text": [
            "+----------+\n",
            "| count(*) |\n",
            "+----------+\n",
            "|    16049 |\n",
            "+----------+\n"
          ]
        }
      ],
      "source": [
        "!mysql sakila -e 'select count(*) from payment'"
      ]
    },
    {
      "cell_type": "code",
      "execution_count": null,
      "id": "442d0931-af09-4521-a1c7-9a5a8d628b86",
      "metadata": {
        "id": "442d0931-af09-4521-a1c7-9a5a8d628b86",
        "outputId": "83f8c7a4-6b54-4856-c413-4e54946ce5b7"
      },
      "outputs": [
        {
          "name": "stdout",
          "output_type": "stream",
          "text": [
            "+----------+\n",
            "| count(*) |\n",
            "+----------+\n",
            "|    16044 |\n",
            "+----------+\n"
          ]
        }
      ],
      "source": [
        "!mysql sakila -e 'select count(*) from rental'"
      ]
    },
    {
      "cell_type": "code",
      "execution_count": null,
      "id": "884b8a02-f8c9-4b61-819f-7e0388498fc2",
      "metadata": {
        "id": "884b8a02-f8c9-4b61-819f-7e0388498fc2",
        "outputId": "ef63bc95-0573-4739-997c-b26ea613cb01"
      },
      "outputs": [
        {
          "name": "stdout",
          "output_type": "stream",
          "text": [
            "+----------+\n",
            "| count(*) |\n",
            "+----------+\n",
            "|       16 |\n",
            "+----------+\n"
          ]
        }
      ],
      "source": [
        "!mysql sakila -e 'select count(*) from sales_by_film_category'"
      ]
    },
    {
      "cell_type": "code",
      "execution_count": null,
      "id": "ddfdd9e0-a377-40c0-94d6-4499b7e34b5f",
      "metadata": {
        "id": "ddfdd9e0-a377-40c0-94d6-4499b7e34b5f",
        "outputId": "37193335-51ee-42be-f6ed-ec45b919f4ad"
      },
      "outputs": [
        {
          "name": "stdout",
          "output_type": "stream",
          "text": [
            "ERROR 1146 (42S02) at line 1: Table 'sakila.sales_by_stores' doesn't exist\n"
          ]
        }
      ],
      "source": [
        "!mysql sakila -e 'select count(*) from sales_by_stores'"
      ]
    },
    {
      "cell_type": "code",
      "execution_count": null,
      "id": "2044d1ff-4065-45ff-9343-a6e08cefa99f",
      "metadata": {
        "id": "2044d1ff-4065-45ff-9343-a6e08cefa99f",
        "outputId": "b64558d8-54a5-4655-dc16-c0fcd3e87d82"
      },
      "outputs": [
        {
          "name": "stdout",
          "output_type": "stream",
          "text": [
            "+----------+\n",
            "| count(*) |\n",
            "+----------+\n",
            "|        2 |\n",
            "+----------+\n"
          ]
        }
      ],
      "source": [
        "!mysql sakila -e 'select count(*) from staff'"
      ]
    },
    {
      "cell_type": "code",
      "execution_count": null,
      "id": "b2cfa061-998e-4e19-a94d-9caf2aae2698",
      "metadata": {
        "id": "b2cfa061-998e-4e19-a94d-9caf2aae2698",
        "outputId": "69e84020-48b0-4ff5-ba9d-583608e15494"
      },
      "outputs": [
        {
          "name": "stdout",
          "output_type": "stream",
          "text": [
            "+----------+\n",
            "| count(*) |\n",
            "+----------+\n",
            "|        2 |\n",
            "+----------+\n"
          ]
        }
      ],
      "source": [
        "!mysql sakila -e 'select count(*) from staff_list'"
      ]
    },
    {
      "cell_type": "code",
      "execution_count": null,
      "id": "40844192-577c-4304-9686-fea672b8dc54",
      "metadata": {
        "id": "40844192-577c-4304-9686-fea672b8dc54",
        "outputId": "4f607c55-8648-4610-baeb-80d4f857ac50"
      },
      "outputs": [
        {
          "name": "stdout",
          "output_type": "stream",
          "text": [
            "+----------+\n",
            "| count(*) |\n",
            "+----------+\n",
            "|        2 |\n",
            "+----------+\n"
          ]
        }
      ],
      "source": [
        "!mysql sakila -e 'select count(*) from store'"
      ]
    },
    {
      "cell_type": "markdown",
      "id": "d4888deb-3c93-41a4-83a4-bce88727e3c8",
      "metadata": {
        "id": "d4888deb-3c93-41a4-83a4-bce88727e3c8"
      },
      "source": [
        "## Write a query to sample a few records from each table using the LIMIT clause."
      ]
    },
    {
      "cell_type": "code",
      "execution_count": null,
      "id": "f2e0cd2c-73af-4457-a899-e817a2169f94",
      "metadata": {
        "id": "f2e0cd2c-73af-4457-a899-e817a2169f94",
        "outputId": "a0649b69-1ba9-4935-f560-5b07f761c990"
      },
      "outputs": [
        {
          "name": "stdout",
          "output_type": "stream",
          "text": [
            "+----------------------------+\n",
            "| Tables_in_sakila           |\n",
            "+----------------------------+\n",
            "| actor                      |\n",
            "| actor_info                 |\n",
            "| address                    |\n",
            "| category                   |\n",
            "| city                       |\n",
            "| country                    |\n",
            "| customer                   |\n",
            "| customer_list              |\n",
            "| film                       |\n",
            "| film_actor                 |\n",
            "| film_category              |\n",
            "| film_list                  |\n",
            "| film_text                  |\n",
            "| inventory                  |\n",
            "| language                   |\n",
            "| nicer_but_slower_film_list |\n",
            "| payment                    |\n",
            "| rental                     |\n",
            "| sales_by_film_category     |\n",
            "| sales_by_store             |\n",
            "| staff                      |\n",
            "| staff_list                 |\n",
            "| store                      |\n",
            "+----------------------------+\n"
          ]
        }
      ],
      "source": [
        "!mysql sakila -e 'show tables'"
      ]
    },
    {
      "cell_type": "code",
      "execution_count": null,
      "id": "fd0ac4c2-091e-40a3-8a0c-ed8b3edfd6de",
      "metadata": {
        "tags": [],
        "id": "fd0ac4c2-091e-40a3-8a0c-ed8b3edfd6de",
        "outputId": "c73e6563-24d1-40dc-e6d1-a488b957a64b"
      },
      "outputs": [
        {
          "name": "stdout",
          "output_type": "stream",
          "text": [
            "+----------+------------+-----------+---------------------+\n",
            "| actor_id | first_name | last_name | last_update         |\n",
            "+----------+------------+-----------+---------------------+\n",
            "|        1 | PENELOPE   | GUINESS   | 2006-02-15 04:34:33 |\n",
            "|        2 | NICK       | WAHLBERG  | 2006-02-15 04:34:33 |\n",
            "|        3 | ED         | CHASE     | 2006-02-15 04:34:33 |\n",
            "+----------+------------+-----------+---------------------+\n"
          ]
        }
      ],
      "source": [
        "!mysql sakila -e \"select * from actor LIMIT 3\""
      ]
    },
    {
      "cell_type": "code",
      "execution_count": null,
      "id": "9427313b-1b0a-43c0-8b33-3f7fc6ed46b4",
      "metadata": {
        "tags": [],
        "id": "9427313b-1b0a-43c0-8b33-3f7fc6ed46b4",
        "outputId": "7919afcd-b7c0-4ffc-9f5d-225c89951cab"
      },
      "outputs": [
        {
          "name": "stdout",
          "output_type": "stream",
          "text": [
            "+----------+------------+-----------+------------------------------------------------------------------------------------------------------------------------------------------------------------------------------------------------------------------------------------------------------------------------------------------------------------------------------------------------------------------------------------------------------------------------------------------------------------------------------------------------------------------------------------+\n",
            "| actor_id | first_name | last_name | film_info                                                                                                                                                                                                                                                                                                                                                                                                                                                                                                                          |\n",
            "+----------+------------+-----------+------------------------------------------------------------------------------------------------------------------------------------------------------------------------------------------------------------------------------------------------------------------------------------------------------------------------------------------------------------------------------------------------------------------------------------------------------------------------------------------------------------------------------------+\n",
            "|        1 | PENELOPE   | GUINESS   | Animation: ANACONDA CONFESSIONS; Children: LANGUAGE COWBOY; Classics: COLOR PHILADELPHIA, WESTWARD SEABISCUIT; Comedy: VERTIGO NORTHWEST; Documentary: ACADEMY DINOSAUR; Family: KING EVOLUTION, SPLASH GUMP; Foreign: MULHOLLAND BEAST; Games: BULWORTH COMMANDMENTS, HUMAN GRAFFITI; Horror: ELEPHANT TROJAN, LADY STAGE, RULES HUMAN; Music: WIZARD COLDBLOODED; New: ANGELS LIFE, OKLAHOMA JUMANJI; Sci-Fi: CHEAPER CLYDE; Sports: GLEAMING JAWBREAKER                                                                         |\n",
            "|        2 | NICK       | WAHLBERG  | Action: BULL SHAWSHANK; Animation: FIGHT JAWBREAKER; Children: JERSEY SASSY; Classics: DRACULA CRYSTAL, GILBERT PELICAN; Comedy: MALLRATS UNITED, RUSHMORE MERMAID; Documentary: ADAPTATION HOLES; Drama: WARDROBE PHANTOM; Family: APACHE DIVINE, CHISUM BEHAVIOR, INDIAN LOVE, MAGUIRE APACHE; Foreign: BABY HALL, HAPPINESS UNITED; Games: ROOF CHAMPION; Music: LUCKY FLYING; New: DESTINY SATURDAY, FLASH WARS, JEKYLL FROGMEN, MASK PEACH; Sci-Fi: CHAINSAW UPTOWN, GOODFELLAS SALUTE; Travel: LIAISONS SWEET, SMILE EARRING |\n",
            "|        3 | ED         | CHASE     | Action: CADDYSHACK JEDI, FORREST SONS; Classics: FROST HEAD, JEEPERS WEDDING; Documentary: ARMY FLINTSTONES, FRENCH HOLIDAY, HALLOWEEN NUTS, HUNTER ALTER, WEDDING APOLLO, YOUNG LANGUAGE; Drama: LUCK OPUS, NECKLACE OUTBREAK, SPICE SORORITY; Foreign: COWBOY DOOM, WHALE BIKINI; Music: ALONE TRIP; New: EVE RESURRECTION, PLATOON INSTINCT; Sci-Fi: WEEKEND PERSONAL; Sports: ARTIST COLDBLOODED, IMAGE PRINCESS; Travel: BOONDOCK BALLROOM                                                                                    |\n",
            "+----------+------------+-----------+------------------------------------------------------------------------------------------------------------------------------------------------------------------------------------------------------------------------------------------------------------------------------------------------------------------------------------------------------------------------------------------------------------------------------------------------------------------------------------------------------------------------------------+\n"
          ]
        }
      ],
      "source": [
        "!mysql sakila -e \"select * from actor_info LIMIT 3\""
      ]
    },
    {
      "cell_type": "code",
      "execution_count": null,
      "id": "de3e3c01-cff8-43aa-b7c5-7fb26d5af0e0",
      "metadata": {
        "id": "de3e3c01-cff8-43aa-b7c5-7fb26d5af0e0",
        "outputId": "a74ec4ac-f5c5-4793-bb24-c7716281c48d"
      },
      "outputs": [
        {
          "name": "stdout",
          "output_type": "stream",
          "text": [
            "+------------+--------------------+----------+----------+---------+-------------+-------------+---------------------------+---------------------+\n",
            "| address_id | address            | address2 | district | city_id | postal_code | phone       | location                  | last_update         |\n",
            "+------------+--------------------+----------+----------+---------+-------------+-------------+---------------------------+---------------------+\n",
            "|          1 | 47 MySakila Drive  | NULL     | Alberta  |     300 |             |             |     \u0001\u0001   >\n",
            "2]c4\\�v\u001fۍ��H@     | 2014-09-25 22:30:27 |\n",
            "|          2 | 28 MySQL Boulevard | NULL     | QLD      |     576 |             |             |     \u0001\u0001   �\u0010�߁$c@N��P\"�;�        | 2014-09-25 22:30:09 |\n",
            "|          3 | 23 Workhaven Lane  | NULL     | Alberta  |     300 |             | 14033335568 |     \u0001\u0001   ��\u0019hc4\\�\u001d",
            "�~p��H@       | 2014-09-25 22:30:27 |\n",
            "+------------+--------------------+----------+----------+---------+-------------+-------------+---------------------------+---------------------+\n"
          ]
        }
      ],
      "source": [
        "!mysql sakila -e \"select * from address LIMIT 3\""
      ]
    },
    {
      "cell_type": "code",
      "execution_count": null,
      "id": "86e913a9-048e-4af0-b672-bca1135921fd",
      "metadata": {
        "id": "86e913a9-048e-4af0-b672-bca1135921fd",
        "outputId": "098ca0a6-bfc8-42a0-d0bb-f57980983cb0"
      },
      "outputs": [
        {
          "name": "stdout",
          "output_type": "stream",
          "text": [
            "+-------------+-----------+---------------------+\n",
            "| category_id | name      | last_update         |\n",
            "+-------------+-----------+---------------------+\n",
            "|           1 | Action    | 2006-02-15 04:46:27 |\n",
            "|           2 | Animation | 2006-02-15 04:46:27 |\n",
            "|           3 | Children  | 2006-02-15 04:46:27 |\n",
            "+-------------+-----------+---------------------+\n"
          ]
        }
      ],
      "source": [
        "!mysql sakila -e \"select * from category LIMIT 3\""
      ]
    },
    {
      "cell_type": "code",
      "execution_count": null,
      "id": "eb611310-11d2-4c28-9e6f-0afa97481a0f",
      "metadata": {
        "id": "eb611310-11d2-4c28-9e6f-0afa97481a0f",
        "outputId": "4c209830-4f28-42ec-bba5-2800d443612c"
      },
      "outputs": [
        {
          "name": "stdout",
          "output_type": "stream",
          "text": [
            "+---------+------------------------+------------+---------------------+\n",
            "| city_id | city                   | country_id | last_update         |\n",
            "+---------+------------------------+------------+---------------------+\n",
            "|       1 | A Coruña (La Coruña)   |         87 | 2006-02-15 04:45:25 |\n",
            "|       2 | Abha                   |         82 | 2006-02-15 04:45:25 |\n",
            "|       3 | Abu Dhabi              |        101 | 2006-02-15 04:45:25 |\n",
            "+---------+------------------------+------------+---------------------+\n"
          ]
        }
      ],
      "source": [
        "!mysql sakila -e \"select * from city LIMIT 3\""
      ]
    },
    {
      "cell_type": "code",
      "execution_count": null,
      "id": "75cee323-8c9e-402f-9cf6-5cf6e54febea",
      "metadata": {
        "id": "75cee323-8c9e-402f-9cf6-5cf6e54febea",
        "outputId": "3fa6800d-1378-4693-ec8b-cf19b2a0e472"
      },
      "outputs": [
        {
          "name": "stdout",
          "output_type": "stream",
          "text": [
            "+------------+----------------+---------------------+\n",
            "| country_id | country        | last_update         |\n",
            "+------------+----------------+---------------------+\n",
            "|          1 | Afghanistan    | 2006-02-15 04:44:00 |\n",
            "|          2 | Algeria        | 2006-02-15 04:44:00 |\n",
            "|          3 | American Samoa | 2006-02-15 04:44:00 |\n",
            "+------------+----------------+---------------------+\n"
          ]
        }
      ],
      "source": [
        "!mysql sakila -e \"select * from country LIMIT 3\""
      ]
    },
    {
      "cell_type": "code",
      "execution_count": null,
      "id": "fb6214cc-3a0b-4fce-8ab8-7ccb72409361",
      "metadata": {
        "id": "fb6214cc-3a0b-4fce-8ab8-7ccb72409361",
        "outputId": "a4904651-32e9-4519-a00f-76d954a53965"
      },
      "outputs": [
        {
          "name": "stdout",
          "output_type": "stream",
          "text": [
            "+-------------+----------+------------+-----------+-------------------------------------+------------+--------+---------------------+---------------------+\n",
            "| customer_id | store_id | first_name | last_name | email                               | address_id | active | create_date         | last_update         |\n",
            "+-------------+----------+------------+-----------+-------------------------------------+------------+--------+---------------------+---------------------+\n",
            "|           1 |        1 | MARY       | SMITH     | MARY.SMITH@sakilacustomer.org       |          5 |      1 | 2006-02-14 22:04:36 | 2006-02-15 04:57:20 |\n",
            "|           2 |        1 | PATRICIA   | JOHNSON   | PATRICIA.JOHNSON@sakilacustomer.org |          6 |      1 | 2006-02-14 22:04:36 | 2006-02-15 04:57:20 |\n",
            "|           3 |        1 | LINDA      | WILLIAMS  | LINDA.WILLIAMS@sakilacustomer.org   |          7 |      1 | 2006-02-14 22:04:36 | 2006-02-15 04:57:20 |\n",
            "+-------------+----------+------------+-----------+-------------------------------------+------------+--------+---------------------+---------------------+\n"
          ]
        }
      ],
      "source": [
        "!mysql sakila -e \"select * from customer LIMIT 3\""
      ]
    },
    {
      "cell_type": "code",
      "execution_count": null,
      "id": "1e46015b-3322-4037-885c-9aba48ea6125",
      "metadata": {
        "id": "1e46015b-3322-4037-885c-9aba48ea6125",
        "outputId": "daefd796-da33-435d-b71f-d613fd0ca25a"
      },
      "outputs": [
        {
          "name": "stdout",
          "output_type": "stream",
          "text": [
            "+-----+----------------+-------------------------+----------+--------------+---------+-------------+--------+-----+\n",
            "| ID  | name           | address                 | zip code | phone        | city    | country     | notes  | SID |\n",
            "+-----+----------------+-------------------------+----------+--------------+---------+-------------+--------+-----+\n",
            "| 218 | VERA MCCOY     | 1168 Najafabad Parkway  | 40301    | 886649065861 | Kabul   | Afghanistan | active |   1 |\n",
            "| 441 | MARIO CHEATHAM | 1924 Shimonoseki Drive  | 52625    | 406784385440 | Batna   | Algeria     | active |   1 |\n",
            "|  69 | JUDY GRAY      | 1031 Daugavpils Parkway | 59025    | 107137400143 | Béchar  | Algeria     | active |   2 |\n",
            "+-----+----------------+-------------------------+----------+--------------+---------+-------------+--------+-----+\n"
          ]
        }
      ],
      "source": [
        "!mysql sakila -e \"select * from customer_list LIMIT 3\""
      ]
    },
    {
      "cell_type": "code",
      "execution_count": null,
      "id": "00ab5b41-2089-4a94-85de-b13d72f88cf1",
      "metadata": {
        "id": "00ab5b41-2089-4a94-85de-b13d72f88cf1",
        "outputId": "28137dd4-d201-413a-d530-16f98b3f3415"
      },
      "outputs": [
        {
          "name": "stdout",
          "output_type": "stream",
          "text": [
            "+---------+------------------+------------------------------------------------------------------------------------------------------+--------------+-------------+----------------------+-----------------+-------------+--------+------------------+--------+----------------------------------+---------------------+\n",
            "| film_id | title            | description                                                                                          | release_year | language_id | original_language_id | rental_duration | rental_rate | length | replacement_cost | rating | special_features                 | last_update         |\n",
            "+---------+------------------+------------------------------------------------------------------------------------------------------+--------------+-------------+----------------------+-----------------+-------------+--------+------------------+--------+----------------------------------+---------------------+\n",
            "|       1 | ACADEMY DINOSAUR | A Epic Drama of a Feminist And a Mad Scientist who must Battle a Teacher in The Canadian Rockies     |         2006 |           1 |                 NULL |               6 |        0.99 |     86 |            20.99 | PG     | Deleted Scenes,Behind the Scenes | 2006-02-15 05:03:42 |\n",
            "|       2 | ACE GOLDFINGER   | A Astounding Epistle of a Database Administrator And a Explorer who must Find a Car in Ancient China |         2006 |           1 |                 NULL |               3 |        4.99 |     48 |            12.99 | G      | Trailers,Deleted Scenes          | 2006-02-15 05:03:42 |\n",
            "|       3 | ADAPTATION HOLES | A Astounding Reflection of a Lumberjack And a Car who must Sink a Lumberjack in A Baloon Factory     |         2006 |           1 |                 NULL |               7 |        2.99 |     50 |            18.99 | NC-17  | Trailers,Deleted Scenes          | 2006-02-15 05:03:42 |\n",
            "+---------+------------------+------------------------------------------------------------------------------------------------------+--------------+-------------+----------------------+-----------------+-------------+--------+------------------+--------+----------------------------------+---------------------+\n"
          ]
        }
      ],
      "source": [
        "!mysql sakila -e \"select * from film LIMIT 3\""
      ]
    },
    {
      "cell_type": "code",
      "execution_count": null,
      "id": "23052848-c3f5-4147-94a9-2fff62bd5366",
      "metadata": {
        "id": "23052848-c3f5-4147-94a9-2fff62bd5366",
        "outputId": "3afd697c-b430-4451-baaf-9a3266eefecf"
      },
      "outputs": [
        {
          "name": "stdout",
          "output_type": "stream",
          "text": [
            "+----------+---------+---------------------+\n",
            "| actor_id | film_id | last_update         |\n",
            "+----------+---------+---------------------+\n",
            "|        1 |       1 | 2006-02-15 05:05:03 |\n",
            "|        1 |      23 | 2006-02-15 05:05:03 |\n",
            "|        1 |      25 | 2006-02-15 05:05:03 |\n",
            "+----------+---------+---------------------+\n"
          ]
        }
      ],
      "source": [
        "!mysql sakila -e \"select * from film_actor LIMIT 3\""
      ]
    },
    {
      "cell_type": "code",
      "execution_count": null,
      "id": "591ab426-9d84-4205-b221-decd09c9703b",
      "metadata": {
        "id": "591ab426-9d84-4205-b221-decd09c9703b",
        "outputId": "4a407af5-6969-4e18-e013-f9bda1fa28a8"
      },
      "outputs": [
        {
          "name": "stdout",
          "output_type": "stream",
          "text": [
            "+---------+-------------+---------------------+\n",
            "| film_id | category_id | last_update         |\n",
            "+---------+-------------+---------------------+\n",
            "|       1 |           6 | 2006-02-15 05:07:09 |\n",
            "|       2 |          11 | 2006-02-15 05:07:09 |\n",
            "|       3 |           6 | 2006-02-15 05:07:09 |\n",
            "+---------+-------------+---------------------+\n"
          ]
        }
      ],
      "source": [
        "!mysql sakila -e \"select * from film_category LIMIT 3\""
      ]
    },
    {
      "cell_type": "code",
      "execution_count": null,
      "id": "c31605ca-16af-4c31-b9bf-4b33480929a2",
      "metadata": {
        "id": "c31605ca-16af-4c31-b9bf-4b33480929a2",
        "outputId": "f3d8e453-148d-4aad-9acd-03ecfe8f8429"
      },
      "outputs": [
        {
          "name": "stdout",
          "output_type": "stream",
          "text": [
            "+------+------------------+------------------------------------------------------------------------------------------------------+-------------+-------+--------+--------+------------------------------------------------------------------------------------------------------------------------------------------------+\n",
            "| FID  | title            | description                                                                                          | category    | price | length | rating | actors                                                                                                                                         |\n",
            "+------+------------------+------------------------------------------------------------------------------------------------------+-------------+-------+--------+--------+------------------------------------------------------------------------------------------------------------------------------------------------+\n",
            "|    1 | ACADEMY DINOSAUR | A Epic Drama of a Feminist And a Mad Scientist who must Battle a Teacher in The Canadian Rockies     | Documentary |  0.99 |     86 | PG     | PENELOPE GUINESS, MARY KEITEL, ROCK DUKAKIS, OPRAH KILMER, WARREN NOLTE, MENA TEMPLE, JOHNNY CAGE, SANDRA PECK, LUCILLE TRACY, CHRISTIAN GABLE |\n",
            "|    2 | ACE GOLDFINGER   | A Astounding Epistle of a Database Administrator And a Explorer who must Find a Car in Ancient China | Horror      |  4.99 |     48 | G      | BOB FAWCETT, MINNIE ZELLWEGER, SEAN GUINESS, CHRIS DEPP                                                                                        |\n",
            "|    3 | ADAPTATION HOLES | A Astounding Reflection of a Lumberjack And a Car who must Sink a Lumberjack in A Baloon Factory     | Documentary |  2.99 |     50 | NC-17  | JULIANNE DENCH, RAY JOHANSSON, CAMERON STREEP, BOB FAWCETT, NICK WAHLBERG                                                                      |\n",
            "+------+------------------+------------------------------------------------------------------------------------------------------+-------------+-------+--------+--------+------------------------------------------------------------------------------------------------------------------------------------------------+\n"
          ]
        }
      ],
      "source": [
        "!mysql sakila -e \"select * from film_list LIMIT 3\""
      ]
    },
    {
      "cell_type": "code",
      "execution_count": null,
      "id": "7a8c983d-e9b0-4fa6-b293-c5aa0232b319",
      "metadata": {
        "id": "7a8c983d-e9b0-4fa6-b293-c5aa0232b319",
        "outputId": "0a7596c2-5061-4f84-fffa-c6aec9823313"
      },
      "outputs": [
        {
          "name": "stdout",
          "output_type": "stream",
          "text": [
            "+---------+------------------+------------------------------------------------------------------------------------------------------+\n",
            "| film_id | title            | description                                                                                          |\n",
            "+---------+------------------+------------------------------------------------------------------------------------------------------+\n",
            "|       1 | ACADEMY DINOSAUR | A Epic Drama of a Feminist And a Mad Scientist who must Battle a Teacher in The Canadian Rockies     |\n",
            "|       2 | ACE GOLDFINGER   | A Astounding Epistle of a Database Administrator And a Explorer who must Find a Car in Ancient China |\n",
            "|       3 | ADAPTATION HOLES | A Astounding Reflection of a Lumberjack And a Car who must Sink a Lumberjack in A Baloon Factory     |\n",
            "+---------+------------------+------------------------------------------------------------------------------------------------------+\n"
          ]
        }
      ],
      "source": [
        "!mysql sakila -e \"select * from film_text LIMIT 3\""
      ]
    },
    {
      "cell_type": "code",
      "execution_count": null,
      "id": "d7d3a5a2-4cdb-4700-b66a-07fff46b43bc",
      "metadata": {
        "id": "d7d3a5a2-4cdb-4700-b66a-07fff46b43bc",
        "outputId": "5a592146-81fa-4fb1-9658-2b9d0cc525a0"
      },
      "outputs": [
        {
          "name": "stdout",
          "output_type": "stream",
          "text": [
            "+--------------+---------+----------+---------------------+\n",
            "| inventory_id | film_id | store_id | last_update         |\n",
            "+--------------+---------+----------+---------------------+\n",
            "|            1 |       1 |        1 | 2006-02-15 05:09:17 |\n",
            "|            2 |       1 |        1 | 2006-02-15 05:09:17 |\n",
            "|            3 |       1 |        1 | 2006-02-15 05:09:17 |\n",
            "+--------------+---------+----------+---------------------+\n"
          ]
        }
      ],
      "source": [
        "!mysql sakila -e \"select * from inventory LIMIT 3\""
      ]
    },
    {
      "cell_type": "code",
      "execution_count": null,
      "id": "5d3c4caa-8d30-42c6-8330-9cb5220d9c06",
      "metadata": {
        "id": "5d3c4caa-8d30-42c6-8330-9cb5220d9c06",
        "outputId": "00f1f734-be06-4aa2-8693-ed14f281a2af"
      },
      "outputs": [
        {
          "name": "stdout",
          "output_type": "stream",
          "text": [
            "+-------------+----------+---------------------+\n",
            "| language_id | name     | last_update         |\n",
            "+-------------+----------+---------------------+\n",
            "|           1 | English  | 2006-02-15 05:02:19 |\n",
            "|           2 | Italian  | 2006-02-15 05:02:19 |\n",
            "|           3 | Japanese | 2006-02-15 05:02:19 |\n",
            "+-------------+----------+---------------------+\n"
          ]
        }
      ],
      "source": [
        "!mysql sakila -e \"select * from language LIMIT 3\""
      ]
    },
    {
      "cell_type": "code",
      "execution_count": null,
      "id": "e758f8b8-1573-4ca2-8a6f-732b7e392ade",
      "metadata": {
        "id": "e758f8b8-1573-4ca2-8a6f-732b7e392ade",
        "outputId": "df04ae5b-95c3-4c31-8bec-9c303a62c41f"
      },
      "outputs": [
        {
          "name": "stdout",
          "output_type": "stream",
          "text": [
            "+------+------------------+------------------------------------------------------------------------------------------------------+-------------+-------+--------+--------+------------------------------------------------------------------------------------------------------------------------------------------------+\n",
            "| FID  | title            | description                                                                                          | category    | price | length | rating | actors                                                                                                                                         |\n",
            "+------+------------------+------------------------------------------------------------------------------------------------------+-------------+-------+--------+--------+------------------------------------------------------------------------------------------------------------------------------------------------+\n",
            "|    1 | ACADEMY DINOSAUR | A Epic Drama of a Feminist And a Mad Scientist who must Battle a Teacher in The Canadian Rockies     | Documentary |  0.99 |     86 | PG     | Penelope Guiness, Mary Keitel, Rock Dukakis, Oprah Kilmer, Warren Nolte, Mena Temple, Johnny Cage, Sandra Peck, Lucille Tracy, Christian Gable |\n",
            "|    2 | ACE GOLDFINGER   | A Astounding Epistle of a Database Administrator And a Explorer who must Find a Car in Ancient China | Horror      |  4.99 |     48 | G      | Bob Fawcett, Minnie Zellweger, Sean Guiness, Chris Depp                                                                                        |\n",
            "|    3 | ADAPTATION HOLES | A Astounding Reflection of a Lumberjack And a Car who must Sink a Lumberjack in A Baloon Factory     | Documentary |  2.99 |     50 | NC-17  | Julianne Dench, Ray Johansson, Cameron Streep, Bob Fawcett, Nick Wahlberg                                                                      |\n",
            "+------+------------------+------------------------------------------------------------------------------------------------------+-------------+-------+--------+--------+------------------------------------------------------------------------------------------------------------------------------------------------+\n"
          ]
        }
      ],
      "source": [
        "!mysql sakila -e \"select * from nicer_but_slower_film_list LIMIT 3\""
      ]
    },
    {
      "cell_type": "code",
      "execution_count": null,
      "id": "fe240564-4ca7-429b-80b6-09d11f7589f9",
      "metadata": {
        "id": "fe240564-4ca7-429b-80b6-09d11f7589f9",
        "outputId": "1391ca48-e2ce-4656-8306-8316e2c9f6ce"
      },
      "outputs": [
        {
          "name": "stdout",
          "output_type": "stream",
          "text": [
            "+------------+-------------+----------+-----------+--------+---------------------+---------------------+\n",
            "| payment_id | customer_id | staff_id | rental_id | amount | payment_date        | last_update         |\n",
            "+------------+-------------+----------+-----------+--------+---------------------+---------------------+\n",
            "|          1 |           1 |        1 |        76 |   2.99 | 2005-05-25 11:30:37 | 2006-02-15 22:12:30 |\n",
            "|          2 |           1 |        1 |       573 |   0.99 | 2005-05-28 10:35:23 | 2006-02-15 22:12:30 |\n",
            "|          3 |           1 |        1 |      1185 |   5.99 | 2005-06-15 00:54:12 | 2006-02-15 22:12:30 |\n",
            "+------------+-------------+----------+-----------+--------+---------------------+---------------------+\n"
          ]
        }
      ],
      "source": [
        "!mysql sakila -e \"select * from payment LIMIT 3\""
      ]
    },
    {
      "cell_type": "code",
      "execution_count": null,
      "id": "8c9907be-02d4-4c0e-afe9-b99f4e59d67e",
      "metadata": {
        "id": "8c9907be-02d4-4c0e-afe9-b99f4e59d67e",
        "outputId": "b095e422-5583-480b-9149-503851cee41b"
      },
      "outputs": [
        {
          "name": "stdout",
          "output_type": "stream",
          "text": [
            "+-----------+---------------------+--------------+-------------+---------------------+----------+---------------------+\n",
            "| rental_id | rental_date         | inventory_id | customer_id | return_date         | staff_id | last_update         |\n",
            "+-----------+---------------------+--------------+-------------+---------------------+----------+---------------------+\n",
            "|         1 | 2005-05-24 22:53:30 |          367 |         130 | 2005-05-26 22:04:30 |        1 | 2006-02-15 21:30:53 |\n",
            "|         2 | 2005-05-24 22:54:33 |         1525 |         459 | 2005-05-28 19:40:33 |        1 | 2006-02-15 21:30:53 |\n",
            "|         3 | 2005-05-24 23:03:39 |         1711 |         408 | 2005-06-01 22:12:39 |        1 | 2006-02-15 21:30:53 |\n",
            "+-----------+---------------------+--------------+-------------+---------------------+----------+---------------------+\n"
          ]
        }
      ],
      "source": [
        "!mysql sakila -e \"select * from rental LIMIT 3\""
      ]
    },
    {
      "cell_type": "code",
      "execution_count": null,
      "id": "42235592-917f-463e-883e-8743a7afc4f5",
      "metadata": {
        "id": "42235592-917f-463e-883e-8743a7afc4f5",
        "outputId": "4dcfe955-166d-4df0-e056-5f3d57ec9a9d"
      },
      "outputs": [
        {
          "name": "stdout",
          "output_type": "stream",
          "text": [
            "+-----------+-------------+\n",
            "| category  | total_sales |\n",
            "+-----------+-------------+\n",
            "| Sports    |     5314.21 |\n",
            "| Sci-Fi    |     4756.98 |\n",
            "| Animation |     4656.30 |\n",
            "+-----------+-------------+\n"
          ]
        }
      ],
      "source": [
        "!mysql sakila -e \"select * from sales_by_film_category LIMIT 3\""
      ]
    },
    {
      "cell_type": "code",
      "execution_count": null,
      "id": "cfd07ec9-5143-4113-85cc-a7581d392caf",
      "metadata": {
        "id": "cfd07ec9-5143-4113-85cc-a7581d392caf",
        "outputId": "7fbbebd5-40f3-4d95-ebba-68415326936a"
      },
      "outputs": [
        {
          "name": "stdout",
          "output_type": "stream",
          "text": [
            "+---------------------+--------------+-------------+\n",
            "| store               | manager      | total_sales |\n",
            "+---------------------+--------------+-------------+\n",
            "| Woodridge,Australia | Jon Stephens |    33726.77 |\n",
            "| Lethbridge,Canada   | Mike Hillyer |    33679.79 |\n",
            "+---------------------+--------------+-------------+\n"
          ]
        }
      ],
      "source": [
        "!mysql sakila -e \"select * from sales_by_store LIMIT 3\""
      ]
    },
    {
      "cell_type": "code",
      "execution_count": null,
      "id": "4a872dbb-f174-4d5f-8cb0-079cbe87e3ef",
      "metadata": {
        "tags": [],
        "id": "4a872dbb-f174-4d5f-8cb0-079cbe87e3ef",
        "outputId": "153c93b0-f91c-4a8e-8547-5ff88cf2be34"
      },
      "outputs": [
        {
          "name": "stdout",
          "output_type": "stream",
          "text": [
            "+----------+------------+-----------+------------+-------------------------------------------------------------------------------------------------------------------------------------------------------------------------------------------------------------------------------------------------------------------------------------------------------------------------------------------------------------------------------------------------------------------------------------------------------------------------------------------------------------------------------------------------------------------------------------------------------------------------------------------------------------------------------------------------------------------------------------------------------------------------------------------------------------------------------------------------------------------------------------------------------------------------------------------------------------------------------------------------------------------------------------------------------------------------------------------------------------------------------------------------------------------------------------------------------------------------------------------------------------------------------------------------------------------------------------------------------------------------------------------------------------------------------------------------------------------------------------------------------------------------------------------------------------------------------------------------------------------------------------------------------------------------------------------------------------------------------------------------------------------------------------------------------------------------------------------------------------------------------------------------------------------------------------------------------------------------------------------------------------------------------------------------------------------------------------------------------------------------------------------------------------------------------------------------------------------------------------------------------------------------------------------------------------------------------------------------------------------------------------------------------------------------------------------------------------------------------------------------------------------------------------------------------------------------------------------------------------------------------------------------------------------------------------------------------------------------------------------------------------------------------------------------------------------------------------------------------------------------------------------------------------------------------------------------------------------------------------------------------------------------------------------------------------------------------------------------------------------------------------------------------------------------------------------------------------------------------------------------------------------------------------------------------------------------------------------------------------------------------------------------------------------------------------------------------------------------------------------------------------------------------------------------------------------------------------------------------------------------------------------------------------------------------------------------------------------------------------------------------------------------------------------------------------------------------------------------------------------------------------------------------------------------------------------------------------------------------------------------------------------------------------------------------------------------------------------------------------------------------------------------------------------------------------------------------------------------------------------------------------------------------------------------------------------------------------------------------------------------------------------------------------------------------------------------------------------------------------------------------------------------------------------------------------------------------------------------------------------------------------------------------------------------------------------------------------------------------------------------------------------------------------------------------------------------------------------------------------------------------------------------------------------------------------------------------------------------------------------------------------------------------------------------------------------------------------------------------------------------------------------------------------------------------------------------------------------------------------------------------------------------------------------------------------------------------------------------------------------------------------------------------------------------------------------------------------------------------------------------------------------------------------------------------------------------------------------------------------------------------------------------------------------------------------------------------------------------------------------------------------------------------------------------------------------------------------------------------------------------------------------------------------------------------------------------------------------------------------------------------------------------------------------------------------------------------------------------------------------------------------------------------------------------------------------------------------------------------------------------------------------------------------------------------------------------------------------------------------------------------------------------------------------------------------------------------------------------------------------------------------------------------------------------------------------------------------------------------------------------------------------------------------------------------------------------------------------------------------------------------------------------------------------------------------------------------------------------------------------------------------------------------------------------------------------------------------------------------------------------------------------------------------------------------------------------------------------------------------------------------------------------------------------------------------------------------------------------------------------------------------------------------------------------------------------------------------------------------------------------------------------------------------------------------------------------------------------------------------------------------------------------------------------------------------------------------------------------------------------------------------------------------------------------------------------------------------------------------------------------------------------------------------------------------------------------------------------------------------------------------------------------------------------------------------------------------------------------------------------------------------------------------------------------------------------------------------------------------------------------------------------------------------------------------------------------------------------------------------------------------------------------------------------------------------------------------------------------------------------------------------------------------------------------------------------------------------------------------------------------------------------------------------------------------------------------------------------------------------------------------------------------------------------------------------------------------------------------------------------------------------------------------------------------------------------------------------------------------------------------------------------------------------------------------------------------------------------------------------------------------------------------------------------------------------------------------------------------------------------------------------------------------------------------------------------------------------------------------------------------------------------------------------------------------------------------------------------------------------------------------------------------------------------------------------------------------------------------------------------------------------------------------------------------------------------------------------------------------------------------------------------------------------------------------------------------------------------------------------------------------------------------------------------------------------------------------------------------------------------------------------------------------------------------------------------------------------------------------------------------------------------------------------------------------------------------------------------------------------------------------------------------------------------------------------------------------------------------------------------------------------------------------------------------------------------------------------------------------------------------------------------------------------------------------------------------------------------------------------------------------------------------------------------------------------------------------------------------------------------------------------------------------------------------------------------------------------------------------------------------------------------------------------------------------------------------------------------------------------------------------------------------------------------------------------------------------------------------------------------------------------------------------------------------------------------------------------------------------------------------------------------------------------------------------------------------------------------------------------------------------------------------------------------------------------------------------------------------------------------------------------------------------------------------------------------------------------------------------------------------------------------------------------------------------------------------------------------------------------------------------------------------------------------------------------------------------------------------------------------------------------------------------------------------------------------------------------------------------------------------------------------------------------------------------------------------------------------------------------------------------------------------------------------------------------------------------------------------------------------------------------------------------------------------------------------------------------------------------------------------------------------------------------------------------------------------------------------------------------------------------------------------------------------------------------------------------------------------------------------------------------------------------------------------------------------------------------------------------------------------------------------------------------------------------------------------------------------------------------------------------------------------------------------------------------------------------------------------------------------------------------------------------------------------------------------------------------------------------------------------------------------------------------------------------------------------------------------------------------------------------------------------------------------------------------------------------------------------------------------------------------------------------------------------------------------------------------------------------------------------------------------------------------------------------------------------------------------------------------------------------------------------------------------------------------------------------------------------------------------------------------------------------------------------------------------------------------------------------------------------------------------------------------------------------------------------------------------------------------------------------------------------------------------------------------------------------------------------------------------------------------------------------------------------------------------------------------------------------------------------------------------------------------------------------------------------------------------------------------------------------------------------------------------------------------------------------------------------------------------------------------------------------------------------------------------------------------------------------------------------------------------------------------------------------------------------------------------------------------------------------------------------------------------------------------------------------------------------------------------------------------------------------------------------------------------------------------------------------------------------------------------------------------------------------------------------------------------------------------------------------------------------------------------------------------------------------------------------------------------------------------------------------------------------------------------------------------------------------------------------------------------------------------------------------------------------------------------------------------------------------------------------------------------------------------------------------------------------------------------------------------------------------------------------------------------------------------------------------------------------------------------------------------------------------------------------------------------------------------------------------------------------------------------------------------------------------------------------------------------------------------------------------------------------------------------------------------------------------------------------------------------------------------------------------------------------------------------------------------------------------------------------------------------------------------------------------------------------------------------------------------------------------------------------------------------------------------------------------------------------------------------------------------------------------------------------------------------------------------------------------------------------------------------------------------------------------------------------------------------------------------------------------------------------------------------------------------------------------------------------------------------------------------------------------------------------------------------------------------------------------------------------------------------------------------------------------------------------------------------------------------------------------------------------------------------------------------------------------------------------------------------------------------------------------------------------------------------------------------------------------------------------------------------------------------------------------------------------------------------------------------------------------------------------------------------------------------------------------------------------------------------------------------------------------------------------------------------------------------------------------------------------------------------------------------------------------------------------------------------------------------------------------------------------------------------------------------------------------------------------------------------------------------------------------------------------------------------------------------------------------------------------------------------------------------------------------------------------------------------------------------------------------------------------------------------------------------------------------------------------------------------------------------------------------------------------------------------------------------------------------------------------------------------------------------------------------------------------------------------------------------------------------------------------------------------------------------------------------------------------------------------------------------------------------------------------------------------------------------------------------------------------------------------------------------------------------------------------------------------------------------------------------------------------------------------------------------------------------------------------------------------------------------------------------------------------------------------------------------------------------------------------------------------------------------------------------------------------------------------------------------------------------------------------------------------------------------------------------------------------------------------------------------------------------------------------------------------------------------------------------------------------------------------------------------------------------------------------------------------------------------------------------------------------------------------------------------------------------------------------------------------------------------------------------------------------------------------------------------------------------------------------------------------------------------------------------------------------------------------------------------------------------------------------------------------------------------------------------------------------------------------------------------------------------------------------------------------------------------------------------------------------------------------------------------------------------------------------------------------------------------------------------------------------------------------------------------------------------------------------------------------------------------------------------------------------------------------------------------------------------------------------------------------------------------------------------------------------------------------------------------------------------------------------------------------------------------------------------------------------------------------------------------------------------------------------------------------------------------------------------------------------------------------------------------------------------------------------------------------------------------------------------------------------------------------------------------------------------------------------------------------------------------------------------------------------------------------------------------------------------------------------------------------------------------------------------------------------------------------------------------------------------------------------------------------------------------------------------------------------------------------------------------------------------------------------------------------------------------------------------------------------------------------------------------------------------------------------------------------------------------------------------------------------------------------------------------------------------------------------------------------------------------------------------------------------------------------------------------------------------------------------------------------------------------------------------------------------------------------------------------------------------------------------------------------------------------------------------------------------------------------------------------------------------------------------------------------------------------------------------------------------------------------------------------------------------------------------------------------------------------------------------------------------------------------------------------------------------------------------------------------------------------------------------------------------------------------------------------------------------------------------------------------------------------------------------------------------------------------------------------------------------------------------------------------------------------------------------------------------------------------------------------------------------------------------------------------------------------------------------------------------------------------------------------------------------------------------------------------------------------------------------------------------------------------------------------------------------------------------------------------------------------------------------------------------------------------------------------------------------------------------------------------------------------------------------------------------------------------------------------------------------------------------------------------------------------------------------------------------------------------------------------------------------------------------------------------------------------------------------------------------------------------------------------------------------------------------------------------------------------------------------------------------------------------------------------------------------------------------------------------------------------------------------------------------------------------------------------------------------------------------------------------------------------------------------------------------------------------------------------------------------------------------------------------------------------------------------------------------------------------------------------------------------------------------------------------------------------------------------------------------------------------------------------------------------------------------------------------------------------------------------------------------------------------------------------------------------------------------------------------------------------------------------------------------------------------------------------------------------------------------------------------------------------------------------------------------------------------------------------------------------------------------------------------------------------------------------------------------------------------------------------------------------------------------------------------------------------------------------------------------------------------------------------------------------------------------------------------------------------------------------------------------------------------------------------------------------------------------------------------------------------------------------------------------------------------------------------------------------------------------------------------------------------------------------------------------------------------------------------------------------------------------------------------------------------------------------------------------------------------------------------------------------------------------------------------------------------------------------------------------------------------------------------------------------------------------------------------------------------------------------------------------------------------------------------------------------------------------------------------------------------------------------------------------------------------------------------------------------------------------------------------------------------------------------------------------------------------------------------------------------------------------------------------------------------------------------------------------------------------------------------------------------------------------------------------------------------------------------------------------------------------------------------------------------------------------------------------------------------------------------------------------------------------------------------------------------------------------------------------------------------------------------------------------------------------------------------------------------------------------------------------------------------------------------------------------------------------------------------------------------------------------------------------------------------------------------------------------------------------------------------------------------------------------------------------------------------------------------------------------------------------------------------------------------------------------------------------------------------------------------------------------------------------------------------------------------------------------------------------------------------------------------------------------------------------------------------------------------------------------------------------------------------------------------------------------------------------------------------------------------------------------------------------------------------------------------------------------------------------------------------------------------------------------------------------------------------------------------------------------------------------------------------------------------------------------------------------------------------------------------------------------------------------------------------------------------------------------------------------------------------------------------------------------------------------------------------------------------------------------------------------------------------------------------------------------------------------------------------------------------------------------------------------------------------------------------------------------------------------------------------------------------------------------------------------------------------------------------------------------------------------------------------------------------------------------------------------------------------------------------------------------------------------------------------------------------------------------------------------------------------------------------------------------------------------------------------------------------------------------------------------------------------------------------------------------------------------------------------------------------------------------------------------------------------------------------------------------------------------------------------------------------------------------------------------------------------------------------------------------------------------------------------------------------------------------------------------------------------------------------------------------------------------------------------------------------------------------------------------------------------------------------------------------------------------------------------------------------------------------------------------------------------------------------------------------------------------------------------------------------------------------------------------------------------------------------------------------------------------------------------------------------------------------------------------------------------------------------------------------------------------------------------------------------------------------------------------------------------------------------------------------------------------------------------------------------------------------------------------------------------------------------------------------------------------------------------------------------------------------------------------------------------------------------------------------------------------------------------------------------------------------------------------------------------------------------------------------------------------------------------------------------------------------------------------------------------------------------------------------------------------------------------------------------------------------------------------------------------------------------------------------------------------------------------------------------------------------------------------------------------------------------------------------------------------------------------------------------------------------------------------------------------------------------------------------------------------------------------------------------------------------------------------------------------------------------------------------------------------------------------------------------------------------------------------------------------------------------------------------------------------------------------------------------------------------------------------------------------------------------------------------------------------------------------------------------------------------------------------------------------------------------------------------------------------------------------------------------------------------------------------------------------------------------------------------------------------------------------------------------------------------------------------------------------------------------------------------------------------------------------------------------------------------------------------------------------------------------------------------------------------------------------------------------------------------------------------------------------------------------------------------------------------------------------------------------------------------------------------------------------------------------------------------------------------------------------------------------------------------------------------------------------------------------------------------------------------------------------------------------------------------------------------------------------------------------------------------------------------------------------------------------------------------------------------------------------------------------------------------------------------------------------------------------------------------------------------------------------------------------------------------------------------------------------------------------------------------------------------------------------------------------------------------------------------------------------------------------------------------------------------------------------------------------------------------------------------------------------------------------------------------------------------------------------------------------------------------------------------------------------------------------------------------------------------------------------------------------------------------------------------------------------------------------------------------------------------------------------------------------------------------------------------------------------------------------------------------------------------------------------------------------------------------------------------------------------------------------------------------------------------------------------------------------------------------------------------------------------------------------------------------------------------------------------------------------------------------------------------------------------------------------------------------------------------------------------------------------------------------------------------------------------------------------------------------------------------------------------------------------------------------------------------------------------------------------------------------------------------------------------------------------------------------------------------------------------------------------------------------------------------------------------------------------------------------------------------------------------------------------------------------------------------------------------------------------------------------------------------------------------------------------------------------------------------------------------------------------------------------------------------------------------------------------------------------------------------------------------------------------------------------------------------------------------------------------------------------------------------------------------------------------------------------------------------------------------------------------------------------------------------------------------------------------------------------------------------------------------------------------------------------------------------------------------------------------------------------------------------------------------------------------------------------------------------------------------------------------------------------------------------------------------------------------------------------------------------------------------------------------------------------------------------------------------------------------------------------------------------------------------------------------------------------------------------------------------------------------------------------------------------------------------------------------------------------------------------------------------------------------------------------------------------------------------------------------------------------------------------------------------------------------------------------------------------------------------------------------------------------------------------------------------------------------------------------------------------------------------------------------------------------------------------------------------------------------------------------------------------------------------------------------------------------------------------------------------------------------+------------------------------+----------+--------+----------+------------------------------------------+---------------------+\n",
            "| staff_id | first_name | last_name | address_id | picture                                                                                                                                                                                                                                                                                                                                                                                                                                                                                                                                                                                                                                                                                                                                                                                                                                                                                                                                                                                                                                                          | email                        | store_id | active | username | password                                 | last_update         |\n",
            "+----------+------------+-----------+------------+-------------------------------------------------------------------------------------------------------------------------------------------------------------------------------------------------------------------------------------------------------------------------------------------------------------------------------------------------------------------------------------------------------------------------------------------------------------------------------------------------------------------------------------------------------------------------------------------------------------------------------------------------------------------------------------------------------------------------------------------------------------------------------------------------------------------------------------------------------------------------------------------------------------------------------------------------------------------------------------------------------------------------------------------------------------------------------------------------------------------------------------------------------------------------------------------------------------------------------------------------------------------------------------------------------------------------------------------------------------------------------------------------------------------------------------------------------------------------------------------------------------------------------------------------------------------------------------------------------------------------------------------------------------------------------------------------------------------------------------------------------------------------------------------------------------------------------------------------------------------------------------------------------------------------------------------------------------------------------------------------------------------------------------------------------------------------------------------------------------------------------------------------------------------------------------------------------------------------------------------------------------------------------------------------------------------------------------------------------------------------------------------------------------------------------------------------------------------------------------------------------------------------------------------------------------------------------------------------------------------------------------------------------------------------------------------------------------------------------------------------------------------------------------------------------------------------------------------------------------------------------------------------------------------------------------------------------------------------------------------------------------------------------------------------------------------------------------------------------------------------------------------------------------------------------------------------------------------------------------------------------------------------------------------------------------------------------------------------------------------------------------------------------------------------------------------------------------------------------------------------------------------------------------------------------------------------------------------------------------------------------------------------------------------------------------------------------------------------------------------------------------------------------------------------------------------------------------------------------------------------------------------------------------------------------------------------------------------------------------------------------------------------------------------------------------------------------------------------------------------------------------------------------------------------------------------------------------------------------------------------------------------------------------------------------------------------------------------------------------------------------------------------------------------------------------------------------------------------------------------------------------------------------------------------------------------------------------------------------------------------------------------------------------------------------------------------------------------------------------------------------------------------------------------------------------------------------------------------------------------------------------------------------------------------------------------------------------------------------------------------------------------------------------------------------------------------------------------------------------------------------------------------------------------------------------------------------------------------------------------------------------------------------------------------------------------------------------------------------------------------------------------------------------------------------------------------------------------------------------------------------------------------------------------------------------------------------------------------------------------------------------------------------------------------------------------------------------------------------------------------------------------------------------------------------------------------------------------------------------------------------------------------------------------------------------------------------------------------------------------------------------------------------------------------------------------------------------------------------------------------------------------------------------------------------------------------------------------------------------------------------------------------------------------------------------------------------------------------------------------------------------------------------------------------------------------------------------------------------------------------------------------------------------------------------------------------------------------------------------------------------------------------------------------------------------------------------------------------------------------------------------------------------------------------------------------------------------------------------------------------------------------------------------------------------------------------------------------------------------------------------------------------------------------------------------------------------------------------------------------------------------------------------------------------------------------------------------------------------------------------------------------------------------------------------------------------------------------------------------------------------------------------------------------------------------------------------------------------------------------------------------------------------------------------------------------------------------------------------------------------------------------------------------------------------------------------------------------------------------------------------------------------------------------------------------------------------------------------------------------------------------------------------------------------------------------------------------------------------------------------------------------------------------------------------------------------------------------------------------------------------------------------------------------------------------------------------------------------------------------------------------------------------------------------------------------------------------------------------------------------------------------------------------------------------------------------------------------------------------------------------------------------------------------------------------------------------------------------------------------------------------------------------------------------------------------------------------------------------------------------------------------------------------------------------------------------------------------------------------------------------------------------------------------------------------------------------------------------------------------------------------------------------------------------------------------------------------------------------------------------------------------------------------------------------------------------------------------------------------------------------------------------------------------------------------------------------------------------------------------------------------------------------------------------------------------------------------------------------------------------------------------------------------------------------------------------------------------------------------------------------------------------------------------------------------------------------------------------------------------------------------------------------------------------------------------------------------------------------------------------------------------------------------------------------------------------------------------------------------------------------------------------------------------------------------------------------------------------------------------------------------------------------------------------------------------------------------------------------------------------------------------------------------------------------------------------------------------------------------------------------------------------------------------------------------------------------------------------------------------------------------------------------------------------------------------------------------------------------------------------------------------------------------------------------------------------------------------------------------------------------------------------------------------------------------------------------------------------------------------------------------------------------------------------------------------------------------------------------------------------------------------------------------------------------------------------------------------------------------------------------------------------------------------------------------------------------------------------------------------------------------------------------------------------------------------------------------------------------------------------------------------------------------------------------------------------------------------------------------------------------------------------------------------------------------------------------------------------------------------------------------------------------------------------------------------------------------------------------------------------------------------------------------------------------------------------------------------------------------------------------------------------------------------------------------------------------------------------------------------------------------------------------------------------------------------------------------------------------------------------------------------------------------------------------------------------------------------------------------------------------------------------------------------------------------------------------------------------------------------------------------------------------------------------------------------------------------------------------------------------------------------------------------------------------------------------------------------------------------------------------------------------------------------------------------------------------------------------------------------------------------------------------------------------------------------------------------------------------------------------------------------------------------------------------------------------------------------------------------------------------------------------------------------------------------------------------------------------------------------------------------------------------------------------------------------------------------------------------------------------------------------------------------------------------------------------------------------------------------------------------------------------------------------------------------------------------------------------------------------------------------------------------------------------------------------------------------------------------------------------------------------------------------------------------------------------------------------------------------------------------------------------------------------------------------------------------------------------------------------------------------------------------------------------------------------------------------------------------------------------------------------------------------------------------------------------------------------------------------------------------------------------------------------------------------------------------------------------------------------------------------------------------------------------------------------------------------------------------------------------------------------------------------------------------------------------------------------------------------------------------------------------------------------------------------------------------------------------------------------------------------------------------------------------------------------------------------------------------------------------------------------------------------------------------------------------------------------------------------------------------------------------------------------------------------------------------------------------------------------------------------------------------------------------------------------------------------------------------------------------------------------------------------------------------------------------------------------------------------------------------------------------------------------------------------------------------------------------------------------------------------------------------------------------------------------------------------------------------------------------------------------------------------------------------------------------------------------------------------------------------------------------------------------------------------------------------------------------------------------------------------------------------------------------------------------------------------------------------------------------------------------------------------------------------------------------------------------------------------------------------------------------------------------------------------------------------------------------------------------------------------------------------------------------------------------------------------------------------------------------------------------------------------------------------------------------------------------------------------------------------------------------------------------------------------------------------------------------------------------------------------------------------------------------------------------------------------------------------------------------------------------------------------------------------------------------------------------------------------------------------------------------------------------------------------------------------------------------------------------------------------------------------------------------------------------------------------------------------------------------------------------------------------------------------------------------------------------------------------------------------------------------------------------------------------------------------------------------------------------------------------------------------------------------------------------------------------------------------------------------------------------------------------------------------------------------------------------------------------------------------------------------------------------------------------------------------------------------------------------------------------------------------------------------------------------------------------------------------------------------------------------------------------------------------------------------------------------------------------------------------------------------------------------------------------------------------------------------------------------------------------------------------------------------------------------------------------------------------------------------------------------------------------------------------------------------------------------------------------------------------------------------------------------------------------------------------------------------------------------------------------------------------------------------------------------------------------------------------------------------------------------------------------------------------------------------------------------------------------------------------------------------------------------------------------------------------------------------------------------------------------------------------------------------------------------------------------------------------------------------------------------------------------------------------------------------------------------------------------------------------------------------------------------------------------------------------------------------------------------------------------------------------------------------------------------------------------------------------------------------------------------------------------------------------------------------------------------------------------------------------------------------------------------------------------------------------------------------------------------------------------------------------------------------------------------------------------------------------------------------------------------------------------------------------------------------------------------------------------------------------------------------------------------------------------------------------------------------------------------------------------------------------------------------------------------------------------------------------------------------------------------------------------------------------------------------------------------------------------------------------------------------------------------------------------------------------------------------------------------------------------------------------------------------------------------------------------------------------------------------------------------------------------------------------------------------------------------------------------------------------------------------------------------------------------------------------------------------------------------------------------------------------------------------------------------------------------------------------------------------------------------------------------------------------------------------------------------------------------------------------------------------------------------------------------------------------------------------------------------------------------------------------------------------------------------------------------------------------------------------------------------------------------------------------------------------------------------------------------------------------------------------------------------------------------------------------------------------------------------------------------------------------------------------------------------------------------------------------------------------------------------------------------------------------------------------------------------------------------------------------------------------------------------------------------------------------------------------------------------------------------------------------------------------------------------------------------------------------------------------------------------------------------------------------------------------------------------------------------------------------------------------------------------------------------------------------------------------------------------------------------------------------------------------------------------------------------------------------------------------------------------------------------------------------------------------------------------------------------------------------------------------------------------------------------------------------------------------------------------------------------------------------------------------------------------------------------------------------------------------------------------------------------------------------------------------------------------------------------------------------------------------------------------------------------------------------------------------------------------------------------------------------------------------------------------------------------------------------------------------------------------------------------------------------------------------------------------------------------------------------------------------------------------------------------------------------------------------------------------------------------------------------------------------------------------------------------------------------------------------------------------------------------------------------------------------------------------------------------------------------------------------------------------------------------------------------------------------------------------------------------------------------------------------------------------------------------------------------------------------------------------------------------------------------------------------------------------------------------------------------------------------------------------------------------------------------------------------------------------------------------------------------------------------------------------------------------------------------------------------------------------------------------------------------------------------------------------------------------------------------------------------------------------------------------------------------------------------------------------------------------------------------------------------------------------------------------------------------------------------------------------------------------------------------------------------------------------------------------------------------------------------------------------------------------------------------------------------------------------------------------------------------------------------------------------------------------------------------------------------------------------------------------------------------------------------------------------------------------------------------------------------------------------------------------------------------------------------------------------------------------------------------------------------------------------------------------------------------------------------------------------------------------------------------------------------------------------------------------------------------------------------------------------------------------------------------------------------------------------------------------------------------------------------------------------------------------------------------------------------------------------------------------------------------------------------------------------------------------------------------------------------------------------------------------------------------------------------------------------------------------------------------------------------------------------------------------------------------------------------------------------------------------------------------------------------------------------------------------------------------------------------------------------------------------------------------------------------------------------------------------------------------------------------------------------------------------------------------------------------------------------------------------------------------------------------------------------------------------------------------------------------------------------------------------------------------------------------------------------------------------------------------------------------------------------------------------------------------------------------------------------------------------------------------------------------------------------------------------------------------------------------------------------------------------------------------------------------------------------------------------------------------------------------------------------------------------------------------------------------------------------------------------------------------------------------------------------------------------------------------------------------------------------------------------------------------------------------------------------------------------------------------------------------------------------------------------------------------------------------------------------------------------------------------------------------------------------------------------------------------------------------------------------------------------------------------------------------------------------------------------------------------------------------------------------------------------------------------------------------------------------------------------------------------------------------------------------------------------------------------------------------------------------------------------------------------------------------------------------------------------------------------------------------------------------------------------------------------------------------------------------------------------------------------------------------------------------------------------------------------------------------------------------------------------------------------------------------------------------------------------------------------------------------------------------------------------------------------------------------------------------------------------------------------------------------------------------------------------------------------------------------------------------------------------------------------------------------------------------------------------------------------------------------------------------------------------------------------------------------------------------------------------------------------------------------------------------------------------------------------------------------------------------------------------------------------------------------------------------------------------------------------------------------------------------------------------------------------------------------------------------------------------------------------------------------------------------------------------------------------------------------------------------------------------------------------------------------------------------------------------------------------------------------------------------------------------------------------------------------------------------------------------------------------------------------------------------------------------------------------------------------------------------------------------------------------------------------------------------------------------------------------------------------------------------------------------------------------------------------------------------------------------------------------------------------------------------------------------------------------------------------------------------------------------------------------------------------------------------------------------------------------------------------------------------------------------------------------------------------------------------------------------------------------------------------------------------------------------------------------------------------------------------------------------------------------------------------------------------------------------------------------------------------------------------------------------------------------------------------------------------------------------------------------------------------------------------------------------------------------------------------------------------------------------------------------------------------------------------------------------------------------------------------------------------------------------------------------------------------------------------------------------------------------------------------------------------------------------------------------------------------------------------------------------------------------------------------------------------------------------------------------------------------------------------------------------------------------------------------------------------------------------------------------------------------------------------------------------------------------------------------------------------------------------------------------------------------------------------------------------------------------------------------------------------------------------------------------------------------------------------------------------------------------------------------------------------------------------------------------------------------------------------------------------------------------------------------------------------------------------------------------------------------------------------------------------------------------------------------------------------------------------------------------------------------------------------------------------------------------------------------------------------------------------------------------------------------------------------------------------------------------------------------------------------------------------------------------------------------------------------------------------------------------------------------------------------------------------------------------------------------------------------------------------------------------------------------------------------------------------------------------------------------------------------------------------------------------------------------------------------------------------------------------------------------------------------------------------------------------------------------------------------------------------------------------------------------------------------------------------------------------------------------------------------------------------------------------------------------------------------------------------------------------------------------------------------------------------------------------------------------------------------------------------------------------------------------------------------------------------------------------------------------------------------------------------------------------------------------------------------------------------------------------------------------------------------------------------------------------------------------------------------------------------------------------------------------------------------------------------------------------------------------------------------------------------------------------------------------------------------------------------------------------------------------------------------------------------------------------------------------------------------------------------------------------------------------------------------------------------------------------------------------------------------------------------------------------------------------------------------------------------------------------------------------------------------------------------------------------------------------------------------------------------------------------------------------------------------------------------------------------------------------------------------------------------------------------------------------------------------------------------------------------------------------------------------------------------------------------------------------------------------------------------------------------------------------------------------------------------------------------------------------------------------------------------------------------------------------------------------------------------------------------------------------------------------------------------------------------------------------------------------------------------------------------------------------------------------------------------------------------------------------------------------------------------------------------------------------------------------------------------------------------------------------------------------------------------------------------------------------------------------------------------------------------------------------------------------------------------------------------------------------------------------------------------------------------------------------------------------------------------------------------------------------------------------------------------------------------------------------------------------------------------------------------------------------------------------------------------------------------------------------------------------------------------------------------------------------------------------------------------------------------------------------------------------------------------------------------------------------------------------------------------------------------------------------------------------------------------------------------------------------------------------------------------------------------------------------------------------------------------------------------------------------------------------------------------------------------------------------------------------------------------------------------------------------------------------------------------------------------------------------------------------------------------------------------------------------------------------------------------------------------------------------------------------------------------------------------------------------------------------------------------------------------------------------------------------------------------------------------------------------------------------------------------------------------------------------------------------------------------------------------------------------------------------------------------------------------------------------------------------------------------------------------------------------------------------------------+------------------------------+----------+--------+----------+------------------------------------------+---------------------+\n",
            "|        1 | Mike       | Hillyer   |          3 | �PNG\n",
            "\u001a\n",
            "b4 3%�-��L��f�l�ΥʁͲ\u001d",
            "���D����\\\\�'�rR.ĘD�^)\u0018@V�E�RB-%�L��\u0004�\\�I��t�OD�lR/d�dD.��rF,%�l�)$���\u0012���\u0001 ��\u0016Sd>QI\u0004�B�.f�rI��\u0002��E�.�\"�\u0012e��H\u0012���\u001fu���<���V\u001d",
            "�|魗/����o�t磷_~��{�r�7_���gn���\u000f�={�0:���`�R.� 0\u0006\"\u0018�Q A\u00028VD�\u0012N�\t\u0012 H���\u0018S��\"\tg`\u0012�i���8Y���0\u0003�d\u0019!�\u0018\n",
            "�\u0002&�\u0018�\u0013\u0002� X\u0010g+\u0014\n",
            "\\��*\f",
            "\u0003R,D�E\u0004��Ȓ~�����}讇\u001e",
            "���\u0003�<�ȱ�.���_���\u001e",
            "�|�[��q���\u000f��x�ޙ�t�E�\u0002PDK\u0005\u0010\u0001`\u0014 �K(\t�x\t�K\u0018QƉ2�\u0017P\u0012 �2F\u0002\u0004^@�\u0012N\u0002č�\u0014��e�,�l\u0005c\u0011�G\u0011\u0012(\u0013�\"���\f",
            "�N�\u0003ۀl�񐘍��D\u0015̵p��C5�$\u00172B)Mg�B>$�CB>�%6ḗHmө\u001d",
            ":��f�t�ǥ�l<��\u0003\\,@��t2�d#h�G��T6�dcL\"ȧ#r6ƥ�|:�ebB)�e#��&��±\u0010��P�\u0002S.�0�V0\n",
            "�\u0004�a\u0011��1\u0002@( g@�\u0006H�B�\u0015��H\n",
            "�t\u0019g \u001c",
            "/�t\u0019eW��bI�A����q$\u0013�����6\u001a\u000f\u0010ɀRJ�P�C\u0001\u001d",
            "��Ci\u0015���\u0014Vb~ 䣲i&�\u0014r\t&\u0015b\u0012A4�M��t2He�H|xA�\u001a��*\u0013D\u0019��$��`E�\u0004p\u0012�1 '�8\n",
            "��K\u001b\u001e",
            "x{\u001d",
            "�������\u0006\u0018�)�6s\u0001o%\u0019���h�Oƃl:|#�l�̄�\\�\u0007�Z%#��\"�b\n",
            "\t���J\u0019���\n",
            "\u000b",
            "lE�!��)\u0014�*%���;\u001fP��ȩ\u0018�c VJ��\"\f",
            "\u00170��a ��\u0010���\u0005\u0018/�\u001c",
            "L\u0013%�\u0002p\u001a��2�\u0016\u00104\u00073 �U0�\\�W�`�\f",
            "���\u0003�h4P��Q��\u0001d[p�\u0005���h\u0015�����Ɉ��p�\u0004\u001e",
            "��|;!����[Y����.�ݠŉ��\u001d",
            "���n�mG�z��\u0005_����p�ΝS'��N��\u000eL\u0005��+\u0013s;�Űk%��D\\�!�+�Z\f",
            "�\\���m��3;癝�;\u0016�Υ\u001d",
            "�m{޺�`ݲZ]��~��;7�m[�9\u0016\"nGz�]�{��54����T:��T&�\u0016�t)I\u0015\u0013d6&��\u001c",
            "P�!�-CT\ta �\u0005I\u0006\"y�� ��PL��@��XE�b�\u00033L9E\u0014\u0012D>ÔK<T�@��Th\u0010aA�.�\u001c",
            "DS NC$��\u0014B�0N\u00028\n",
            "$yT�@���4D�0C�$Ua��\u0006�Q0\u0007�(eh���\u0004T�� vc\u0004s \u0005�T��VD�\\\u0005/�L�\u0015\u000e��bE A2���\t����ֈt��F�rb��.jt\u000b",
            "+\u001a������ \u0019���I\"��m�o���������']>�q����C�Y7\u00032>��ڊۿ��9��Ԫs}bʹ�\u0016)�����v0ILM.��\u0018��uN9���r$�\u0014�\u0012X��~8\u001c",
            "@C\u00018\u001c",
            "���b�_�\u0004�� \u0015��镵�w3�Y\u000b",
            "ڝ�EWȱ�[�mZ��V�ւm�j߶�B.G���l�s[�@p\u000b",
            "�\u0007�D�J��L����D�/f�B�.\u0014y�\"@\u0018_!9�` \u0012/�\u001c",
            "�R M\u0001,\u000b",
            "3L��@�\u001e",
            "�h�da�\u0001�c�t\u0019- T��r0Q@�\u0012N\u0002D�\u0004WJ0�\u0007+%�R��%�,�h��\u0015\u0011��3\u0010*a\u0004�Ɋ �\u0017�H�W�\t\u001f�ܡ��&]�\u0015\u001d",
            "J��8�\n",
            "�٨THI�$\u0016��\u001c",
            "v����������{&o�.���F\\ɩS���\u001e",
            "d\u000b",
            "������~����hh�g����K�������N\u000eZ,˽��T���c��K�K�}�'-s���}\u0003�O�-�}\u000b",
            "NF�l�˥�B\n",
            "1,D�\u0015JDX�B�\u0004{�(��,�\u00160��cE�F\u0016&�\u0018^��\u0012�\u0016\u0010��\u0012%�ʊT��e�`4�gS��\u000e\u0014���P�A\u000fD��\u0016�r�J\u0007Ȕ�J�*ѭ�ڒgftuf�39�9?�\u0019�ܜ�����s�荜���y��\u0007n{�\u000f����\\����w��^��� \u000b",
            "����-����掟\u001a_tl�.,��On��.��!��}\u0017�2\u0015\u001e",
            "��\u0006'���u~yf���760<�s��2g�\u001c",
            "\u001d",
            "��\u0018IG6e\u0012�����x(+V����/~���|�\u001fLl\u0004�o��?=�sbxz��W7�v/�`)��3\u000f��ŉ\u0019G�~�b]�\u0007�}\u000b",
            "����w�����p�p��j�:�`,�\u0017�|1�C�J*��Bp*Hg�T:�'�d*M�Sx<�&3T2�E\u0013x\"U\tG�p\f",
            "�&�k�鵭��;�ش.;Ff��\u000b",
            "[Vkhq)�]�o�C�\u001d",
            "<\u0019F�a,\u001e",
            "���\u001b��R��`7Z\u0014\u001a��\"N\u0002\u0014\n",
            "t.�\u0016rl��\u0015�T6+V <���Y6��\u0005&��3Y�Pf��J$��\u0007\"���e�ڼuqdjyf�96�i���]�57\u0012\u000f�a\u001f�� �\f",
            "a�(�˒%��q�B�e�\u0006\t��Q0E��9!��\u001b��\u0002�'�e\f",
            "\u00030c B^\u0004�@���\"�xfg�\u0012\t�рTHu��\u0005���4�\n",
            " \t\u001f\u0014}������Ďm�5>�:5�:5\u0019v.���J�\u001bD(NG\n",
            "j\u001a;CU�~��t�BJ���\u0017(\f",
            "��3��޿��E�1r��(�X\u0012�r�=�%(\n",
            "\u0017R�#�l�-���ƫ:'_h�}ߓO�\u0018W#�\u000f=�Tj;=5b�\u001b�=94�74wbp�l�d���P��6\u0013�q\u000b",
            "Xɠa\u001a���\u0014Q*H8�CA\f",
            "\u0004�\u0010(B\u0015�Tf�%�TbK%2�!�\u0019&�%3\u0019\"��S) \u0012\u0005\"Ѹw3��٘�-NL�Yl�\u000b",
            "�m�-����씃;�d ��*Y�R�\"S\u0002a*0\u0001T�\n",
            "N�1\u001e",
            "a8�8��1��cy�(bx\u0011�J\u0015\u0004��r�\u0004@,��KE2�\u0002#;Pԗ�X�ґ]\u000e?#����X�ߐ\f",
            "��zb˽�h��ͬNMz&��\u0013�A�bv݋\u0004�R6��\\<Ƨ�L����o�3�ۛ�.v��k�4_{�K���\u0003�n\u000f���\u0003�+N��+�X��A���_�?|�}>ώF\n",
            "\u0016)����d!K\u0015�x&��3L��FS�����噵�G��-�M�Җc)��-G���\u000e\u001c",
            "\u000f � �Kѹ\u0014\u000b",
            "\u0014%\u0002�+0\u0003�< ��1*�r\u0010�d@3 ���$PƋY��A��r`���\u0010��:\u000e�SX\u0015�C����\u0003K\u0005\n",
            "�\u0013pBc\u0005��e�WHV�h�\"e�\u0012p��qФߧ1T���\t:�e2i6�I{��dv_�=~�#\u001f�G>��g?�޿18��r͏�-Y�\u0017��;��l\u0011�\u001c",
            "��\u001b�����\u000f��\u0006`�m�b��LO�\u0002\u0005�C:��<��ٙ������#�c��v�j>\u000e�\n",
            "��8N��,P�\u0011�\u0006 �P sy.W�Ry*Q�\"��z0�޲���&\u0017�fm����;��\u000e\u0005}@p�\u001c",
            "ف�1$��\n",
            "e�B�\u0015�\u0018V�I� �\u0018V �r��@��E\u0012�즛H�4 wgU�T�[,��\\.�7+I_|cqmabirdir�59靛\u000b",
            "�V�\u001b�`0@e\u0012D*�&\"T6Me�l��\u0015Jx2-��;�{����\u000f?��g>��W��\u001f�|�\u001d",
            "�h�����^\u001f85���Z��e���۟y���m�gŶ����E��\u001d",
            "\u0019��\u001c",
            "�x\u001c",
            "�S���5ۜ��Do�HO�Љ\u0013C\u0003\u0003S�c3�\u0006Ʀ�\u001d",
            "�\u0013�k���5�}�u��Xω���c'O\u000f��N� XN'�r�Ƴg�u��E��IQ\u0017t�\u0016T��9^ex�fy��IZ$H\u000e�E\u0012�0�CP�\u0002Se�\u0007*< 2�\u0012�+\u0010�\u0012�(@�|�\u001b\\�w�Gg\u001c",
            "c��ٹ��Q�m\u0017C;���\u0014\u000f��\u0018](Re�\u0018RB�l\t�\u0017D�B�Sp< \u00067�t���\u001e",
            "گ^PH�\u0010��|��Fj�\u001b_u�,Z�&������\u0013��U\t��h\u0004�F�t��'�l\f",
            "�'�L�*\u00168\u0010$�%<[��{��ُ��\n",
            "O<v�\u0007�~�\u000b",
            "��g\u001e",
            "�\u001b���'�y�Rsom�U\n",
            "\u0006��H%���Z[�[����̩\"#I��\t��I2+�cSSSSS\u0013��ӳ��#}\u0013�O��\u001c",
            "\u001f�;12�7=?n����\u001e",
            "\u001c",
            "\u001d",
            "\u0018\u001c",
            "�\u0019���][�ީ����\u00133#��\t�`����\u001b\n",
            "@<Rip�/���wv[�����U�e������}zzf���e\u0018���?\u000b",
            "�C:\u0004�i\u0006�\u0016��\u000e۴�6i�Oا\u0006&��\u000b",
            "cs󣳮��������Ѿ�����\u0013�#=�C�GO�4p���[o�9y���[�n����d���h����Ӄ'N��\f",
            "N����|jp`trrv��\u0006\u0003�|2M!�*k��Ɋ�Ȇ*h\u0012���*��$�\"�H����D�����0�>?�<>�4:�Z#���\u000e\u0014\t��0��a�8�MQ�,Y���<\u0005�\u0019�LC \n",
            "_nskqb:��Y��.YV\u0016F\u0017<Ӯ�k{}a�9i]\u0018�,�[�Gf�\u0007��{�&zG\u0007{\u0006{N���������\u0006oyS�Mo��M=��4p�̓'O\f",
            "�>9�s����@��ѡ����������ޡ���\u0011�͑M�x��՚�\u0018��)rU\u0016tY�M?��c�\\���`���jƛw�\u0017u�.\u0002\u001b�\u001e",
            "KߔovI���\n",
            "����ȩ\u0012�(��1�ƨ2�H��S�@�2)�8/\u0013�@q\u001c",
            "�\u00100NT0\n",
            "@�d\u0016/��|\u0019N\u0016�t�\u001c",
            "Φ}����%���3g;��o���ݝ�\u0019��S��ז\n",
            "�%�<�E��̂{��X�N[�.\u000f\u0018\u000e#�T9\u001a�d\u0012p>\u0005�SX!C�rL���\u0001�\f",
            "�0��b*�\u0018\f",
            "���\u0003�@��&Iw\t�Y��{��+\u0013#�ÃC����?h���O|��o�SS#��5��m-��.\u0005\n",
            "�/����چ�m��66??:;3:;�7:|jl�gt��p�`�����Ǐ\u000f��\u0018=~��-����[�z�����'�z�\u000f��u���\u00137�\u001e",
            "�i�����ѡ��ᡩ�q�܄=\u0016L��&�VWdC�k�\\�Ժ��\u0005Q�\u0005��\u0014�UDF�D]\u0014eA�x^\u0014y��\u0004�\u0016\u0005R\u0010\tV�8\u0006��\n",
            "�g���ZV6\u0016V�\u0015c�lh��Zڴ/:�f�&�\u001bVwxe\u0013��ˁH9\u0018�D�@4P�\u0005�X�He�2Df�T�ĕ\u0001\u0011�4\f",
            "7(���\u0012�q\u0015��\t*FN�K\u001a�\u001d",
            "��\u0013��{W��؅�z�]�x*�X�S\u0012�}�;��\u0003mc�M�h��\u0004�r��D������T�m_|�?�?x���\u0015��/\u001e",
            "~�������g?y�\u0013\u000f\u0012\u0007�\u0018�x��J�;��:��<�vMy\\S�U˺׺�t'2�Di#W�\u0001�8�\u001b\u0016�c�=p|��֑����o���\u0019��\u001d",
            "?�7522㲯l,yW�n���Z��;�v���ʺcm}q�9cw�\u0016��K������U��5i_�[\\�[�,�l97ם[>wpcy���\u0016�˖���MǤ�>�h�Y�8�K�++���%��Ƿ�u��r�W=��\t��g��tx�]����f`i5��\u001e",
            "ZY�z�Q�7��\u001e",
            "Z�n-���[>�7����r�ݫ\u001e",
            "��sֺ�����]s��;�n�}ݺX܉=u��O�{�����O�s��}-龪���\u001fi�e\u0003)���\u001e",
            "�Տ^�?6�|O��O���W�����i^3�CӼf��\u001f�?����?�����O���?���}�\u000b",
            "�z�c\u001f�}\f",
            "[)�\u001c",
            "��#\u0016��\u0003�p�\u0015I�&�\u001b9�\u0007 �*�����Rb9�<�:?d\u001f95w����[�O�\u0018�9=qk�����Đ%��\u000f.\u0006�kɤ7\u001b_MG=��N!���nfK�Rn'���d|�b�\f",
            "�@0\\.E��h\u0011NU�Q�P\u0014\u0004�P)R$�\u0004���\f",
            "��14�`Y\u0014� �8��Na1�N\"Io��}tb��uz�3��\u001e",
            "�z���\u0019���kYY�]ܶ�n�<�\u0019�}uen�m]v[�m�6��Һ}�=��4m_�]Z��,�[�-+n˲sҶ2��we�\u0002����.�v�B~��OՑ��\u001a��]��u\u0001;�u�X�1���|���\u0010��?��拦��y���u����y�����׿��\u0017?��_}�c��Ļ���G��\u000f�����\u0003ｌt�\"�\u000e\u0014�@i\u0013 ���\u001f�� <P!�0\u0019�\u0010?\n",
            "�i��\"|�\"\u0013 ���D\u000b",
            "�?�\u0014�b���\u0004�=!�|fýp��\u0007.���3wl\u001d",
            "�y����?��u�/���yd�W�������\u000f����|�K\u000f>v�o���S��������\u0019V��|�C�(\u00190A\u000516BJqJ��B��\"<�'�m0�I����ᕱ���~K�����zgn훜�q Y���\u0002&ʸ�\u0010�@�\u001c",
            "�K� \u0011\u0002�0\u0002±\u0010+a���\u0012&H���\u0002Ks\f",
            "Ns\u0004#���q,Br(E\u0003\u0013\f",
            "��%�)!t\u0019�P�\u0010M\u0007�|�v�k~�:a9\u0016rz\\#�+�\u000b",
            "�a�ʸmy¾n���t%�-�cY_\u0010Nf�x\u0006˔�d��#|�� �)�t\u001e",
            "a�Rx\u0001`A�\u0016�%�P\u0011��\n",
            "M\\��u�ݍ}6���\u0019����I(��[��V܋ã+�S\u000f�����nZ���|t�<2M�<4��\u001bg�ѡ��/�_��G���_y�-�~��\u0007\u001e",
            "����\u000f�z���q�MRh��&)sqZJ�J�S�B#W��51��!\u0012�)G�I�{��6ֿ�j���d���SÖ�\u0003�8Jq8����*\u0012-)��P��J\u0012��\u0004w�R�x�\u0014%B��8�d9�QhAfE��x�f`�C1\u0011'�\n",
            "��5��t�,o\u001d",
            "\u000b",
            "/���-�#���    IDAT�s�\u000b",
            "��\u0005���5����\u0004W7�0\u0007TX �K%2_\"�%�\u0004\u0011�2^(�%�\u0006 \u0016F�\n",
            "ZN�M���FJUN3$M�5��TZ68]&%��eF�\u0005C\u0016t�S5^W$��x�\u0016UN\u0015\u0019A�e��\u0015�Qi� �6��e�\u0018Hlؖ\u0017�l�s�I�߽\u0003�A\u0011�����K�����Ԫ��\u0013Kxw6l�\u0015��:>�8=\u001fr�\u0015�a\u001e",
            "\u00029\u0018��e\u0016Bi �*�B0\u0002��(�!���\n",
            ")�\u0018'\u0013�L0\n",
            "A�hn_�\u001f�t��\u001fzHH&:�\n",
            "��\u001aB�\u0010�U��Ju��\u001arM�tM�)�!\u000b",
            "��+<+�\"��A����#��\u0006�\u0017o���^����}���#������'��\u0007e�I����\u0004Yˋj�\u0017���f�\f",
            "��\u0004>�*Y��\u0013ky�V\u0012��,�D2B\u00101z�\u0016��,�\u000fX\u0006�&O�����\f",
            "\f",
            "[����;�N�[�\n",
            "%_�;��2�h\u001b�,�8\u0013����M�*�,�/\u001f�9WmCS����\n",
            "En�C,���b����y���5����Z\n",
            "�VU��Е�&7T��+M]�krM��U�VUj�V�\u0019uC��U}��l�*��n8V�\u0017�K\u0013\u000eې5�\u0018�a�#�d��9��\u0010\u0016A\u0019\u00189�_ٰ�L/O.\u0014v�7\f",
            "~4��39:]`�>x��ޮu�r�n�k\u0014\u0018%�\u0019\u0019FK�Z��3����,���fQl\u0014�f����fE5 ��7�8\u0013^N;���#���������a����ֺ�#\u0005U�kz��5\n",
            "p!���E\u001d",
            "���)�k�\u0011^Y\u0007\"q� ��Д%�aU��\u0018Eg5�VdZ�(�.�v���z��v��f��w\\\n",
            "�ը��Z�к��2�����Z���\u001bjӐ4MPj��g4j�T���6�������u�Ȑ\u0012 ���V\u0019M&8\u001e",
            "#y��)��\u0010\u001aE�EV���ƖF��`\f",
            "���X�H�t�L�\u001c",
            "@d 2[�3��v�5�t�..�:֝�P&�\u0015\u000b",
            "\u0017w�U^�XIgU��dVW��.\u0018g�\u0006\u001c",
            "\u000eip陇�}��bk^����Ԍ��n�{\u001f��+?������W^6�����_ʡi\u001e",
            "�����k��W�~��??��g>�\u001fo�\u001f.=t?m���N�W�c�$�$I9M�IBJ�B�\u0012�\u0014� �\u0014%��Z���^\u0010k��E\u001b5��$��R�9�\u0018�\u001d",
            "\u001e",
            "�\u001e",
            "\u001f���,/̮�\u0010WW�U�m��j�[����V�hkJ���n���Vս��iʍ;�/ܱwV'X8�]��Z�痦\u0016�F�\n",
            ";�}q�+t����u$B�\u0018�#Y��y��\t�#�c��������BaǏ�\u0013x\"�'�d*��Jl\t�A�\u0006 ���\u0004�$!�J�5�Z\u0018�Xg,�6{p}��Q��4��\u0004E�k��k�~`�K;�J(��\u0017?���4���\u000e���؃\"�_�̋����y�|�\u0015Ӽzt��yxtd�9_����7�+������?���\u0017���\u000f?��\u0007\u001e",
            "R�?ȳ����\u0005!�*I�OP|�\u0012\u00134\u001b��8��p6I�QDK�F���\u0017���B�g�.\u001b#�ތk�=�?{�gtr�>;�<04��:�{�\u0014�U3�ڍ��Z�^�4�{U�]S:5e�Pvuu�f\u001c",
            "��\u000e���BP�@�:aY�[��]�Z��%%@��_�H]��tA����2#�$�\u0011���,Nr\f",
            ",�ݱ�.��T\"1\"�DRq�T�3\u0019\u0016 h �@��\u0011\u0011'8\u0018gAR%e\u0016`J����㘴�&,�9;�ʴeuW���͆Tk�ƹ�^!\u0018�\f",
            "�%V�*��w�s��F�gq��,�l�k�y����/?���>�S�>:::::2�\u000e��^5��\u0007�����S���'?���ɋ\u000f^�1\u0007\u0005�\\E�+)\u001d",
            "@Q2,\u001b#�\u0018��I:N`�J�IJɰFA��\u0014��U�j�Ro��&T�o�<���a�Pߌݺ6=��\u001d",
            "�\"`J�\u001bz�ۨ\u001d",
            "4�gk�~�v�Zݫ���F�e�֤fW�=W?u(��:V�&�\u0017���qGn;Ӥ��j�5�N�oʌrc�A�u��$Z�\u0018A�8\u0001gd�g0�Xr�o\u001d",
            "\u001c",
            "_\u0018\u0018��\u0019$�\"\u000b",
            "Y(�Ɗy\n",
            "\u0004X\u0004�Q�\u0016�y�\u00140N@�*��\n",
            "��k�K/�/��\u000f_��\u001f�����_���31�\u0013���D����A5KK)RL�T\f",
            "�b8���\u0004�\u0007\u00101Ũ9^�r\u0006��*�:\\o��\u001aX=ϟ\u0003C����ܨsd`~ɹ9:e�\u001b�,�K�j�0vk�3U��a��\u0019g���Z�ݪ��k��uΝ��e\u0003�M�k��r�'��@�ɴ.�nk+���T���h\u001a���\\\u0013��P�XEd�T�\u0011Z&E\u001e",
            "e9�=\u0016���\u0007�-�\u0013p2ǔ�t��\u0017\n",
            "�\u0015�B0\u001a'x�\u0012(�#(\u0011�\u0015N�)^��:g\\h]�I\u0003�#�V��cyֹa[�섈\\�@�uH9��S�\u000e��Pv�\u001bs؟�p�s�z�v�����������K�ѵ�Ẉ7̣�GG�o�>:|�O�_}�����O����o��S���\u0007�}���_{��\u001e",
            "f\u001a\u000f\u000b",
            "�z�RR��\"�\u001c",
            "�� |���(\u0013&�,��\u0005\u0003P�\u0015��5\u001aH��\u0018\u001d",
            "�u^<\u000fE�mWd��2�<2b�\u001d",
            "�������X�~��\u000f\f",
            "����3�\u0003M�hz����6v��Z�\u0017W�\\�I�u�j\u001fs \t�q�b���慚\\�DC���X3��!�u����\u001b�;\u0002��!�\u0012\u0012!\n",
            "�x,�\u0019��p��g}Q\"W&�%�Tb+\u0018��,Br8�\u0013�H�,N!S�B\u000b",
            "*#j�.Ӛ����n�oA\u0011�����\u001c",
            "�)�}��w��1�Jf�T.du��\u0012��K���\u001fz�Q\u0011��O}��/~l^}�<�j\u001e",
            "]�Q\u000f�\u001f\u001d",
            "\u001e",
            "\u001e",
            "^3�ëo��ƕẈk�믚��r�{������O���|ǳ\u0017.�C߿\u0013�:9FKQB�\u0014S��a�,�,(j��c��匂h\u0014�\u001a��`� 5\u0015�UP>'��\u0012dr��0��,\u000f\u000f��|z��wZd[���zP��֪�k�3�j{����l�\u0017uM�\u0017ǜ�c��y�\u0015SA�b�3��jJG�Z�hԕ�!Vo��XWDC\u0012uQ�xN�Ī�j\u0002-\t��\u0013�D��R[!����\u0010I �\"�+`�<U�� �#�7ī\"#��(���*2�\n",
            "��\u0011\n",
            "O�\n",
            "Mn�b�!��R���w��\u0001��F���k�W�k���׿��[�i7�����^4���Y�\\?2��G����o��\u000b",
            "�y�\u000b",
            "���G����ν[�\u001e",
            "�S�2�Zx�l�����Ʀ�\u0013\u00126��HN\u000f��A5+ZZ\u000fG����o��/���-�-ˋ�˫�M�eC��h���,���U\t�Έ��v�8�����\u000b",
            "n���u¶8��i�5��]�B�~A�v\u0015�[m\u001c",
            "T�N]k4�VS�Ԕ�\u001bK[`����JM]ikrC\u0013jU���*�Ҕ��$�y��h���cY_�28a\u001f�A�e<\u0003�y�,cT��\u0010��9��8Z�\u0019]�\f",
            "�UT�P\u0005]�u�ӫ�Q\u0013�5�nH����+u�7�Zw�u��\u001d",
            "��\u0007u��\\\u000feW6\u0012󞻉:�\u001c",
            "U������\u001f=��_|ףW�\u0003���yx����\u0006���\u001b��\u0015��\u0015��%�����~u��o����|�\u000f��!�\u0010��E�\"Du�h;��1L��Z�ғ��@�8$%*r\u001c",
            "�\u001d",
            "\u0005�P\u0001\u000e�˾ln;\u0015�\u0006\u0003+~4����΀��ܺ}�3;�\\��v䃆��[;{�}����e�^�u¶0j�ڶ2��Y��[��To��nU�k݆֩)�U�[��*_��]C�܀��U�3\f",
            "�u��+\\M�k\u0002�s��2�(\u0018ǒ\u001ba���s�R�$h\u0010�� \u0005�,D�(��\f",
            "��\"�,Ӛ�k<���Z�7�b�આX�Y͐\u001a�P���$4\n",
            "\t�\f",
            "�K�\u001b��g;�X�����.\f",
            "N[�fmc\u0016��=�Y�o���\u001c",
            "XkR�Ќ8zz�����\u001a[� �8nwN8\u001c",
            "�ֵ���R���w�u���u$�)kmUm\u001bz�j��F���\u001bZ��v5�SSv5�S���T���ҕ��4T��JMEhI|M�t�VDZ=\u0016�ر��8�犡$��) �@��/7\u0012-I�\"r���$�\u0010XE�5]0n$�\u001beW㪚h�R�\u0006��j)�]��W��h��W{��\u001f��/�W^1_{���\u001f=}�c���y���\u001b�ލ�����w\u000f����\u000f?����\u001a��@#觽�Y�|�n\u0005���\u0015/�ٮ��Z �\u0005RF��\u0004\n",
            "�/-\u0005s�7X^�J9�vf\u00167��ӎ����٥-�{��3�l��V��e��a��N�)�rl�U��ZO/��Z�[�\u001a�=[��q�����\u0007�֖�����jG�Z�Ҩjݺ�n��\f",
            "��)]C٫�{�ҭ껺�U��*�t���-]i+b��u%��'܌~,���Gg�h�( D\u0019�\u0010��)�`e��\u0019Y�4����'tU�\u001aRC\u0013j�ج)��ҹa�ԔNC鶔vKi�)�3(��'�j��7�\u000b",
            "{��}㍟�ؼ����K_y���~�c���#�i\u001e",
            "\u001e",
            "^�b\u001e",
            "����~`^������_��g\u001fy�����\u0010�E�t^\u000b",
            "��hčh�Z����\u001c",
            "H�,�����f�܌��Pѽ\u0013��%��Q�fi3^X�\u0002���f<��H�@'\u0011:�ԙ�������\u0007�K���\u001fZ�2Tr-u�~����3�;;���v �MYkkڮ��iZG5ڪ�Դ��u[�}Cm5�g\u0014�]�\u000e�ճUu���t���mU��\u0010��QĆ&�t�-\n",
            "E4d�P����4�i����5�VMi\u0019j��u�j��u[z�L�Sˁ�s?2?��'sq����\u001b߼��s�}�\u001b��ǿ�W^y�����>o\u001e",
            "^7ͫ�?��_4����w���o{�j�!��P�:i�\u001e",
            "+��e#Q��\u0010��8�����M�B3TjD!֛B�Q|=V^�I9�\n",
            "]k�J�ƛe�����V��Zk�hu\u001d",
            "[����9\u0016$�\u0012�\"$��,�*���B�:khBC�[�\\W���54��k^������u��^�����j�[��\u001bZ�Qݭ\u001bݺ�gh{�ڹN�\\M��Վa�jZG�vuu�Pv\n",
            "��)]C�7���q�n쵫\u0007��~M߭\u0019{��^��[��[���ޭ黚���]��״]U�j�$4\u0015��KuYnJBS�\u0002�\u001d",
            "\u000b",
            "�\u0007���gGơl�(A4H��\u001c",
            "C�F��vZz{��> q��/>w��+��7������K�\u001b/\u001f�����`�WM���k/�/��o~��N�\u001f|����W^3_�f����y𩋀����Hrћpz�K^l+\u0006.��ٸ�o��1�4�͕V�\u0015���S��ƌ�;��X�=���R0��Ȯ�T\u0005ռ7NF��N�ɱ�ڏ<v�{��Y>�yN/��:\n",
            "�,�q��R*��\"[\u0017�����n㺳���\u0001ث�mْ-�j�:{G!@� X@�\u0004{\u0003;�1�Wt��-��)��u�)\u001b�8q6՛�_����ŉ\u0013w[�%���\u0007h�.�=���s ^�w��0�\u0005V<�����Rxe%��\u0012�6�5����Aʷ�\u00076����X��A\u001a��\u001fSB��FX}��;?xQ}�͗����#_Y��7.�W߻u����:G�\u0007����P_��o>��3��֤�S\u0001��hTvo�]��g\u00079��+/��^U�k�\u001b�x��o���p`���1��6�-tM�w�\f",
            "�9]mC�&�p��X��ib�8>k�Y�]\t\u000e�\u0002���\u0014\u001a�ţ�\u0014�a�����<�\u0017\u000b",
            "��P��\u0004)8�\u0005�t8Ȇ�4\u0012`�^<짃~\n",
            "��}I��篾����\u001f��n�To\\�u��K?~��9l��_[�����վ����Q��h�k�{n��=�>>e���_�]�:��Q8<��\f",
            "�.%�鎣m��E$���H8��!\u0012���0\u001b\u0004|x(@��L�G�\u0011\u0016�94��aZ�YffY}�W��u��w������ַ�]��z�=�ƕ[7?���x��\u0007�w/��͟��ů���Ǟg҉aOrd\n",
            "�A?\u0011\n",
            "�� \u0006G(\u0004�\u0011�\u000b",
            "�4J��0��LG\"T$D�a\u0006\u000e�� ��C�\u0011:\u0018!\u0011�\n",
            "\u0004�@\u0010���A\u001f��#��\u001e",
            "��ZL��<xd�=�}n�����3���,-ϭ/ί�.\u00057V#�5��ż\u001b\u0011�\u001a\u001c",
            "��� ��b� \u0011\n",
            "Q� ���� \u000eG(8Ba(�#,\t�2̱s���w���%��������C�����^yG��z��z���\u001bW?��T���[��;���ߟ���\u001f~�)\u001f��e<62���=�^|[}�-U����?x�-���_~��O,��u�@ײ�wq�8L��Θ�S&׸qd�8���[g��\u0017\u0016�5Ǫ�\u0019\f",
            "���\t\u0014�'��T̟:��$�N!�b<I�\u0011\"�\u0011�\u0003(\u001e",
            "��\u0010�\u0004a8\u0010�qB`ؘ\u0018�1�Bi��X�$\"\u0018��p \"ҼH�q6&R\u0012G\n",
            "\f",
            ")\u00100��Q\n",
            "Z�\u001c",
            "F��d��tt��\u0006̽�6��Fsm�����DM��3-g\u001a\u001bN��=~����ā�ͧ�\u001a�O�N�tV�n�����ԋ��.����T���^z]���z��z�z�z�z��+�7���.�\u001f�{�W?�������|&��\u001f_�\u000fOJ����uS����/��/~'{��\u0017\u001e",
            "}��S�\\��֧\"m�İ��Xt��L��̇�٫��l\u001e",
            "���ŵ����缽3�ӡ�Ex|���|�\u001a-\u0006�1������=��=\\S����=G�\u000e֝��ԉ;O��[�й���O\u001f:[��枚�Cuu���\u001e",
            "�;~���\u0007k��9S{��x��~��t�Tw���HS��c-�3�����u��\u001aZN����Vw���h��ڠ9������>{�ԡ�\u000eܷ��=��W\u001f8q������\u001d",
            "����\u0007�����;\u000e�;R[{�����g���9t�����'�N\u001f�i=kj?k>w��\\��|���갵��6�\u0006�:g���GO|��M���7�_��3o��G��o]��޸�޸��x_���z�-���k�������\u0017���rOG���\u001519\u0016�\u001a\u001bJ�>�\u0011굷��^�F:�^��޼v�׿{`�\u0013n����ݳ�3\u0013r̬[�=���\u001e",
            "<2�ؼh�.w�}=#A����Z�\u000f��sĬ��\u001e",
            "8�đ\u0005T��D����\"Q{�ܽ{\u000f�>v�ܱ���\u001d",
            "=y�ĩC�g��:{��ɣ�\u000f���ĩ��\u001e",
            "���؉\u0003Ǐ�?R}o����\u000e�s䮽��߱����W}�����\u0007�<t��\u0003�����\u0007��ؑ{��c��s���ǎ�u�޽�5��uG��ul��}-��VSgM�����f�m3\n",
            "�,��\u001a�xY6$)h\"�$�\u0015BB�\\H�7X�+d����Y\u001f����\n",
            "�\u00078!Ĳ^R\t\n",
            "��C��`x#\u001c",
            "X�V}�zpu�\u0013Z\t�V\u0002��\u0010�\u0016��C�7\u0018Y-{5��5���Վ��9�\u0017�-k�^_���\u001d",
            "�\u000f�z�ـ\u0010�\u0018\u001fI�)8\u001c",
            "�0��D�0B\u0006\u00102��\u0001\u0014���\u0010BGp�\u001baㅩ@��@���d(�\u0007�T8B�`\"� ~\u0004�#\u000f{������D\u0010A}a< #�Adݏm\u0004p�\u001fY�kBK+�7�:5�0�^��Z��Y��\u000f�y��˾�%�gͷ�\u0016X\\����\u0015hu#�\u001e",
            "@���z\u0018^�f�\u000e!�/�\u0007`2��\u0011�\f",
            " t\u0010�\u0002\u00116\u0010�B!ni�cp@�����o�޼�^{O�����������oo��gW���\u0017��5\u0016#:Mk���m\u001d",
            "���њ������\u001aF��#���\u001a�@u���;G\u000f\u001c",
            "��f�k4;q��J[�J{�lG�P�a��>m�l��Ե��8k<p���1wc�Ts����������\u0013�Q\u000f<�7(�Ob>\u0014\u000e#H(\f",
            "��,Bb�H�\u001b�}0\u0016B`\"d B\u0007P.�Q~��q_�\f",
            "�1�\u0005�`8�\n",
            "�]ߘ���L�\u0016g��S�����B���_\\\n",
            "�n\u0004W�\u0003�k��U�g\u0005�m�W�\"�>t-���\"�\u0001�\u000b",
            "��pp�\u000f�`�\u0007�~�\n",
            "\u0003�e�k�>�sL{�#������Z�s������lhu�6:jjg�]\u000b",
            "�=����N�g`l}b�\u0010��$\u001a\u0015Y\\�1��Y\u000e\u0013e\"�`�4\u0019�\"$yyU��z�z�M���_���\u001f����_zh�]}j��c��8���m\u001c",
            "8]?T��n���z欮��\u0019�s���0�`v�\u001b\u0006f����\u000b",
            "�g#�\u0012@փ�z\u0010�\u0007#�\u0010�G\u0010?��Qd\u0003\u000e�\u0006�0F\u0005Q&L�aZ\t�ʆ_�,��=��K��wo]|S}�����뇯����>�\u0004o�^��Yh�_hi��k�\u001f;5p��Q���l�m�\u000e6��[����3���s\u001d",
            "�ڶ\u0005C�\\�e��2��=��;a\u0018�4\u000e�[]3\u001d",
            "���nWs��\\�@]��Hu�ٚ�v���{���\u001b�\\w��&7�5�ƣ,.� \u0011�D�<�̑<��<.q8/`��q\u001c",
            "��\u0010�c\u001c",
            "�ˤ\"`�@�<!p8Oc,��\u0012!�(�\u0003��\".Ϣ\u0002��4B�E\u0018!�J���O\n",
            "0Q>��(��IE$\u0015��9Z\u0011XEbb\u0012\u0015%J�\n",
            "��\u000e���\u0004&<��56�\u000b",
            "LJ�22\u0011SȸH*\u0002�H�\"��*<)Ǹd���ēQ�Nrt�g�\u0002��hE�\u0014�Rd:&�R\u000e\u0012!��$R\u0012O�<!ȸ( �D�\u0002��\u0004\u0017�e��\u0014B�DV�#k+�o=��F�a8��>\u0018��T��#\u0018�\u00128J\u0010\u0018M\"\u0014��<̲0���7�v�o�������[����\u001f[i��\u001alk&�T]���y��0��a?��{�e���7�\u001b-\u0013\n",
            "M��\u001bF�\f",
            "�'�N�v�P��\u0003\u0015{�'��L=�>�d�u��\u0018k�k����0\u001e",
            "�\u001b���w�w\u000e�\u001b��I�oȽG[�WWvj�!��ZWK�HGפž��\\�\u001e",
            "Z�q���\u0002#\u000b",
            "�\u0019��䈘H'7c\u0017�|Fa�2���8��\"\u0017\u0015XE`c\u0002\u001b\u0013���b\\Ra�Q6!�Q���\\L`c2\u001d",
            "�1J�V$Z\u0016(E��<\u0019Y d���lL&%��\u0004Z\u0012HQ&%�\u00125��\u001a�]ǃ>4\u0018D�a4��a`T� `��\u0019\u0012�H��q- ���<\"1��`\u0002M�,%��Ȑ\u0012CJ\u001c",
            "\u001d",
            "c�(G+<#�L���\n",
            "/X�����]���P�N�L�g�\f",
            "�H|J���W��ү����~�WO}�k������lL�\u001b]5Fǩ��Z���e�~��;\u0006�lܘ/`v�f�����0�\u001b��ǖ\u001f�RO��d��X�����;\u000f\u001f���y������#5C��qK�m`�6�\n",
            "�\u0012�@D%*.1\t���lR�R2\u001b����%\u0014&.11QH�lB`\u00132�P��BE\u0005B�� QQ�T\u0014*\u001a�e��c�\"R���2#ˤ(2���\u0006�@�\f",
            "��p\u0018\u000f�x\u0018%\"\u0018\u0015\"�\u0010��\"X�`)��`��0<̳\u0011A@e��YT�q%7�XF�\u0010\u0012��,#qLR�S1!��2)!�\u0015R\u000f���.<�^����ʭ������˿��?_|��>!������\u001f��SM���.ۉ�)�мe����ɒꝚ�������l�YN5Jk�lq�gdcxn�2x���G�<|{�m�K�\u001e",
            "hr�YǺNw\u0018�\u001b\u0007Z:�-}�]�s]NO��j��c|eh\u001e",
            "]�y<�3q��\n",
            "|\\\u0012�Q%#\ti�M(LZ\"Sq~S�22��\t�(���I���p\t�K�|J�S\n",
            "�R��D%\u0005*�ӵ�ģ�\"�J�V���`b\u0012-I�,��B\u000b",
            "\u0012+k�@�\u000e��P\u0018\u000f�x\u0004#`��q:L2\u0011�Dh\u0002�I�!0:�T�p�'\u0004\u001e",
            "�DRɍ,\u001e",
            "�p�&d��86��2�(\u0002\u001f\u0017�\u0004��E..\u000b",
            "q�Wbb\"���\\�A�Q�]T�����x�z�W?��w���3O>\u0011���cO|\u0002�<F�hK�`S�H�}��5�4��YU�P��\u000f\u0011��bc���S�'�\u001a\u000e���i�>�a?c�:��q��xO�`�}�6��3�l��ζ�5��:\u001d",
            "������y�k�:�40�:扬�\"���8O'\t�g٨(�d)!rQ��D:��\u0019���\\<*�e!.rQYHn��%E>%�i�dR�\u0012\u0002�\u0010ؘ��e:\u0016c�\n",
            "�Y�k�1�q/\u0005W1��JB�����\u0011�8/�xA\u0011�(KɊ�����E%>&\u000b",
            "q��IL�g\u0013������$�|Z�\u0002�\u0012��\u001aO�tL d��E�D�L��T�N�tL�\u00122\u0017����E5\u0014B�0N�4\u0001�8B\u0013(Cc,�q\f",
            "Mb,�s$Ʋ��`\u0002���\f",
            "��t��\u0006�#��L�~�s��7�k7�˪����|�;?L<�\u0005$�P�=Sg\u001f��\u000f��\u000e��,�'�Z�V,S\u001b������Ρ�:�p�m��1cs�Z\u0007�\n",
            "K��%>��II�JR�\u0013c�\u0018���,fd)%K)I��BB�\u0013\"��8�%\u0004!%\ti���\\R\u00113\"��ٔ�g\u0015.\u0015��1.\u0019�SQ6\u0011eS\u0007�[k�_��/>�px����t��:���8Ҩ�sY�vE}��+y���}����$��\u000b",
            "⃔}z��o��w��1^k�j\u0018X�\t\n",
            "��F�\u0011����\u000f��%�������˟���o|��6�쉦��NOS�l�}��k�8�M\u0011�^bb}�19m\u001d",
            "\u0019�\u0018\u0018lu8[쳶��V�P�m��?iu�\u000fL�<���E�If�-�M\u0017�1.�������굋�;�P����_�����׶R��;��H��rsK�\n",
            "\\Z\u0010R����\f",
            "�'E1-�iQLJRJ��\u0002�����gX>-I���ᙸħ$!�s����p�\\��qi�K)\\J�2���p\t�R\u00046&rq��jI\"4�0D��`��9�`I��I��D�\u0014\u0018R�p�De\n",
            "��T���,\u0019�\u0004O'\u0019*��1��rt���\"�\u0011��H�d&�0i��(bF\u0014\u0012��U�ͤ|R�\u0012B�㱨z�]��wԋ���\u0017>�������j����:i����޾�O\t�7^��z�m����W_��՟|�\u000f�<����̉����U�Тyh�0�`t��F\u0003=3\u001b�i�sn��0\u000f�[�\u0003-}#\u001d",
            "����\u0011K����muN��L�O�^��Nc�\u001e",
            "�DL�H¦�e�-E�r\\J��JAH\tBF\u00126E>+\n",
            "���)\t�2�\u0015ٴ�g$!�����%��4\u0012����(�V�D\\L�l\\�\u0014��jr��P��i\u0006e\u0018�#P��h\u0012�h�a\t��E\u0006S\u0018\"F\u00132C*\f",
            "�pT�'�,\u0015eh��\u0005���d�c�<��ل\"f8\"\u0016e�d~Sd�\u0002�\u0012�l�_���\u0003�M~ݫ^zS��z�?}����u8':��m���#F۸�{��u��\u0011���\u0017���\u0013�����|�[/?��C�a�yx�a��{����:��;��?o\u001c",
            "^�\u001a��\u001e",
            "���Nt��\u0018�3=\u0013\u0003-=�\u001d",
            "}�\u001d",
            "v��1n\u001b��\u001f�\u001f^���\u0007Nk��8\u001b}���e%ɳ\t�M��y�?/��\u0002�\u0014��$&e)%\tiAȈ¦�er��L���<����\"fd1��Y�S2����D%\u0015&-ө(��\t\u0019�KILB��\u001a\u0002�\u0019��1&W\u0018i�%1\u0016�8\u0002eh��\t�&d�L0D�ƣ$.Q�L�1��QD�&\u0015��\u0018Z�(K�x6A��&8*��[\"��ٴ�g%.����o&�x�����7�V?x�[\u000f=�d2��8��\u0003#&ǀ�������w��{��{�ְb�/\u001b,�������gI�!/I��M�9�NYF\u001a\u0007�-�S�����i�{������Z\\.�P��i��o��3ڝ&ǘep�۵84�n\u0010;\n",
            "*5`������\u000fe�[\\,)��rlZ�6%iS�2��U��,f\u00141#�Y�L�dB`�2��r�\u0012�a�XTޔ��($$)%I)QL+�y�ߔ��H�$:-1�(�\u0015�\u0014O'E:��P��Y\n",
            "�q�\"P\u0006�\u0019\n",
            "�\u001bG�L#�\u001d",
            "�\u0011�s�<2i�pY�C�>{s����i�\u001d",
            "5��[\u0007'��U���Є&O��ة��76�m�6\u001f��H4�e9��\u0014�OpB��Ӝ���ͨ�\u0015\u00136e:%qY�I�tRf�w\u001a��v���c7�ښ�\u0006�����Ş�U���5��X�\u0018�ݫ�U�1<��>\u0016�1���\n",
            "���[\n",
            " i �bϞ�3�6s���(�<�~��?��\u0007\u001f�?�M�\u0013�\u0010\u0015��,gy>)pI�M���̟\u0017�M��\u0014��p^�9��ܖ�n��bq�v�6u�\u0018{ƌ}���I�\u0010<�v��1�\u0016*�y\u0007Ty�F������\u0003Ïd�o�ߢ�\"-�h)I�O\tBF�Qn3�mI\\F�\u0002��٤�eD:��)�?/\t�<���-AHq\\��2\u0002�\u0015����e~Sa�\u0012���M�M�tR�#4��4�\u0013��瀰\f",
            "&����\"J�\u0004\u0015��8EDy2NaQ��1T�&\u0015�T\u0018*Β\t�N�lZ��\u001c",
            "�\u0014���o�\u0013���|6�)eq3\u001a�RĄϳ�p�ԙ���k�z���\u001b�g�mp�ٜ#��\u0001S���������ci�\u001a�\f",
            "�:G\u0006�\u0006���1��02n\u001c",
            "\u0019m\u001f\\�O��\u001c",
            "�\u0006�h���c��1<jp�t\u000e\u000fw8G����1[K��\\����2��7�]��S����ѩ�1�FWQ�����;��=\u001a�N\u0003h�\u001f?\u001a\u0015�g�y&s���\u000b",
            "��7/Ќ�r2��\u00149��iY�HBVd3\u0002��8O'E>#�\"�\u0011��$l�¦�gs���D�%.�\u0012���\u001c",
            "�h\u0010��\u0011\u0016�9\u001c",
            "�\tL$0��\u0005\u0012f)\\�q\u0011�d��\u0012T\u001c",
            "#�\u0014\u0011��(�Ei2�҉��\u0019*A�q�I�l�#|T\f",
            "E6#�i�ϊ|F\u00113\u000fd\u001f44w\u001e",
            "�{t�8��P՛7�\u000f����\u000b",
            "]Cӎ�q��y�����f��t[[��M�ö�A���5��\u001c",
            "1�\\��1��T��Bה�cx�:6�9:a\u0018rw8G�\u0003n눳s�����lcO������hv\u001a��ۭNc���<��\u001aД\u0014\u0015�VV|WiѾ�����2\n",
            "\\F�3\"����8��\t\u0019\n",
            "���k4z�F�\u0001J\u000b",
            "\u000f\u001c",
            ":��\u001fd\u0003�'2[\u001f��,*�����s�,�eq�gS,���-�����gEnK�ϋ|V\u00167e>\u001b�1.+�Y\t�M%[����\u0003��\u0019��z��-����\u001f�\u0002�X��.�;\u0007ƺ\\�\u001d",
            "��-����f����0���\u0006\u001c",
            "\u001d",
            "}}m�\u0003�}��\u0001�a`��w�cp����j�jwL�;��zG�}æ>{{������dkj�o��k6;Z;\u0007Z-.K���<Ma����`O~��\u0005E���w�����;�E;5�B\n",
            "\u000b",
            "\u0004\"ѨL \u0012��\u0014)�\u0004G\u0013<�q\u0004!��H�\n",
            "�D\tZ��\u0018K&\u0018\"ΐ)\n",
            "�햖N[�����h�7u9[��:z��-�m]#\u001d",
            "]�ͦ�f�h���ns4�{���sM�&KS������m����j���w5\u0018�`�V[�\u0003�Z;\n",
            "\u000b",
            "w�\n",
            "w�\u000b",
            "��\n",
            "�\u001d",
            "���NGSgo�����o\u001f�\f",
            "4ut��\u000f4���7;�[\u001d",
            "�\u001d",
            "��f��Fsm��l�����������lr�Z\u0007�lw�~w�\u0006*���H�\u001c",
            "E�9?��=(J�(�d�$\u0019����Y:��I�Iql�ab<����m�TF`��\u0019�3Y�ے�MI�F�͘��w���\u001c",
            "\u0015P��\\f��ɛ����?�3�^�\u0018��8��V�u�����j��t�\u001b\n",
            "�=p��ɡa�`�\u000b",
            "�\u0007��?�}�\u000b",
            "�|��'.<�`\"���dL:\u001f�$>\u0015��Q)�HYE�\u0012Ŭ$m�|F�!<�\n",
            "͖�FsM��Թ�\u0013gj\u000e\u001d",
            "i?u�t��p�t{��γu�3�ֺ����3uƺ&K}�����d�8g\u001e",
            "�L4�ٴ;J�u;\u000b",
            "t\u0015���\u0005��E�]������\u0005��b]y\u0011T��+�4\u0005�ڒ|m�\u000e,ӂ�Z�\u0014�� ��P_��W����Pa�\u0006�4 ���4�\u001aM�FS��{�=��\u001e",
            "1D=\u0011?���\u001f���G\u001fxp+�\u0019�SQ)�3Q���lB��<��$)㸈a9�\u0005\u0002�\u0012xt{�BDi2�r��R\f",
            "�⨴�lJt�cR\u001c",
            "���\u0014�fY&%p\u0019�N�\\F��h>�piIܒ��d�\u0002\u001e",
            "�G\u0016,m���\u001f�i\n",
            "�F���X{����f�\u001d",
            "�[/�u\u0014��*�V\u0016��\u0005��\u0002��*\u0004���d�jl174\u0019�ՙj\u001a�皌g�;N5�N5��Z�j��5M�g\u001b��\u001a;�4�\u001a\n",
            "��\u0002��\u0010,ՃE\u0005�\u0012=X�\u000f\u0014@�\u0002\u0010,\u0005te��\u0004\u0004��\u000b",
            "v\u0016��%�\u0002�� �ҁe�PyY��]����+�Kvj\u000b",
            "�5z�F�C�ۡ)��~�>ss�h�@d��H����lvK�%Y�i`TD0\t%%\u0018f1��1\u000e�8�\u0010\tB�&c\f",
            "\u0015��\u0018M$i*E\u0013i��b�,Om\n",
            "��_/~��\u0017�\u0014\u001e",
            "�\u0006��\u001c",
            "�u�O���ں\u001c",
            "햮������\u0016smCgM��\\��l��\\kg]kW}����|��t���hj:��Xk޷���Q��\u0018�2��}ܤ�۩\u0005+t`E>X�\u0007*�򫊠�\u0002��P[Q����(�A%:\u0002\u000b",
            " �\u0018Ԗh��Zm1 �@@)\u0004\u0016��2=P�\u0007*���\u0002�*\u001f�ԁ\u0015������\n",
            "Ae X��\u0016\u0003y�:my�q=X����C�z�<_W����e'��\u0003��\u0007\u0012�5(,��\u0018�\u0019\u001c",
            "\u0017qT P\u0001�E\u0014�\tB!q�&c,\u0019g�8K')<��\u0019�N�D��3\u0002���,K&xn��S8�`�\u0014��\u0005>�q1��sB��Ӓ���D�������\u0013�\t2���?����Q��\u0007�mo-P�׮���o>�yj\u0013�r�t��\u001b�\u001c",
            "r\u001a���Fs}����\\�f:�\u001b��5��Z����|��p���TG�\u0019Ӊ��#�m\u001d",
            "\u001d",
            "���c��Cu�S\u001a�\u001d",
            "\u001a`�\u000e��q] �,�W\u0016�Ku@q����\u0003\u0015��\u0004\u0002�!�\u0010�\u0016\u0002@\t l�\n",
            "\u001e",
            "f����\u0002\u001c",
            "\u00110D�Q\t�\u0005��\u0011L��+4\u0019�\u0005j�L�x�$b$\u0011c�\u0004M�h:J�1Z��J*�=/��w�71>��h��Y�\u0005(�\u000f�X\u000fo,\u0005�\u001d",
            "�ӇO}b��ǔ\u000b",
            "����9)n{/���]ӷT����\u001f�{*�̃�#�1��ix���i2vִ\u0018O6��W�q��p���dG�)s�s�zN\u001d",
            "q\u0018[��g�(�\u001b�\u0017�C��H�i�Հ{w�U��z�D\u000f�AP\u0005\u0004U�u�:�@\u0007\u0015A�\"\u001d",
            "P�#w�8�\u0018\u0002�A`\u0001 \u0014\u0001P\u0005 �\u0001y�z�B�-/���@E��L\u0007\u0014\u0017��t@iN���\n",
            "\u001a�qT�Q\thX�\u0010\u0011!D�P\u0010L(�F\t<��Q\f",
            "�I\"F�I\u0002�\u0013x�\"�\f",
            "��(���x,�s�gqmxt���|�d������%����\u0011�둕��҂o�o���@oP\u0017�\u000b",
            "����\u00079���}>߇�o\u000f�T�����\u001c",
            "�zW'M\u0013ֳ��ZS�}�u��m�n:s��\\u��ꮦ���~��y؏!\"~c*�/�է��>����8֥��\u0016�w\u0015A\u0015�`�\u000e(,Е�C�:��#lk9�\u0018Ԗ@@9 ��`i^^A^^\u0015�P! \u0016�`1\u0004�\u0002y�\u0010P��v\u0001@�\u000e,�A%� �u@i>T��_\n",
            "��|��0�\n",
            "ЖC�N\u001d",
            "�\u000b",
            "Ж�\n",
            "wk0�%0\u0011Ey\f",
            "�0DDa\u0001�\u0005\u0014�\t<�c\n",
            "��p$J`\n",
            "\u0004*@�\u0002Ԗ僕���|mi��\u001c",
            "�+\u0003�e9~�P�V�� X�\u0005��Bm^\u0001�W�\u0003�B���养5��\u0010�`�ɟ�d�5\u001bq��j�_�<OXF2\u0016'�)�O���7oݺ���>V��{�\u0005��fWݡ\u0016c�������S\u0007�՟2���\"�YJ�2.}����c��\u0010�>�����'-#��>\\SxL��\t\u0002\u0015���z�L\u0007\u0014���|�4'^\u001d",
            "P\f",
            "�\u0015\u0002yۦ�\u0003�t`\u0014�@\u0011\u0004\u0016�@�\u000e*��JA�\u0018Ԗl�F�B�)\u0007�J���v��\u001c",
            " �\f",
            " ���e�PyN�z�\"��:��H�{�6¨HP1\u0014\u00151L�Q\tE$\u001c",
            "L&09��\u0019*J\u00112�)Q)+K��U�����il�2�\u001d",
            "������\u001a;k�-=V����Ҭ/�wue%���/̮�.x����f�W�|~չ\u0011����r'z���t����\u001d",
            "i�~�~��'���ۿb�^��=�2x��i͎�{O\u00187\u001f�Vd�k����\u0013��/�\u0012_ql<�������f��Zh7�-\u0007s�\u001e",
            "ܞ�\u0010P\u000ej� �\u0018 �>��\" (��\u0012��\u0018��y�`^�\u001e",
            ",ɕʜ�(�2 �6w (�AU P\u0001h�!�R\u000b",
            "���J@W�וB`q��� �*���\u0001;u`e�~�\u0006�\u0015\u0004�ð\u0010AD\u0014�\u0010X��(F�\u0010L�0\tEy��I�gH)�|P���+�>�p{����������fl���}��=Ǫ��&�kyb�37���\u0004�.�W��+��5O��\u0014tt\n",
            "�����\u001b\u0002�u�R\u0010�Fn*@@9��\u0002�*A�\n",
            "\u0004* �B\u000b",
            "�kueP~Ň\u0013�R\u0007��A{�`�\u0016��\u0004�B\u0004\u0011�a6\f",
            "\u000b",
            "(� a)\u0002G#���\n",
            "}\u0016�@�a`vl��7=��/�kˡ5Ohyο0�\u000b",
            "��5O����T��������=����\u000b",
            "9\u001b�~��6÷�S��\u0017���/����{��g��\u000eo�q�&ߙ��3��C��o?|z�a��TSr�/\u0011��4%}s\u0018����/\u0018�\u001f��R5\u001d",
            "���� x[\u0001�3\u001f�\u0005\u0001\u0015��\f",
            "�� �\u0004�+��r(�,\u0017�A�\u001c",
            " ʴ�b\u0010,�\u0002�;�tyZ=�-̕͜�A�H\u000f�\u0015�+sr��R\u0010,\u0005��\u001d",
            "@�\u0016,\u0007�\n",
            "\b���\n",
            "�:�VӠ�:l�tZ;\u0007���f��`���t\u0019�{���.W�uxdhzz³��.ϭϏ/O���V`\f",
            "斦W{\f",
            "��\u0015���l��3�\u0007C��\u001e",
            "�W���q�������?�������o�y�m����G\u001bn��L���{�W\u001c",
            "�'�m�\u0007vhn׀\u0007�<ޫ<��,�;�/�,��}�\u0011�S��\u001d",
            "Ѐw蠪|�\\�-\u0007�e@��R\u0010\u0004K��(�j�s�C�W h�y��\u001d",
            "�\u001d",
            "y:-�\u000f Ey;�?*� P\u0002 �\u0017�o(ǵ\u000e*҃%\u0005������C�\u0005����5P\u0002\u0001�:�\u0002\u0004s�.�j\u000b",
            "\u0001�H\u000b",
            "��i�yZ�\u0016�\u0007��:�\u0004\u0004�>���\u000fM����=\u0007,�C��x\u000e��y@�\u0016� ��\u0002�.��B\u000fUi�*@�.\u0010إ��4A�\u000b",
            "D�@�\n",
            "\u0010(�A% X\n",
            " eZ�\n",
            "\u0004v�C���*��R\u000b",
            "V �N\u0010���\n",
            ":/�H��\u0004��<��$#��4;�d5��5u\u0019Z���\u0011{���6�m\u001e",
            "��\u001c",
            "v�PWg���hm1w��M�A{���k��:��=�v��M/�-��'<3c�K�\u0001���Ì�1|�S�+����~��'^@��_ps��T��m\u0013����/�}����7~\u001f�f�4{��ն�y������>r�����{\u000e��uG��|�^\u0010<^}��Y��\u0002��E�����\u0013O\u000e�\u001f�{dD��. �\u001e",
            "��\u00052P[�\u0003�\n",
            "��\u0014 Jr�C���i 0/\u001f�\n",
            "��\n",
            "rz�M\u0002\u0010,�r�\u001a(�j���`W\u0004��z�*��E�\u0002�A�\\�W\u0006h+�J@[\u000ejˠ�\n",
            ":&�z�\u001c",
            "�nG���2d�t�;���>���l����;�͝��!����`��hu�X]�#����\u0013�n���'\u0018$q�_]�i(�u[���>���}��G�_��l�,$��̋��\u000f�����\u0017������+/����Rp�=5��N��s������}\u0007���/޿��@q���G�;,�ݝ>P�\u001fC�dY��i�Sc�\u000fi\n",
            "Nh4��=\u0005�]\u0005�J��\u0002Ԗ�L9\u000f�-\u0005ˀ��<�\u0004\u0004K\u0001m>�C\u000f������ۑ�\u0010(��R(�\f",
            "�+\u0003�e��D\u0007��ڒ��*�y�\u000e(փez�\f",
            "Җ��bΚt�\n",
            "\u0010����Ё\u0015���zp\u0017��\u0002��\u001a8�\u000f�,E),�\\Z\n",
            "Y;\u0007{{F{{F\u0007�&�z���#9������ڬ�fS���e4Ym]������s�[[mfc��bft޻��\u000f�v\u000f���Q�#q���\u0002��ڹ�\u001e",
            "0�P���=���?�R<���\\rq�W�oW�?���O<��O|����}{��ңM�jj�<~�#Gv�{�����}w\u0016ޝ\u000f�?~b��@\u0019{3��Ǐ�ӭ#[��g��\u001f7���\u001d",
            "wi�� P\u0001A\u0015z�2����b\u001d",
            "T\u0004�\u0005:���P\u000b",
            "��`q�h`�\u001e",
            "��:|ŀ�\u0010\u0004� `�\u0001�\u000b",
            "���\u0015�`�\u001e",
            "*��R=P��-ׁ�:�\u0012\u0002* �\"ws!X^ U�u;sY\u0010\u0002*@m9����U:m�\u0006�8\u0004�p\\��Y�w��8gG\u0007f\u0007���{G\u0007\u001c",
            "#����\u001e",
            "Ww���s�juZ�\u0003Vk_N�]6GO��k���x�����j1\u000f\f",
            "9F}K��х�\u0016����Ғ/\u001c",
            " �\u001d",
            "nM���=�J+�i�U\u0013���<�m,��>�(_�F>A�\u001f�\u0019�\u0013\u001f��C��������i����3��\u0015ǎ�\u001f�_q�\u001d",
            "e��(�k��. ���Nc�d��d��3��_l\u001c",
            "�<�\u0004wNl�z\u001e",
            "� \u00075���P�\u000e,��*��*\u001d",
            "X\t\u0001�:�\u0004\u0002\u000b",
            "!�\u0010\u0002s��RP[�\u000b",
            "$`^1�h\u000b",
            "�yzH[�\u0003�s*\u0006�\"\u0010*�j�\u0001�\f",
            "\u0002*t`e��s��\\���\n",
            "�\u000e:&�����#����>W���6`1�������\u0016s��l�X\u001c",
            "6��64�?�i\u001d",
            "j7��>��e\u0019\u0018\u001c",
            "�\u0018\u001d",
            "�;{�ujlyq~uy~5\u0012$��;�_��d羒�;u\u0005w8\f",
            "�����x���G���\u0011�3��G��R����O��&��I��L�ܳ�s�%o�Wu74��@�\u00104�VUVn�����Z[7��,\u00120�\u0010\u001a��`�H\u0002!k$��t�%�`�%941\u000e<X\n",
            "\u0011�CeEFe�{�����<������������^��3��s��\u001f8�\\֗r�BJ�\u000b",
            "�\u0005 �\u000b",
            "{��ۛ��\u0016&�����L���o�R��s��� �C<�zJ\u0010�\u0011\u0007cG�tJ\u001d",
            "��C�A�!���Q�H�E��\u000e��gY\u0007�\u0016c>E!�>A��\u001b�Z���Z\u0004Y\u00049X�\u0010p\tr)t96(u(�\u0018���зP 4\u000b",
            "D�+�δٞ�k���ת�;�i��oV�f����֪�r�]�i�v:�\u0017+ۛ�����f��ӪW{�z\\��\u001a�����'����G\n",
            "ŭ�tpu:8�2�^�i\u0005�B�Z��\u0005�] �{������������<���W�~��[O<���~�������w>��7��\u001f���vO{���ǆ���eky��s\"��yG_\u0001pq���\u000b",
            "��]��ݚ����G���t����\u001b�/T_\u00044�D�\u0012\u001f#�b�\u0010\u001b\u0011�\u0010\u0017!\u001b!\u0013!\u001b!\u001bA\u0007j.F.�\u000eŮ\u001260�\t4\t4�f\u0010da��\u001f���NLH\f",
            "H\f",
            "��P�2�P�L4�cO�\u0017�\u001d",
            "�|�\u0002�$\f",
            "\u0014��\u0001Ӄ���a�5i5���~�5�4�Q}ܪ��;��v�R��l�+;Q�b�^�\u0015��ۛ�b�]�nԫ�j�]��\u0014���n?j�\n",
            "\u0010Ų\u0015����`l0f+����������\u0018;�:�ٔ���\u0018�\u0004{\u0018�X�(����ãw�oܚ<~k�ş��w��k������}go\u0014+/4w��Y���\u00139=���E���\u000b",
            "�X\u0001�",
            "�\u000fW�x,����Aa�\u0017k��\\\u0019�s���j�\u0003�e � �T}1v v5�']�WI�\u0018��LΠ�\"؀�@P��\u001c",
            "�\u0010\u001a��s�BL�l�\f",
            "�,H\f",
            "H,z��D�)v������Op@Q HȐ�\u0013\u001fLF�'�����\u001fM��d4�o7G��S\u001d",
            "֊��Nkg�^-�j������f�X�v�r!���\u001a��n��hvw��R�9�\u000e\u001a��ŋ�r�ՏFW�W�<����\u0018��n椑�A\u001e",
            " �֏��_�˫���ɧ�\u001d",
            ">qs��������_��k�/�|�\u000f�|.�6^H{�@���\f",
            "O�(\\1V�b��k ,}��\u0017�?ښ��p������.|}��/�W_\u0006t���p�\u0010\u0013\u0012K#\u000ec>�\u0001�\u0001F>�\u000eV\u0007X\u0018X\u0018:\u0018ڄ��\u0019s�@2\n",
            "��1�a�?\u0019\u001e",
            "��Ѡ?��gQ4�Z�ncҪ��R�RnU��j�U��,o�7/�\u000b",
            "[��V�\\lWJ�b�S���v�\u001e",
            "\u0017�\u001b����+�k�ޤ\\��J���^\\^�K�i�Xv�5ʲ\\ϸ�\u0012�η^���G���\u000f?y������\u001a\\�=��_\u001d",
            "|�w_}�_���w��9�vQ�$[��L�gW�Қ���\u0017m�\u0004����n�޾0�y���_\u0018����ʵ\u0017>Ȝ�\u0003���'Ą�D��p^\u0005�?�k�\u001c",
            "�\\��\u0003[��JA�H�H����TU�����D\u0012,\u0011� I�\u001e",
            "J���Up��\u0007�C���\"E\u0001�\u0002�g)\n",
            "��\u0001�f�#X��)�\u0002}ZkJ|\f",
            "\u001d",
            "��\u0014:\u001c",
            "Z:�\t�\u0018\t�1�1�t�\u001d",
            "�\u0017����hЉ�ە�?���%�<��?>�p~�s���������כּ暥/\u0019z�r\u0016\u0001r��\u001b7o~��ۿ{�\u000f�O��\u001e",
            "�[9�5{哗����/W6J�q\"i�g����fyv�XY��y��\u0015 V������s��ի�=����\u000f��\n",
            "�\u0018[�k��\t#\u001e",
            "#\u000e��RB\\H,��M\u0012J\u0002u�ډ^\u0005x\u0015��d��&%:E\u0006�\u0016�\u0006A֧\u001f��~w0kwǝf�Uﶚ�j�])��;��v�V�ʃNu0l��J�Vh�+�8\u001an]�<��G�����J�ؘ�{g\u001e",
            "|�K�\f",
            ";�89�Ș2�˖��<mZK z�\u001e",
            "�^�������}��\u000f���������������*��Cv\"�ݕ�����$���\n",
            "��{4hN��{ã�p/\u001e",
            "�z�Q�=hԣr�U�t\n",
            "�b���HT�\u0003A\u000e#>A.#\u001e",
            "�.��\\�B�g�*�,0��Žٰ?\u001d",
            "�{��t<����Qk\u0018Շ�ưQ\u001bTJ�j9*\u0015��r�Rlw\u001b�z):��\u000e��\u0010�N\\[��\u001e",
            "�\"�Eh�)��H�\u0014<��$�.S���L\u00192%yIbf HN&�\\{��\u0013/~��7��s����g?���~��� �֪ǒ�L�\"�7\u0016W��Ec%'�)��Hb D\u00102\u0004%\u0004:Bs��\u001aW\u0014P92��L���P�`�p\u001e",
            "(f�x\u001e",
            "#��>c.��rs83�M\u0003�D���\u0002���h�?\u001d",
            "\u001d",
            "MG\u0007��,\u001e",
            "L{�i�=l6����X����J�ۨ��J���kV��n���礟2ܤc'\u0013N�2\u0013����|\u0010,XVJ�I*C)Ҝ%u������M=eȄ�!0R�/����|�x�����W?����F�>ػ���\u0007 �r��ɴ���Ȧdv��X1��,�\"i��\u0011^\u0001h�|����\u000f���X����w����EB�\u0004\u001c",
            ":j���\u000e  \n",
            "�\u0005`��v�v���\n",
            "\u0010�1M\u0013��C(��@�j*��l3�=��;#�\u0011Oy4���ء��4`(��S�f��Hg�a�\u0003�����p2<�\u000e\u000e��t:8�f���ߚ4+�V�_�t:�a��ۭtk�A���T�����S\u000f���<�4a���B)C�\u001d",
            "�|�<]OP\u001e",
            "0�\u0010z�ˤ�`�\u0010>�I�\u0013waЙ�U���2����������_ ���b���0�����mث��bNX*�\t\u001b'\u0004[\u0004h�{���K\u001f���^��\u0018h�L, �jĢ�WEQ�\n",
            "�6\u0006\u0016#\u001e",
            "����\u0018�8�tbc�\u0010d\u001a�@� \n",
            "� �\u0011V�8\f",
            "�C \u0018�\u0010;�ڄ،�@3\u0011�!�0s8WO��\u0004\u0010��!���P��D>\u0018�G���A\u0016\u000f���E�a�ߎ;�~�ыZ��J��ۯ׺�Z�Q�6\u000b",
            "�V���XŒi��9\t\u0005Kp�K��\"��U�\u0015�CC�t=��\t)\u0003)\u0003\u0015\u0010�2\u0005@�Οۻq��}k����{GO�N-���J�G�$N�X&/�����������\u0006,e�@�Y�-���{����\u000e�\u0004�n 60I�\u0015�\u0010[�4%rb䪗�D�b���`P`H � 2MJE��\u0003f:�:ĎZ�9�\u0019\n",
            "(\n",
            "c}�\\ˉŜȧX�%��}��\u0001�Ϟ�����\u000e�� ��/i��G��r \u0014\u0019\u0004�\u0002�*_�4Kٯ\u0004\u001b\u0004�T\u0007�R�Vl�\\���ѹ�7%�\u0019�\u0005\t\u0004�W�b��@��S_�@�#%��y��\u001a� �ܟ�Q�y�����_=v�i �,��P��aN�׌��l�J�`�e�E��[AP\u0012(�ƩƐF�\u0018��\u0010�\u0018�\t�X\u0018��%ٜ�;��\u0014�J�R\u0019b���\n",
            "\u0015iA�Za�Vr�lp�\u0011�V��R\u0007\u0015�zP��q��!�U}-�'�˩\u000f&���`�`vm��hp�o�\u0006��^s�k\u000e��,\u001e",
            "���{Q������Nuج��;��v�R�ݼ���|��C�\u0006�&\u0004KP�\u0013�\t\u00160�\t�3�r\u001e",
            "0� ,`\"�F��CC\u0004\u001aN\u0002�mǯ�Z�_���v�{��\u001d",
            " ri}���\u0014I-[+�쓧̍%����9�OӴ�\u0013\u000e\tM�\u0002 ��K\u001f�z�\u0001�\n",
            "+.A\\J=B\\�\u001c",
            "Bl�eK�)§�@ݍ���\u0018U�;I��\u000fb���Ö��    IEND�B`� | Mike.Hillyer@sakilastaff.com |        1 |      1 | Mike     | 8cb2237d0679ca88db6464eac60da96345513964 | 2006-02-15 03:57:16 |��\u001c",
            "'\u0004\t)�\u0018N�\u0015�R\u0007 ��gDu�҃�C �f`$4��C\u001e",
            "�5:B:�\u0012#����&PP$�].�a�a�a�3\u0013aA���N��R��|�\u000e��g��\u0001\u0011��`D-�.8�=1����{��^4�v���A��\u0019����`2>\u0018�\u000e�����?\u001c",
            "\\i7���n�P߼�s��ι�.]8���#�WWN2�b�#j\u0013�*HQ�.AB�}F<J=D<J\u0012�x�\u0007��\u0001�4��TJ��{O�A�I��$ټ\\X5W������E������R��\\���o!WG���N|��a\u0018�C��U�\u0011;B$\u0014\u001ap�#jbl�a�H���\u0011�P\u0013��5B�\u001d",
            "و\u0012�ѹ�B���D큊r��\u0019�\u0015�S�V3S]\u000fF:��3{\u001e",
            "P�S��W��י\u000e�{��~��W�qpx-\u001e",
            "ΆÃQ|��L\u001b�^�֫UZ�K��\u000f�?���sg�>t��\u000f?����J\u0019 4w�\u0019�$M0��4ɱψOI\u0002�\u0004�\u001e",
            "\".\u0013)�%O�Z.=a8��|1 �4M��+\u001b�چ��\"W��Ҳ��\u0013�\f",
            "˺(���#G ��\u001e",
            "��q�Owb%�)7\u0004�\u0004\u0007j�!dB(���\u0004R�t�8F\u0002C�8d3���?���r����{\u0007�9�0�7������S��ǣ%�M��Dp5�\u0011�A?��\u0006���\u0012�z�q7\u001a��q�\u0019\n",
            "+----------+------------+-----------+------------+-------------------------------------------------------------------------------------------------------------------------------------------------------------------------------------------------------------------------------------------------------------------------------------------------------------------------------------------------------------------------------------------------------------------------------------------------------------------------------------------------------------------------------------------------------------------------------------------------------------------------------------------------------------------------------------------------------------------------------------------------------------------------------------------------------------------------------------------------------------------------------------------------------------------------------------------------------------------------------------------------------------------------------------------------------------------------------------------------------------------------------------------------------------------------------------------------------------------------------------------------------------------------------------------------------------------------------------------------------------------------------------------------------------------------------------------------------------------------------------------------------------------------------------------------------------------------------------------------------------------------------------------------------------------------------------------------------------------------------------------------------------------------------------------------------------------------------------------------------------------------------------------------------------------------------------------------------------------------------------------------------------------------------------------------------------------------------------------------------------------------------------------------------------------------------------------------------------------------------------------------------------------------------------------------------------------------------------------------------------------------------------------------------------------------------------------------------------------------------------------------------------------------------------------------------------------------------------------------------------------------------------------------------------------------------------------------------------------------------------------------------------------------------------------------------------------------------------------------------------------------------------------------------------------------------------------------------------------------------------------------------------------------------------------------------------------------------------------------------------------------------------------------------------------------------------------------------------------------------------------------------------------------------------------------------------------------------------------------------------------------------------------------------------------------------------------------------------------------------------------------------------------------------------------------------------------------------------------------------------------------------------------------------------------------------------------------------------------------------------------------------------------------------------------------------------------------------------------------------------------------------------------------------------------------------------------------------------------------------------------------------------------------------------------------------------------------------------------------------------------------------------------------------------------------------------------------------------------------------------------------------------------------------------------------------------------------------------------------------------------------------------------------------------------------------------------------------------------------------------------------------------------------------------------------------------------------------------------------------------------------------------------------------------------------------------------------------------------------------------------------------------------------------------------------------------------------------------------------------------------------------------------------------------------------------------------------------------------------------------------------------------------------------------------------------------------------------------------------------------------------------------------------------------------------------------------------------------------------------------------------------------------------------------------------------------------------------------------------------------------------------------------------------------------------------------------------------------------------------------------------------------------------------------------------------------------------------------------------------------------------------------------------------------------------------------------------------------------------------------------------------------------------------------------------------------------------------------------------------------------------------------------------------------------------------------------------------------------------------------------------------------------------------------------------------------------------------------------------------------------------------------------------------------------------------------------------------------------------------------------------------------------------------------------------------------------------------------------------------------------------------------------------------------------------------------------------------------------------------------------------------------------------------------------------------------------------------------------------------------------------------------------------------------------------------------------------------------------------------------------------------------------------------------------------------------------------------------------------------------------------------------------------------------------------------------------------------------------------------------------------------------------------------------------------------------------------------------------------------------------------------------------------------------------------------------------------------------------------------------------------------------------------------------------------------------------------------------------------------------------------------------------------------------------------------------------------------------------------------------------------------------------------------------------------------------------------------------------------------------------------------------------------------------------------------------------------------------------------------------------------------------------------------------------------------------------------------------------------------------------------------------------------------------------------------------------------------------------------------------------------------------------------------------------------------------------------------------------------------------------------------------------------------------------------------------------------------------------------------------------------------------------------------------------------------------------------------------------------------------------------------------------------------------------------------------------------------------------------------------------------------------------------------------------------------------------------------------------------------------------------------------------------------------------------------------------------------------------------------------------------------------------------------------------------------------------------------------------------------------------------------------------------------------------------------------------------------------------------------------------------------------------------------------------------------------------------------------------------------------------------------------------------------------------------------------------------------------------------------------------------------------------------------------------------------------------------------------------------------------------------------------------------------------------------------------------------------------------------------------------------------------------------------------------------------------------------------------------------------------------------------------------------------------------------------------------------------------------------------------------------------------------------------------------------------------------------------------------------------------------------------------------------------------------------------------------------------------------------------------------------------------------------------------------------------------------------------------------------------------------------------------------------------------------------------------------------------------------------------------------------------------------------------------------------------------------------------------------------------------------------------------------------------------------------------------------------------------------------------------------------------------------------------------------------------------------------------------------------------------------------------------------------------------------------------------------------------------------------------------------------------------------------------------------------------------------------------------------------------------------------------------------------------------------------------------------------------------------------------------------------------------------------------------------------------------------------------------------------------------------------------------------------------------------------------------------------------------------------------------------------------------------------------------------------------------------------------------------------------------------------------------------------------------------------------------------------------------------------------------------------------------------------------------------------------------------------------------------------------------------------------------------------------------------------------------------------------------------------------------------------------------------------------------------------------------------------------------------------------------------------------------------------------------------------------------------------------------------------------------------------------------------------------------------------------------------------------------------------------------------------------------------------------------------------------------------------------------------------------------------------------------------------------------------------------------------------------------------------------------------------------------------------------------------------------------------------------------------------------------------------------------------------------------------------------------------------------------------------------------------------------------------------------------------------------------------------------------------------------------------------------------------------------------------------------------------------------------------------------------------------------------------------------------------------------------------------------------------------------------------------------------------------------------------------------------------------------------------------------------------------------------------------------------------------------------------------------------------------------------------------------------------------------------------------------------------------------------------------------------------------------------------------------------------------------------------------------------------------------------------------------------------------------------------------------------------------------------------------------------------------------------------------------------------------------------------------------------------------------------------------------------------------------------------------------------------------------------------------------------------------------------------------------------------------------------------------------------------------------------------------------------------------------------------------------------------------------------------------------------------------------------------------------------------------------------------------------------------------------------------------------------------------------------------------------------------------------------------------------------------------------------------------------------------------------------------------------------------------------------------------------------------------------------------------------------------------------------------------------------------------------------------------------------------------------------------------------------------------------------------------------------------------------------------------------------------------------------------------------------------------------------------------------------------------------------------------------------------------------------------------------------------------------------------------------------------------------------------------------------------------------------------------------------------------------------------------------------------------------------------------------------------------------------------------------------------------------------------------------------------------------------------------------------------------------------------------------------------------------------------------------------------------------------------------------------------------------------------------------------------------------------------------------------------------------------------------------------------------------------------------------------------------------------------------------------------------------------------------------------------------------------------------------------------------------------------------------------------------------------------------------------------------------------------------------------------------------------------------------------------------------------------------------------------------------------------------------------------------------------------------------------------------------------------------------------------------------------------------------------------------------------------------------------------------------------------------------------------------------------------------------------------------------------------------------------------------------------------------------------------------------------------------------------------------------------------------------------------------------------------------------------------------------------------------------------------------------------------------------------------------------------------------------------------------------------------------------------------------------------------------------------------------------------------------------------------------------------------------------------------------------------------------------------------------------------------------------------------------------------------------------------------------------------------------------------------------------------------------------------------------------------------------------------------------------------------------------------------------------------------------------------------------------------------------------------------------------------------------------------------------------------------------------------------------------------------------------------------------------------------------------------------------------------------------------------------------------------------------------------------------------------------------------------------------------------------------------------------------------------------------------------------------------------------------------------------------------------------------------------------------------------------------------------------------------------------------------------------------------------------------------------------------------------------------------------------------------------------------------------------------------------------------------------------------------------------------------------------------------------------------------------------------------------------------------------------------------------------------------------------------------------------------------------------------------------------------------------------------------------------------------------------------------------------------------------------------------------------------------------------------------------------------------------------------------------------------------------------------------------------------------------------------------------------------------------------------------------------------------------------------------------------------------------------------------------------------------------------------------------------------------------------------------------------------------------------------------------------------------------------------------------------------------------------------------------------------------------------------------------------------------------------------------------------------------------------------------------------------------------------------------------------------------------------------------------------------------------------------------------------------------------------------------------------------------------------------------------------------------------------------------------------------------------------------------------------------------------------------------------------------------------------------------------------------------------------------------------------------------------------------------------------------------------------------------------------------------------------------------------------------------------------------------------------------------------------------------------------------------------------------------------------------------------------------------------------------------------------------------------------------------------------------------------------------------------------------------------------------------------------------------------------------------------------------------------------------------------------------------------------------------------------------------------------------------------------------------------------------------------------------------------------------------------------------------------------------------------------------------------------------------------------------------------------------------------------------------------------------------------------------------------------------------------------------------------------------------------------------------------------------------------------------------------------------------------------------------------------------------------------------------------------------------------------------------------------------------------------------------------------------------------------------------------------------------------------------------------------------------------------------------------------------------------------------------------------------------------------------------------------------------------------------------------------------------------------------------------------------------------------------------------------------------------------------------------------------------------------------------------------------------------------------------------------------------------------------------------------------------------------------------------------------------------------------------------------------------------------------------------------------------------------------------------------------------------------------------------------------------------------------------------------------------------------------------------------------------------------------------------------------------------------------------------------------------------------------------------------------------------------------------------------------------------------------------------------------------------------------------------------------------------------------------------------------------------------------------------------------------------------------------------------------------------------------------------------------------------------------------------------------------------------------------------------------------------------------------------------------------------------------------------------------------------------------------------------------------------------------------------------------------------------------------------------------------------------------------------------------------------------------------------------------------------------------------------------------------------------------------------------------------------------------------------------------------------------------------------------------------------------------------------------------------------------------------------------------------------------------------------------------------------------------------------------------------------------------------------------------------------------------------------------------------------------------------------------------------------------------------------------------------------------------------------------------------------------------------------------------------------------------------------------------------------------------------------------------------------------------------------------------------------------------------------------------------------------------------------------------------------------------------------------------------------------------------------------------------------------------------------------------------------------------------------------------------------------------------------------------------------------------------------------------------------------------------------------------------------------------------------------------------------------------------------------------------------------------------------------------------------------------------------------------------------------------------------------------------------------------------------------------------------------------------------------------------------------------------------------------------------------------------------------------------------------------------------------------------------------------------------------------------------------------------------------------------------------------------------------------------------------------------------------------------------------------------------------------------------------------------------------------------------------------------------------------------------------------------------------------------------------------------------------------------------------------------------------------------------------------------------------------------------------------------------------------------------------------------------------------------------------------------------------------------------------------------------------------------------------------------------------------------------------------------------------------------------------------------------------------------------------------------------------------------------------------------------------------------------------------------------------------------------------------------------------------------------------------------------------------------------------------------------------------------------------------------------------------------------------------------------------------------------------------------------------------------------------------------------------------------------------------------------------------------------------------------------------------------------------------------------------------------------------------------------------------------------------------------------------------------------------------------------------------------------------------------------------------------------------------------------------------------------------------------------------------------------------------------------------------------------------------------------------------------------------------------------------------------------------------------------------------------------------------------------------------------------------------------------------------------------------------------------------------------------------------------------------------------------------------------------------------------------------------------------------------------------------------------------------------------------------------------------------------------------------------------------------------------------------------------------------------------------------------------------------------------------------------------------------------------------------------------------------------------------------------------------------------------------------------------------------------------------------------------------------------------------------------------------------------------------------------------------------------------------------------------------------------------------------------------------------------------------------------------------------------------------------------------------------------------------------------------------------------------------------------------------------------------------------------------------------------------------------------------------------------------------------------------------------------------------------------------------------------------------------------------------------------------------------------------------------------------------------------------------------------------------------------------------------------------------------------------------------------------------------------------------------------------------------------------------------------------------------------------------------------------------------------------------------------------------------------------------------------------------------------------------------------------------------------------------------------------------------------------------------------------------------------------------------------------------------------------------------------------------------------------------------------------------------------------------------------------------------------------------------------------------------------------------------------------------------------------------------------------------------------------------------------------------------------------------------------------------------------------------------------------------------------------------------------------------------------------------------------------------------------------------------------------------------------------------------------------------------------------------------------------------------------------------------------------------------------------------------------------------------------------------------------------------------------------------------------------------------------------------------------------------------------------------------------------------------------------------------------------------------------------------------------------------------------------------------------------------------------------------------------------------------------------------------------------------------------------------------------------------------------------------------------------------------------------------------------------------------------------------------------------------------------------------------------------------------------------------------------------------------------------------------------------------------------------------------------------------------------------------------------------------------------------------------------------------------------------------------------------------------------------------------------------------------------------------------------------------------------------------------------------------------------------------------------------------------------------------------------------------------------------------------------------------------------------------------------------------------------------------------------------------------------------------------------------------------------------------------------------------------------------------------------------------------------------------------------------------------------------------------------------------------------------------------------------------------------------------------------------------------------------------------------------------------------------------------------------------------------------------------------------------------------------------------------------------------------------------------------------------------------------------------------------------------------------------------------------------------------------------------------------------------------------------------------------------------------------------------------------------------------------------------------------------------------------------------------------------------------------------------------------------------------------------------------------------------------------------------------------------------------------------------------------------------------------------------------------------------------------------------------------------------------------------------------------------------------------------------------------------------------------------------------------------------------------------------------------------------------------------------------------------------------------------------------------------------------------------------------------------------------------------------------------------------------------------------------------------------------------------------------------------------------------------------------------------------------------------------------------------------------------------------------------------------------------------------------------------------------------------------------------------------------------------------------------------------------------------------------------------------------------------------------------------------------------------------------------------------------------------------------------------------------------------------------------------------------------------------------------------------------------------------------------------------------------------------------------------------------------------------------------------------------------------------------------------------------------------------------------------------------------------------------------------------------------------------------------------------------------------------------------------------------------------------------------------------------------------------------------------------------------------------------------------------------------------------------------------------------------------------------------------------------------------------------------------------------------------------------------------------------------------------------------------------------------------------------------------------------------------------------------------------------------------------------------------------------------------------------------------------------------------------------------------------------------------------------------------------------------------------------------------------------------------------------------------------------------------------------------------------------------------------------------------------------------------------------------------------------------------------------------------------------------------------------------------------------------------------------------------------------------------------------------------------------------------------------------------------------------------------------------------------------------------------------------------------------------------------------------------------------------------------------------------------------------------------------------------------------------------------------------------------------------------------------------------------------------------------------------------------------------------------------------------------------------------------------------------------------------------------------------------------------------------------------------------------------------------------------------------------------------------------------------------------------------------------------------------------------------------------------------------------------------------------------------------------------------------------------------------------------------------------------------------------------------------------------------------------------------------------------------------------------------------------------------------------------------------------------------------------------------------------------------------------------------------------------------------------------------------------------------------------------------------------------------------------------------------------------------------------------------------------------------------------------------------------------------------------------------------------------------------------------------------------------------------------------------------------------------------------------------------------------------------------------------------------------------------------------------------------------------------------------------------------------------------------------------------------------------------------------------------------------------------------------------------------------------------------------------------------------------------------------------------------------------------------------------------------------------------------------------------------------------------------------------------------------------------------------------------------------------------------------------------------------------------------------------+------------------------------+----------+--------+----------+------------------------------------------+---------------------+\n"
          ]
        }
      ],
      "source": [
        "!mysql sakila -e \"select * from staff LIMIT 1\""
      ]
    },
    {
      "cell_type": "code",
      "execution_count": null,
      "id": "b334dd61-96f8-464d-a972-60c04e6980cc",
      "metadata": {
        "id": "b334dd61-96f8-464d-a972-60c04e6980cc",
        "outputId": "c25a1174-caa5-4132-c7ac-37d24aaa372f"
      },
      "outputs": [
        {
          "name": "stdout",
          "output_type": "stream",
          "text": [
            "+----+--------------+----------------------+----------+-------------+------------+-----------+-----+\n",
            "| ID | name         | address              | zip code | phone       | city       | country   | SID |\n",
            "+----+--------------+----------------------+----------+-------------+------------+-----------+-----+\n",
            "|  1 | Mike Hillyer | 23 Workhaven Lane    |          | 14033335568 | Lethbridge | Canada    |   1 |\n",
            "|  2 | Jon Stephens | 1411 Lillydale Drive |          | 6172235589  | Woodridge  | Australia |   2 |\n",
            "+----+--------------+----------------------+----------+-------------+------------+-----------+-----+\n"
          ]
        }
      ],
      "source": [
        "!mysql sakila -e \"select * from staff_list LIMIT 3\""
      ]
    },
    {
      "cell_type": "code",
      "execution_count": null,
      "id": "9954f346-d14a-4820-8c03-8ee489fa38c9",
      "metadata": {
        "id": "9954f346-d14a-4820-8c03-8ee489fa38c9",
        "outputId": "7d148efa-af21-437a-f0fd-8cea50465133"
      },
      "outputs": [
        {
          "name": "stdout",
          "output_type": "stream",
          "text": [
            "+----------+------------------+------------+---------------------+\n",
            "| store_id | manager_staff_id | address_id | last_update         |\n",
            "+----------+------------------+------------+---------------------+\n",
            "|        1 |                1 |          1 | 2006-02-15 04:57:12 |\n",
            "|        2 |                2 |          2 | 2006-02-15 04:57:12 |\n",
            "+----------+------------------+------------+---------------------+\n"
          ]
        }
      ],
      "source": [
        "!mysql sakila -e \"select * from store LIMIT 3\""
      ]
    },
    {
      "cell_type": "markdown",
      "id": "4cfc923d-6435-4628-8c60-3c0bc61937b7",
      "metadata": {
        "id": "4cfc923d-6435-4628-8c60-3c0bc61937b7"
      },
      "source": [
        "## Write a query (on any table) that uses both a WHERE clause and an ORDER BY clause"
      ]
    },
    {
      "cell_type": "code",
      "execution_count": null,
      "id": "18d46ba4-34e0-4fdb-a96f-fbf5a0bd8c5e",
      "metadata": {
        "id": "18d46ba4-34e0-4fdb-a96f-fbf5a0bd8c5e",
        "outputId": "63d534c2-902a-4054-def6-3eae937bd708"
      },
      "outputs": [
        {
          "name": "stdout",
          "output_type": "stream",
          "text": [
            "+-------------+----------+------------+-----------+-------------------------------------+------------+--------+---------------------+---------------------+\n",
            "| customer_id | store_id | first_name | last_name | email                               | address_id | active | create_date         | last_update         |\n",
            "+-------------+----------+------------+-----------+-------------------------------------+------------+--------+---------------------+---------------------+\n",
            "|         368 |        1 | HARRY      | ARCE      | HARRY.ARCE@sakilacustomer.org       |        373 |      0 | 2006-02-14 22:04:37 | 2006-02-15 04:57:20 |\n",
            "|         482 |        1 | MAURICE    | CRAWLEY   | MAURICE.CRAWLEY@sakilacustomer.org  |        487 |      0 | 2006-02-14 22:04:37 | 2006-02-15 04:57:20 |\n",
            "|         558 |        1 | JIMMIE     | EGGLESTON | JIMMIE.EGGLESTON@sakilacustomer.org |        564 |      0 | 2006-02-14 22:04:37 | 2006-02-15 04:57:20 |\n",
            "|         534 |        1 | CHRISTIAN  | JUNG      | CHRISTIAN.JUNG@sakilacustomer.org   |        540 |      0 | 2006-02-14 22:04:37 | 2006-02-15 04:57:20 |\n",
            "|         271 |        1 | PENNY      | NEAL      | PENNY.NEAL@sakilacustomer.org       |        276 |      0 | 2006-02-14 22:04:36 | 2006-02-15 04:57:20 |\n",
            "|         592 |        1 | TERRANCE   | ROUSH     | TERRANCE.ROUSH@sakilacustomer.org   |        598 |      0 | 2006-02-14 22:04:37 | 2006-02-15 04:57:20 |\n",
            "|         406 |        1 | NATHAN     | RUNYON    | NATHAN.RUNYON@sakilacustomer.org    |        411 |      0 | 2006-02-14 22:04:37 | 2006-02-15 04:57:20 |\n",
            "|         124 |        1 | SHEILA     | WELLS     | SHEILA.WELLS@sakilacustomer.org     |        128 |      0 | 2006-02-14 22:04:36 | 2006-02-15 04:57:20 |\n",
            "+-------------+----------+------------+-----------+-------------------------------------+------------+--------+---------------------+---------------------+\n"
          ]
        }
      ],
      "source": [
        "# select all rows from the customer table where active = 0 and the store_id = 1, order the results by last name ascending\n",
        "!mysql sakila -e \"SELECT * FROM customer WHERE active = 0 AND store_id = 1 ORDER BY last_name ASC\""
      ]
    },
    {
      "cell_type": "markdown",
      "id": "a068dc5b-c476-4226-ba33-bc3085eaffa6",
      "metadata": {
        "id": "a068dc5b-c476-4226-ba33-bc3085eaffa6"
      },
      "source": [
        "## Write an INSERT statement to add a record into any one of the tables"
      ]
    },
    {
      "cell_type": "code",
      "execution_count": null,
      "id": "cb11fd3e-949e-4a5b-bddc-375af86e2d49",
      "metadata": {
        "id": "cb11fd3e-949e-4a5b-bddc-375af86e2d49"
      },
      "outputs": [],
      "source": [
        "# insert Austin into city table with 601 as city_id\n",
        "!mysql sakila -e \"INSERT INTO city(city_id, city, country_id) VALUES('601', 'Austin', '103')\""
      ]
    },
    {
      "cell_type": "code",
      "execution_count": null,
      "id": "d1de19d0-b8dd-429d-ad3d-9afca85ff07e",
      "metadata": {
        "id": "d1de19d0-b8dd-429d-ad3d-9afca85ff07e",
        "outputId": "3292eb1d-4b20-4308-c346-42e2b5fd6602"
      },
      "outputs": [
        {
          "name": "stdout",
          "output_type": "stream",
          "text": [
            "+---------+--------+------------+---------------------+\n",
            "| city_id | city   | country_id | last_update         |\n",
            "+---------+--------+------------+---------------------+\n",
            "|     601 | Austin |        103 | 2022-07-18 18:38:04 |\n",
            "+---------+--------+------------+---------------------+\n"
          ]
        }
      ],
      "source": [
        "!mysql sakila -e \"SELECT * FROM city WHERE city = 'Austin'\""
      ]
    },
    {
      "cell_type": "markdown",
      "id": "186ffe38-6fc5-40eb-a541-fba12db8296f",
      "metadata": {
        "id": "186ffe38-6fc5-40eb-a541-fba12db8296f"
      },
      "source": [
        "## Write an UPDATE statement to update one or more records from any one of the tables"
      ]
    },
    {
      "cell_type": "code",
      "execution_count": null,
      "id": "4a2473e9-b6d0-4eb4-a23e-f29448ec2fa4",
      "metadata": {
        "id": "4a2473e9-b6d0-4eb4-a23e-f29448ec2fa4"
      },
      "outputs": [],
      "source": [
        "# update Austin to Houston\n",
        "!mysql sakila -e \"UPDATE city SET city = 'Houston' WHERE city = 'Austin'\""
      ]
    },
    {
      "cell_type": "code",
      "execution_count": null,
      "id": "6a5b7970-4c18-4da7-a351-9d98fcf6f3a4",
      "metadata": {
        "id": "6a5b7970-4c18-4da7-a351-9d98fcf6f3a4"
      },
      "outputs": [],
      "source": [
        "# shows that Austin has been replaced by Houston in the table\n",
        "!mysql sakila -e \"SELECT * FROM city WHERE city = 'Austin'\""
      ]
    },
    {
      "cell_type": "code",
      "execution_count": null,
      "id": "bd9c6c41-ddfd-4c71-957e-845493c35c3c",
      "metadata": {
        "id": "bd9c6c41-ddfd-4c71-957e-845493c35c3c",
        "outputId": "00f1f9b9-5ac9-4303-e41f-3803f651e745"
      },
      "outputs": [
        {
          "name": "stdout",
          "output_type": "stream",
          "text": [
            "+---------+---------+------------+---------------------+\n",
            "| city_id | city    | country_id | last_update         |\n",
            "+---------+---------+------------+---------------------+\n",
            "|     601 | Houston |        103 | 2022-07-18 18:38:05 |\n",
            "+---------+---------+------------+---------------------+\n"
          ]
        }
      ],
      "source": [
        "!mysql sakila -e \"SELECT * FROM city WHERE city = 'Houston'\""
      ]
    },
    {
      "cell_type": "markdown",
      "id": "2f63cd44-2fe3-4585-b022-2488f1fad0c8",
      "metadata": {
        "id": "2f63cd44-2fe3-4585-b022-2488f1fad0c8"
      },
      "source": [
        "## Write a DELETE statement to delete one or more records from any one of the tables"
      ]
    },
    {
      "cell_type": "code",
      "execution_count": null,
      "id": "6fee1b6f-67f4-4365-a778-03b87c8423ab",
      "metadata": {
        "id": "6fee1b6f-67f4-4365-a778-03b87c8423ab",
        "outputId": "36523bfd-e5fb-4eef-91e4-b8685591510a"
      },
      "outputs": [
        {
          "name": "stdout",
          "output_type": "stream",
          "text": [
            "+---------+--------------+------------+---------------------+\n",
            "| city_id | city         | country_id | last_update         |\n",
            "+---------+--------------+------------+---------------------+\n",
            "|     601 | Houston      |        103 | 2022-07-18 18:38:05 |\n",
            "|     600 | Ziguinchor   |         83 | 2006-02-15 04:45:25 |\n",
            "|     599 | Zhoushan     |         23 | 2006-02-15 04:45:25 |\n",
            "|     598 | Zhezqazghan  |         51 | 2006-02-15 04:45:25 |\n",
            "|     597 | Zeleznogorsk |         80 | 2006-02-15 04:45:25 |\n",
            "+---------+--------------+------------+---------------------+\n"
          ]
        }
      ],
      "source": [
        "# before delete statement\n",
        "!mysql sakila -e \"SELECT * FROM city ORDER BY city_id DESC LIMIT 5\""
      ]
    },
    {
      "cell_type": "code",
      "execution_count": null,
      "id": "08e3ee6e-ffd6-4033-a020-d5365cf15a52",
      "metadata": {
        "id": "08e3ee6e-ffd6-4033-a020-d5365cf15a52"
      },
      "outputs": [],
      "source": [
        "# Delete all rows where city_id is greater than 600\n",
        "!mysql sakila -e \"DELETE FROM city WHERE city_id > '600'\""
      ]
    },
    {
      "cell_type": "code",
      "execution_count": null,
      "id": "d55214f9-8740-48fd-815a-7dbe6cd832f4",
      "metadata": {
        "id": "d55214f9-8740-48fd-815a-7dbe6cd832f4",
        "outputId": "eba0c243-6fd2-44cf-e5d2-0b8fe22f5436"
      },
      "outputs": [
        {
          "name": "stdout",
          "output_type": "stream",
          "text": [
            "+---------+--------------+------------+---------------------+\n",
            "| city_id | city         | country_id | last_update         |\n",
            "+---------+--------------+------------+---------------------+\n",
            "|     600 | Ziguinchor   |         83 | 2006-02-15 04:45:25 |\n",
            "|     599 | Zhoushan     |         23 | 2006-02-15 04:45:25 |\n",
            "|     598 | Zhezqazghan  |         51 | 2006-02-15 04:45:25 |\n",
            "|     597 | Zeleznogorsk |         80 | 2006-02-15 04:45:25 |\n",
            "|     596 | Zaria        |         69 | 2006-02-15 04:45:25 |\n",
            "+---------+--------------+------------+---------------------+\n"
          ]
        }
      ],
      "source": [
        "# after delete statement\n",
        "!mysql sakila -e \"SELECT * FROM city ORDER BY city_id DESC LIMIT 5\""
      ]
    },
    {
      "cell_type": "code",
      "execution_count": null,
      "id": "49e1ad3f-2320-4c1b-91ff-97601b3fe7d5",
      "metadata": {
        "id": "49e1ad3f-2320-4c1b-91ff-97601b3fe7d5"
      },
      "outputs": [],
      "source": [
        ""
      ]
    }
  ],
  "metadata": {
    "environment": {
      "kernel": "python3",
      "name": "common-cpu.m94",
      "type": "gcloud",
      "uri": "gcr.io/deeplearning-platform-release/base-cpu:m94"
    },
    "kernelspec": {
      "display_name": "Python 3",
      "language": "python",
      "name": "python3"
    },
    "language_info": {
      "codemirror_mode": {
        "name": "ipython",
        "version": 3
      },
      "file_extension": ".py",
      "mimetype": "text/x-python",
      "name": "python",
      "nbconvert_exporter": "python",
      "pygments_lexer": "ipython3",
      "version": "3.7.12"
    },
    "colab": {
      "name": "project1.ipynb",
      "provenance": []
    }
  },
  "nbformat": 4,
  "nbformat_minor": 5
}
