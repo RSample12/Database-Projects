{
 "cells": [
  {
   "cell_type": "markdown",
   "id": "97caa533-0445-480f-bbee-1ad88c8e1c88",
   "metadata": {},
   "source": [
    "### Q1\n",
    "select count(*) from products;"
   ]
  },
  {
   "cell_type": "code",
   "execution_count": 14,
   "id": "93bddf09-3cc6-4f8f-a0fa-e40123629bc2",
   "metadata": {},
   "outputs": [
    {
     "name": "stdout",
     "output_type": "stream",
     "text": [
      "309370\n"
     ]
    }
   ],
   "source": [
    "!mongo open_food --quiet --eval \"db.products.count()\""
   ]
  },
  {
   "cell_type": "markdown",
   "id": "ba2be012-db28-4ad4-a518-79dce7377188",
   "metadata": {},
   "source": [
    "### Q2\n",
    "select _id, product_name from products where categories = 'Snacks, \n",
    "Sweet snacks, Confectioneries, Candies, Chews';"
   ]
  },
  {
   "cell_type": "code",
   "execution_count": 15,
   "id": "18b76654-4005-45a9-9394-0f2b98c0fabb",
   "metadata": {},
   "outputs": [
    {
     "name": "stdout",
     "output_type": "stream",
     "text": [
      "env: selection={\"categories\" : \"Snacks, Sweet snacks, Confectioneries, Candies, Chews\"}\n",
      "env: projection={\"_id\" : 1, \"product_name\" : 1}\n",
      "{ \"_id\" : \"0071720007105\", \"product_name\" : \"Tootsie Roll\" }\n"
     ]
    }
   ],
   "source": [
    "%env selection = {\"categories\" : \"Snacks, Sweet snacks, Confectioneries, Candies, Chews\"}\n",
    "%env projection = {\"_id\" : 1, \"product_name\" : 1}\n",
    "!mongo open_food --quiet --eval \"db.products.find(${selection}, ${projection}).pretty()\""
   ]
  },
  {
   "cell_type": "markdown",
   "id": "c42ea421-4a3c-4d28-9c88-76a565b33a07",
   "metadata": {},
   "source": [
    "### Q3\n",
    "select _id, code, product_name from products where last_modified_t >= 1601856000;"
   ]
  },
  {
   "cell_type": "code",
   "execution_count": 16,
   "id": "d133946c-fb9d-43b1-b52a-ba855eb0e85d",
   "metadata": {},
   "outputs": [
    {
     "name": "stdout",
     "output_type": "stream",
     "text": [
      "env: selection={\"last_modified_t\" : { $gte: 1601856000}}\n",
      "env: projection={\"_id\" : 1, \"code\" : 1, \"product_name\" : 1}\n",
      "{\n",
      "\t\"_id\" : \"0852909003299\",\n",
      "\t\"product_name\" : \"Almondmilk\",\n",
      "\t\"code\" : \"0852909003299\"\n",
      "}\n",
      "{\n",
      "\t\"_id\" : \"0840423102055\",\n",
      "\t\"code\" : \"0840423102055\",\n",
      "\t\"product_name\" : \"Garlic wine pasta with chicken meatballs with whole wheat rotini, white beans, and greens, cooked in avocado oil, and topped with parmesan and mozzarella, garlic wine pasta with chicken meatballs\"\n",
      "}\n"
     ]
    }
   ],
   "source": [
    "%env selection = {\"last_modified_t\" : { $gte: 1601856000}}\n",
    "%env projection = {\"_id\" : 1, \"code\" : 1, \"product_name\" : 1}\n",
    "!mongo open_food --quiet --eval \"db.products.find(${selection}, ${projection}).pretty()\""
   ]
  },
  {
   "cell_type": "markdown",
   "id": "7cec319c-dd56-4b12-8657-9b2b24b0720e",
   "metadata": {},
   "source": [
    "### Q4\n",
    "select count(*) from products where packaging = 'Plastic';"
   ]
  },
  {
   "cell_type": "code",
   "execution_count": 17,
   "id": "ef0213ba-0ba0-49b6-9cdb-722ed5deac58",
   "metadata": {},
   "outputs": [
    {
     "name": "stdout",
     "output_type": "stream",
     "text": [
      "115\n"
     ]
    }
   ],
   "source": [
    "!mongo open_food --quiet --eval \"db.products.count({'packaging' : 'Plastic'})\""
   ]
  },
  {
   "cell_type": "markdown",
   "id": "0b45f5de-6c69-450d-ab27-7934b459d872",
   "metadata": {},
   "source": [
    "### Q5\n",
    "select _id, code, creator, product_name, brands from products where manufacturing_places = 'Austin, TX' and stores = 'Whole Foods';"
   ]
  },
  {
   "cell_type": "code",
   "execution_count": 18,
   "id": "68c8a389-6116-43ac-8cec-5f8a357bb928",
   "metadata": {},
   "outputs": [
    {
     "name": "stdout",
     "output_type": "stream",
     "text": [
      "env: selection={\"manufacturing_places\" : \"Austin, TX\", \"stores\" : \"Whole Foods\"}\n",
      "env: projection={\"_id\" : 1, \"code\" : 1, \"creator\" : 1, \"product_name\" : 1, \"brands\" : 1}\n",
      "{\n",
      "\t\"_id\" : \"0099482455859\",\n",
      "\t\"creator\" : \"usda-ndb-import\",\n",
      "\t\"brands\" : \"365 Everyday Value,Whole Foods Market  Inc.\",\n",
      "\t\"code\" : \"0099482455859\",\n",
      "\t\"product_name\" : \"Whole Wheat Bread\"\n",
      "}\n"
     ]
    }
   ],
   "source": [
    "%env selection = {\"manufacturing_places\" : \"Austin, TX\", \"stores\" : \"Whole Foods\"}\n",
    "%env projection = {\"_id\" : 1, \"code\" : 1, \"creator\" : 1, \"product_name\" : 1, \"brands\" : 1}\n",
    "!mongo open_food --quiet --eval \"db.products.find(${selection}, ${projection}).pretty()\""
   ]
  },
  {
   "cell_type": "markdown",
   "id": "40a9d43f-989a-4f15-994f-6ae1dbc24888",
   "metadata": {},
   "source": [
    "### Q6\n",
    "select _id, product_name, brands from products where brands in (\"m&m's\", \"mars\", \"Mars\", \"oreo\", \"starburst\") order by product_name limit 5; "
   ]
  },
  {
   "cell_type": "code",
   "execution_count": 19,
   "id": "659fda93-244a-4c02-b381-abf51638f5c9",
   "metadata": {},
   "outputs": [
    {
     "name": "stdout",
     "output_type": "stream",
     "text": [
      "env: selection={\"brands\" : { $in: [\"m&m's\", \"mars\", \"Mars\", \"oreo\", \"starburst\"]}}\n",
      "env: projection={\"product_name\" : 1, \"brands\" : 1}\n",
      "{\n",
      "\t\"_id\" : \"0040000265252\",\n",
      "\t\"brands\" : \"Mars\",\n",
      "\t\"product_name\" : \"Almond & dark chocolate\"\n",
      "}\n",
      "{ \"_id\" : \"0040000422068\", \"brands\" : \"mars\", \"product_name\" : \"BAR\" }\n",
      "{\n",
      "\t\"_id\" : \"0047677386518\",\n",
      "\t\"brands\" : \"m&m's\",\n",
      "\t\"product_name\" : \"M&m's, light ice cream, chocolate\"\n",
      "}\n",
      "{\n",
      "\t\"_id\" : \"0044000029524\",\n",
      "\t\"product_name\" : \"Nabisco oreo cookies double stuf 1x4.1 oz\",\n",
      "\t\"brands\" : \"oreo\"\n",
      "}\n",
      "{\n",
      "\t\"_id\" : \"04005108\",\n",
      "\t\"product_name\" : \"Real fruit juice!\",\n",
      "\t\"brands\" : \"starburst\"\n",
      "}\n"
     ]
    }
   ],
   "source": [
    "%env selection = {\"brands\" : { $in: [\"m&m's\", \"mars\", \"Mars\", \"oreo\", \"starburst\"]}}\n",
    "%env projection = {\"product_name\" : 1, \"brands\" : 1}\n",
    "!mongo open_food --quiet --eval \"db.products.find(${selection}, ${projection}).sort({'product_name': 1}).limit(5).pretty()\""
   ]
  },
  {
   "cell_type": "markdown",
   "id": "f9eaaa01-9990-48d1-8b9c-243f5b3c9faf",
   "metadata": {},
   "source": [
    "### Q7\n",
    "select _id, product_name, countries, ingredients.text, \n",
    "ingredients.rank, nutriments.carbohydrates_serving \n",
    "from products \n",
    "where nutriments.carbohydrates_serving between 18 and 25 order by \n",
    "ingredients.rank DESC  \n",
    "limit 5;"
   ]
  },
  {
   "cell_type": "code",
   "execution_count": 20,
   "id": "ceae5550-b422-42d4-bc44-c15738de7e15",
   "metadata": {},
   "outputs": [
    {
     "name": "stdout",
     "output_type": "stream",
     "text": [
      "env: selection={\"nutriments.carbohydrates_serving\" : {$gt : 18}, \"nutriments.carbohydrates_serving\" : {$lt : 25}}\n",
      "env: projection={\"product_name\" : 1, \"countries\" : 1, \"ingredients.text\" : 1, \"ingredients.rank\" : 1, \"nutriments.carbohydrates_serving\" : 1}\n",
      "{\n",
      "\t\"_id\" : \"0000000018500\",\n",
      "\t\"ingredients\" : [\n",
      "\t\t{\n",
      "\t\t\t\"rank\" : 1,\n",
      "\t\t\t\"text\" : \"Coconut bar\"\n",
      "\t\t},\n",
      "\t\t{\n",
      "\t\t\t\"text\" : \"dark chocolate coating\",\n",
      "\t\t\t\"rank\" : 2\n",
      "\t\t},\n",
      "\t\t{\n",
      "\t\t\t\"text\" : \"coconut\"\n",
      "\t\t},\n",
      "\t\t{\n",
      "\t\t\t\"text\" : \"brown rice syrup\"\n",
      "\t\t},\n",
      "\t\t{\n",
      "\t\t\t\"text\" : \"chocolate\"\n",
      "\t\t},\n",
      "\t\t{\n",
      "\t\t\t\"text\" : \"dehydrated cane juice\"\n",
      "\t\t},\n",
      "\t\t{\n",
      "\t\t\t\"text\" : \"cocoa butter\"\n",
      "\t\t},\n",
      "\t\t{\n",
      "\t\t\t\"text\" : \"soy lecithin\"\n",
      "\t\t},\n",
      "\t\t{\n",
      "\t\t\t\"text\" : \"natural vanilla\"\n",
      "\t\t},\n",
      "\t\t{\n",
      "\t\t\t\"text\" : \"as an emulsifier\"\n",
      "\t\t}\n",
      "\t],\n",
      "\t\"nutriments\" : {\n",
      "\t\t\"carbohydrates_serving\" : 21\n",
      "\t},\n",
      "\t\"product_name\" : \"Dark Chocolate Coconut Chews\",\n",
      "\t\"countries\" : \"United States\"\n",
      "}\n",
      "{\n",
      "\t\"_id\" : \"0000000018517\",\n",
      "\t\"ingredients\" : [\n",
      "\t\t{\n",
      "\t\t\t\"text\" : \"semi-sweet chocolate chips\",\n",
      "\t\t\t\"rank\" : 1\n",
      "\t\t},\n",
      "\t\t{\n",
      "\t\t\t\"rank\" : 2,\n",
      "\t\t\t\"text\" : \"pumpkin seeds\"\n",
      "\t\t},\n",
      "\t\t{\n",
      "\t\t\t\"text\" : \"almonds\",\n",
      "\t\t\t\"rank\" : 3\n",
      "\t\t},\n",
      "\t\t{\n",
      "\t\t\t\"text\" : \"cranberries\",\n",
      "\t\t\t\"rank\" : 4\n",
      "\t\t},\n",
      "\t\t{\n",
      "\t\t\t\"text\" : \"raisins\",\n",
      "\t\t\t\"rank\" : 5\n",
      "\t\t},\n",
      "\t\t{\n",
      "\t\t\t\"rank\" : 6,\n",
      "\t\t\t\"text\" : \"coconut\"\n",
      "\t\t},\n",
      "\t\t{\n",
      "\t\t\t\"rank\" : 7,\n",
      "\t\t\t\"text\" : \"sunflower seeds\"\n",
      "\t\t},\n",
      "\t\t{\n",
      "\t\t\t\"text\" : \"sugar\"\n",
      "\t\t},\n",
      "\t\t{\n",
      "\t\t\t\"text\" : \"chocolate liquor\"\n",
      "\t\t},\n",
      "\t\t{\n",
      "\t\t\t\"text\" : \"cocoa butter\"\n",
      "\t\t},\n",
      "\t\t{\n",
      "\t\t\t\"text\" : \"soy lecithin\"\n",
      "\t\t},\n",
      "\t\t{\n",
      "\t\t\t\"text\" : \"vanilla\"\n",
      "\t\t},\n",
      "\t\t{\n",
      "\t\t\t\"text\" : \"sweetened with cane juice\"\n",
      "\t\t}\n",
      "\t],\n",
      "\t\"nutriments\" : {\n",
      "\t\t\"carbohydrates_serving\" : 13\n",
      "\t},\n",
      "\t\"product_name\" : \"Seventh Heaven Organic Trail Mix\",\n",
      "\t\"countries\" : \"United States\"\n",
      "}\n",
      "{\n",
      "\t\"_id\" : \"0000000017497\",\n",
      "\t\"countries\" : \"United States\",\n",
      "\t\"product_name\" : \"Organic Spicy Punks\",\n",
      "\t\"nutriments\" : {\n",
      "\t\t\"carbohydrates_serving\" : 5\n",
      "\t},\n",
      "\t\"ingredients\" : [\n",
      "\t\t{\n",
      "\t\t\t\"rank\" : 1,\n",
      "\t\t\t\"text\" : \"pumpkin seeds\"\n",
      "\t\t},\n",
      "\t\t{\n",
      "\t\t\t\"rank\" : 2,\n",
      "\t\t\t\"text\" : \"tamari\"\n",
      "\t\t},\n",
      "\t\t{\n",
      "\t\t\t\"text\" : \"garlic\",\n",
      "\t\t\t\"rank\" : 3\n",
      "\t\t},\n",
      "\t\t{\n",
      "\t\t\t\"text\" : \"cayenne\",\n",
      "\t\t\t\"rank\" : 4\n",
      "\t\t},\n",
      "\t\t{\n",
      "\t\t\t\"text\" : \"soybeans\"\n",
      "\t\t},\n",
      "\t\t{\n",
      "\t\t\t\"text\" : \"water\"\n",
      "\t\t},\n",
      "\t\t{\n",
      "\t\t\t\"text\" : \"salt\"\n",
      "\t\t}\n",
      "\t]\n",
      "}\n",
      "{\n",
      "\t\"_id\" : \"0000000004530\",\n",
      "\t\"countries\" : \"United States\",\n",
      "\t\"product_name\" : \"Banana Chips Sweetened (Whole)\",\n",
      "\t\"ingredients\" : [\n",
      "\t\t{\n",
      "\t\t\t\"rank\" : 1,\n",
      "\t\t\t\"text\" : \"Bananas\"\n",
      "\t\t},\n",
      "\t\t{\n",
      "\t\t\t\"rank\" : 2,\n",
      "\t\t\t\"text\" : \"vegetable oil\"\n",
      "\t\t},\n",
      "\t\t{\n",
      "\t\t\t\"rank\" : 3,\n",
      "\t\t\t\"text\" : \"sugar\"\n",
      "\t\t},\n",
      "\t\t{\n",
      "\t\t\t\"rank\" : 4,\n",
      "\t\t\t\"text\" : \"natural banana flavor\"\n",
      "\t\t},\n",
      "\t\t{\n",
      "\t\t\t\"text\" : \"coconut oil\"\n",
      "\t\t},\n",
      "\t\t{\n",
      "\t\t\t\"text\" : \"corn oil\"\n",
      "\t\t},\n",
      "\t\t{\n",
      "\t\t\t\"text\" : \"palm oil\"\n",
      "\t\t}\n",
      "\t],\n",
      "\t\"nutriments\" : {\n",
      "\t\t\"carbohydrates_serving\" : 18\n",
      "\t}\n",
      "}\n",
      "{\n",
      "\t\"_id\" : \"0000000018418\",\n",
      "\t\"countries\" : \"United States\",\n",
      "\t\"product_name\" : \"Wasabi Tamari Almonds\",\n",
      "\t\"ingredients\" : [\n",
      "\t\t{\n",
      "\t\t\t\"text\" : \"Almonds\",\n",
      "\t\t\t\"rank\" : 1\n",
      "\t\t},\n",
      "\t\t{\n",
      "\t\t\t\"text\" : \"wasabi spice\",\n",
      "\t\t\t\"rank\" : 2\n",
      "\t\t},\n",
      "\t\t{\n",
      "\t\t\t\"text\" : \"tamari shoyu sauce\",\n",
      "\t\t\t\"rank\" : 3\n",
      "\t\t},\n",
      "\t\t{\n",
      "\t\t\t\"text\" : \"salt\"\n",
      "\t\t},\n",
      "\t\t{\n",
      "\t\t\t\"text\" : \"rice flour\"\n",
      "\t\t},\n",
      "\t\t{\n",
      "\t\t\t\"text\" : \"evaporated cane juice\"\n",
      "\t\t},\n",
      "\t\t{\n",
      "\t\t\t\"text\" : \"onion powder\"\n",
      "\t\t},\n",
      "\t\t{\n",
      "\t\t\t\"text\" : \"spice extracts\"\n",
      "\t\t},\n",
      "\t\t{\n",
      "\t\t\t\"text\" : \"horseradish\"\n",
      "\t\t},\n",
      "\t\t{\n",
      "\t\t\t\"text\" : \"yeast extract\"\n",
      "\t\t},\n",
      "\t\t{\n",
      "\t\t\t\"text\" : \"parsley\"\n",
      "\t\t},\n",
      "\t\t{\n",
      "\t\t\t\"text\" : \"spice\"\n",
      "\t\t},\n",
      "\t\t{\n",
      "\t\t\t\"text\" : \"garlic powder\"\n",
      "\t\t},\n",
      "\t\t{\n",
      "\t\t\t\"text\" : \"citric acid\"\n",
      "\t\t},\n",
      "\t\t{\n",
      "\t\t\t\"text\" : \"water\"\n",
      "\t\t},\n",
      "\t\t{\n",
      "\t\t\t\"text\" : \"soybeans\"\n",
      "\t\t},\n",
      "\t\t{\n",
      "\t\t\t\"text\" : \"salt\"\n",
      "\t\t},\n",
      "\t\t{\n",
      "\t\t\t\"text\" : \"wheat\"\n",
      "\t\t}\n",
      "\t],\n",
      "\t\"nutriments\" : {\n",
      "\t\t\"carbohydrates_serving\" : 7\n",
      "\t}\n",
      "}\n"
     ]
    }
   ],
   "source": [
    "%env selection = {\"nutriments.carbohydrates_serving\" : {$gt : 18}, \"nutriments.carbohydrates_serving\" : {$lt : 25}}\n",
    "%env projection = {\"product_name\" : 1, \"countries\" : 1, \"ingredients.text\" : 1, \"ingredients.rank\" : 1, \"nutriments.carbohydrates_serving\" : 1}\n",
    "!mongo open_food --quiet --eval \"db.products.find(${selection}, ${projection}).sort({'ingredients_rank' : -1}).limit(5).pretty()\""
   ]
  },
  {
   "cell_type": "markdown",
   "id": "e562252b-07e0-4f8f-9060-cda34afd1a22",
   "metadata": {},
   "source": [
    "### Part 5: Insert"
   ]
  },
  {
   "cell_type": "code",
   "execution_count": 49,
   "id": "6eb42bbe-e2cf-427f-86a9-f1c928b6c9bd",
   "metadata": {},
   "outputs": [
    {
     "name": "stdout",
     "output_type": "stream",
     "text": [
      "env: document={\"product_name\": \"Cookies and Cream Bar\", \"brands\": \"Hershey\", \"countries\": \"United States\", \"code\": \"123456789\", \"manufacturing_places\": \"Dallas, TX\",}\n",
      "{\n",
      "\t\"acknowledged\" : true,\n",
      "\t\"insertedId\" : ObjectId(\"62f08150e2b48e3cb18a4482\")\n",
      "}\n"
     ]
    }
   ],
   "source": [
    "# Insert new document\n",
    "%env document = {\"product_name\": \"Cookies and Cream Bar\", \"brands\": \"Hershey\", \"countries\": \"United States\", \"code\": \"123456789\", \"manufacturing_places\": \"Dallas, TX\",}\n",
    "!mongo open_food --quiet --eval \"db.products.insertOne(${document})\""
   ]
  },
  {
   "cell_type": "code",
   "execution_count": 50,
   "id": "13b43d9f-eabc-437b-a76e-b22aaf35e508",
   "metadata": {},
   "outputs": [
    {
     "name": "stdout",
     "output_type": "stream",
     "text": [
      "env: selection={\"product_name\": \"Cookies and Cream Bar\", \"brands\": \"Hershey\"}\n",
      "env: projection={\"product_name\": 1, \"brands\": 1, \"countries\": 1, \"code\": 1, \"manufacturing_places\": 1}\n",
      "{\n",
      "\t\"_id\" : ObjectId(\"62f08150e2b48e3cb18a4482\"),\n",
      "\t\"product_name\" : \"Cookies and Cream Bar\",\n",
      "\t\"brands\" : \"Hershey\",\n",
      "\t\"countries\" : \"United States\",\n",
      "\t\"code\" : \"123456789\",\n",
      "\t\"manufacturing_places\" : \"Dallas, TX\"\n",
      "}\n"
     ]
    }
   ],
   "source": [
    "# read back the new document\n",
    "%env selection = {\"product_name\": \"Cookies and Cream Bar\", \"brands\": \"Hershey\"}\n",
    "%env projection = {\"product_name\": 1, \"brands\": 1, \"countries\": 1, \"code\": 1, \"manufacturing_places\": 1}\n",
    "!mongo open_food --quiet --eval \"db.products.find(${selection}, ${projection}).pretty()\""
   ]
  },
  {
   "cell_type": "markdown",
   "id": "485c885d-a988-476d-836d-63645bf4faea",
   "metadata": {},
   "source": [
    "### Part 6: Update"
   ]
  },
  {
   "cell_type": "code",
   "execution_count": 51,
   "id": "8c470bfc-de37-4ff2-8604-53ddd0799b36",
   "metadata": {},
   "outputs": [
    {
     "name": "stdout",
     "output_type": "stream",
     "text": [
      "env: selection={\"code\": \"123456789\", \"brands\": \"Hershey\"}\n",
      "env: update_to={$set: {\"manufacturing_places\": \"Austin, TX\", \"product_name\": \"Peanut Butter Bar\"}}\n",
      "{ \"acknowledged\" : true, \"matchedCount\" : 1, \"modifiedCount\" : 1 }\n"
     ]
    }
   ],
   "source": [
    "# Update document\n",
    "%env selection = {\"code\": \"123456789\", \"brands\": \"Hershey\"}\n",
    "%env update_to = {$set: {\"manufacturing_places\": \"Austin, TX\", \"product_name\": \"Peanut Butter Bar\"}}\n",
    "!mongo open_food --quiet --eval \"db.products.updateOne(${selection}, ${update_to})\""
   ]
  },
  {
   "cell_type": "code",
   "execution_count": 52,
   "id": "46aece3d-ad29-476e-bedd-e7103d6ef2bb",
   "metadata": {},
   "outputs": [
    {
     "name": "stdout",
     "output_type": "stream",
     "text": [
      "env: selection={\"product_name\": \"Peanut Butter Bar\", \"brands\": \"Hershey\"}\n",
      "env: projection={\"product_name\": 1, \"brands\": 1, \"countries\": 1, \"code\": 1, \"manufacturing_places\": 1}\n",
      "{\n",
      "\t\"_id\" : ObjectId(\"62f08150e2b48e3cb18a4482\"),\n",
      "\t\"product_name\" : \"Peanut Butter Bar\",\n",
      "\t\"brands\" : \"Hershey\",\n",
      "\t\"countries\" : \"United States\",\n",
      "\t\"code\" : \"123456789\",\n",
      "\t\"manufacturing_places\" : \"Austin, TX\"\n",
      "}\n"
     ]
    }
   ],
   "source": [
    "# read back the updated document\n",
    "%env selection = {\"product_name\": \"Peanut Butter Bar\", \"brands\": \"Hershey\"}\n",
    "%env projection = {\"product_name\": 1, \"brands\": 1, \"countries\": 1, \"code\": 1, \"manufacturing_places\": 1}\n",
    "!mongo open_food --quiet --eval \"db.products.find(${selection}, ${projection}).pretty()\""
   ]
  },
  {
   "cell_type": "markdown",
   "id": "b396cb1a-23a2-4d90-be6f-1dcf6c0c40cc",
   "metadata": {},
   "source": [
    "### Part 7: Delete"
   ]
  },
  {
   "cell_type": "code",
   "execution_count": 53,
   "id": "c2eba0c8-90d5-47a8-9801-dba3241a778f",
   "metadata": {},
   "outputs": [
    {
     "name": "stdout",
     "output_type": "stream",
     "text": [
      "env: selection={\"code\": \"123456789\", \"brands\": \"Hershey\"}\n",
      "{ \"acknowledged\" : true, \"deletedCount\" : 1 }\n"
     ]
    }
   ],
   "source": [
    "%env selection = {\"code\": \"123456789\", \"brands\": \"Hershey\"}\n",
    "!mongo open_food --quiet --eval \"db.products.deleteOne(${selection})\""
   ]
  },
  {
   "cell_type": "code",
   "execution_count": 54,
   "id": "6e1b869f-1c73-418f-a617-c83c89e75ec4",
   "metadata": {},
   "outputs": [
    {
     "name": "stdout",
     "output_type": "stream",
     "text": [
      "env: selection={\"code\": \"123456789\", \"brands\": \"Hershey\"}\n",
      "env: projection={\"product_name\": 1, \"brands\": 1, \"countries\": 1, \"code\": 1, \"manufacturing_places\": 1}\n"
     ]
    }
   ],
   "source": [
    "# read back the deleted document\n",
    "%env selection = {\"code\": \"123456789\", \"brands\": \"Hershey\"}\n",
    "%env projection = {\"product_name\": 1, \"brands\": 1, \"countries\": 1, \"code\": 1, \"manufacturing_places\": 1}\n",
    "!mongo open_food --quiet --eval \"db.products.find(${selection}, ${projection})\""
   ]
  },
  {
   "cell_type": "code",
   "execution_count": null,
   "id": "f46bcb35-32e7-4958-a8ed-bf2921035429",
   "metadata": {},
   "outputs": [],
   "source": []
  }
 ],
 "metadata": {
  "environment": {
   "kernel": "python3",
   "name": "common-cpu.m94",
   "type": "gcloud",
   "uri": "gcr.io/deeplearning-platform-release/base-cpu:m94"
  },
  "kernelspec": {
   "display_name": "Python 3",
   "language": "python",
   "name": "python3"
  },
  "language_info": {
   "codemirror_mode": {
    "name": "ipython",
    "version": 3
   },
   "file_extension": ".py",
   "mimetype": "text/x-python",
   "name": "python",
   "nbconvert_exporter": "python",
   "pygments_lexer": "ipython3",
   "version": "3.7.12"
  }
 },
 "nbformat": 4,
 "nbformat_minor": 5
}
